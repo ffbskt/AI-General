{
 "cells": [
  {
   "cell_type": "code",
   "execution_count": 25,
   "metadata": {},
   "outputs": [],
   "source": [
    "import numpy as np\n",
    "#from models import Model, Trainer\n",
    "from Enviroment import Env\n",
    "from MCTS import MCTS\n",
    "\n",
    "class dotdict(dict):\n",
    "    def __getattr__(self, name):\n",
    "        return self[name]\n",
    "\n",
    "env = Env(1,1)\n"
   ]
  },
  {
   "cell_type": "code",
   "execution_count": 7,
   "metadata": {},
   "outputs": [],
   "source": [
    "import torch\n",
    "from torch import Tensor, nn\n",
    "import torch.optim as optim\n",
    "from torch.autograd import Variable\n",
    "import torch.nn.functional as F\n",
    "\n",
    "class Model(nn.Module):\n",
    "    def __init__(self):\n",
    "        super(Model, self).__init__()\n",
    "        self.cnv1 = nn.Conv1d(1,6,8)\n",
    "        self.fc1 = nn.Linear(18, 64)\n",
    "        self.fc2 = nn.Linear(64, 64)\n",
    "        self.action_prob_out = nn.Linear(64, 8)\n",
    "        #self.val0 = nn.Linear(40, 80)\n",
    "        self.val = nn.Linear(64, 1)\n",
    "\n",
    "    def forward(self, x):\n",
    "        #print(x.shape)\n",
    "        #x = x.view(-1,17)\n",
    "        #x = self.cnv1(x.view(1, 1,-1))\n",
    "        # print(x.shape)\n",
    "        #x = torch.flatten(x, start_dim=1)\n",
    "        x = F.relu(self.fc1(x))\n",
    "        x = F.relu(self.fc2(x))\n",
    "        act_prob = F.softmax(self.action_prob_out(x), dim=-1)\n",
    "        #val = F.tanh(self.val(x))\n",
    "        val = self.val(x)\n",
    "        #val_sum = self.val_sum_out(val)\n",
    "\n",
    "        return act_prob, val\n",
    "\n",
    "    def predict(self, x):\n",
    "        self.eval()\n",
    "        #x = Variable(Tensor(x))\n",
    "        act_prob, val = self.forward(x)\n",
    "        return act_prob.data.numpy(), val.data.numpy()\n",
    "    \n",
    "    def get_observation(self, formula, env, time=0):\n",
    "        reward, state = env.get_observation(formula)\n",
    "        values_norm = np.array(list(state.values()))\n",
    "        inp, out, err = env.inp, env.out, reward\n",
    "        #if np.sum(values_norm) != 0:\n",
    "        #    values_norm = values_norm / np.sum(values_norm)\n",
    "        s = inp + out\n",
    "        inp = inp / s\n",
    "        out = out / s\n",
    "        if values_norm.shape[0] != 6:\n",
    "            print('ERROR', self.result, values_norm.shape, self.one_hot_last(formula, env.action_space).shape)\n",
    "        time = np.sin(time/100)\n",
    "        head = np.hstack([np.array([inp, out, err, time]), \n",
    "                          values_norm, \n",
    "                          self.one_hot_last(formula, env.action_space)\n",
    "                         ])\n",
    "        return Variable(Tensor(head))\n",
    "\n",
    "    def one_hot_last(self, formula, act_sp, n_last=1):\n",
    "        matrix = np.zeros([n_last * len(act_sp)])\n",
    "        for i, f in enumerate(formula[-n_last:]):\n",
    "            k = n_last - min(len(formula), n_last)  # start from last line\n",
    "            matrix[act_sp.index(f) + (k + i) * 8] = 1\n",
    "        return matrix\n",
    "\n",
    "    \n",
    "\n",
    "\n",
    "def get_batchX(nodes_buc, batch_size=20):\n",
    "    \"\"\"remove all nodes that have not history\"\"\"\n",
    "    n = len(nodes_buc)\n",
    "    index = [\n",
    "        np.random.randint(0, n - 1)\n",
    "        for _ in range(batch_size)\n",
    "    ]\n",
    "    #print(len(self.replay), index, [self.replay[i] for i in index]   )\n",
    "    return index#[nodes_buc[i] for i in index]\n",
    "\n",
    "def clean_unpredict_node(nodes_buc):\n",
    "    \"\"\" \n",
    "     each leaf when we visit has 8 childrens, \n",
    "     but most of it never choose and we do not reward on it. \n",
    "     We should remowe all those leaf. ## what about terminal??\n",
    "    \"\"\"\n",
    "    new_buck = []\n",
    "    for node in nodes_buc:\n",
    "        if len(node.history_data['next_node_ind']):\n",
    "            new_buck.append(node)\n",
    "    return new_buck\n",
    "\n",
    "def train_model(Xa,yr,yp, model, batch_size=30, net_iters=200):\n",
    "    optimizer = optim.SGD(model.parameters(), lr=0.1)#, momentum=0.03, weight_decay=0.1)\n",
    "    loss_backet = []\n",
    "    #validate_back = []\n",
    "    for i in range(net_iters):\n",
    "        #batch = #self.get_batch(nodes_buc, batch_size=batch_size or self.batch_size)\n",
    "        # print(batch)\n",
    "        ind = get_batch(Xa)\n",
    "\n",
    "        X, real_reward, real_prob = Xa[ind], yr[ind], yp[ind]#self.transform_bach_as_input(batch, model)\n",
    "\n",
    "\n",
    "        #print(i, real_prob.shape)\n",
    "        model.train()\n",
    "        #for x, rr, rp in zip(X, real_reward, real_prob):\n",
    "            #print(xx, rrr,rpp)\n",
    "        optimizer.zero_grad()\n",
    "        #print(X)\n",
    "        p_pred, v_pred = model(X)\n",
    "        # print('pr  ', probability, 'pp  ', p_pred)\n",
    "        val_loss = torch.mean((Variable(Tensor(real_reward)) - v_pred) ** 2)  # , Variable(Tensor([10]))\n",
    "        #loss = val_loss - torch.mean(Variable(Tensor(real_prob)) * torch.log(p_pred))\n",
    "        loss = - torch.mean(Variable(Tensor(real_prob)) * torch.log(p_pred))\n",
    "        #print(loss, rpp, p_pred)\n",
    "        loss.backward()\n",
    "        optimizer.step()\n",
    "        loss_backet.append(loss.data.numpy())\n",
    "        \n",
    "    return loss_backet\n"
   ]
  },
  {
   "cell_type": "code",
   "execution_count": null,
   "metadata": {},
   "outputs": [],
   "source": []
  },
  {
   "cell_type": "code",
   "execution_count": 30,
   "metadata": {
    "scrolled": true
   },
   "outputs": [
    {
     "name": "stdout",
     "output_type": "stream",
     "text": [
      "iso 1\n",
      "ieo 1\n",
      "is1so 1\n",
      "isBso 1\n",
      "isAeo 1\n",
      "iiso 1\n",
      "isAso 1\n",
      "isBeo 1\n",
      "isCeo 1\n",
      "isCso 1\n",
      "iieo 1\n",
      "iAiso 1\n",
      "is1eo 1\n",
      "ieAeCsBs1iiAso 1\n",
      "Biso 1\n",
      "1iso 1\n",
      "eiso 1\n"
     ]
    }
   ],
   "source": [
    "model = Model()\n",
    "args = dotdict({'cpuct':0.5, 'iters':10000})\n",
    "mcts = MCTS(env, model, args)\n",
    "val = list(mcts.sampling())\n",
    "for n in val:\n",
    "    if n.formula and n.immediate_reward == 1:\n",
    "        print(n.formula, n.immediate_reward)"
   ]
  },
  {
   "cell_type": "code",
   "execution_count": 31,
   "metadata": {},
   "outputs": [
    {
     "name": "stdout",
     "output_type": "stream",
     "text": [
      "7407 5941\n"
     ]
    }
   ],
   "source": [
    "from sklearn.model_selection import train_test_split\n",
    "\n",
    "val2 = clean_unpredict_node(val) # from deep down\n",
    "print(len(val), len(val2))\n",
    "train_cur, test_cur = val2, val2#train_test_split(val, shuffle=True)"
   ]
  },
  {
   "cell_type": "code",
   "execution_count": 42,
   "metadata": {},
   "outputs": [],
   "source": [
    "def fill_fin_prob(nodes):\n",
    "    for i in nodes:\n",
    "        act_count = np.zeros(8)\n",
    "        i.fin_prob = act_count + 1/8\n",
    "        #print(i.formula, len(i.history_data['next_node_ind']))\n",
    "        for act in i.history_data['next_node_ind']:\n",
    "            act_count[act] += 1\n",
    "        if len(i.history_data['next_node_ind']):\n",
    "            i.fin_prob = act_count / len(i.history_data['next_node_ind'])"
   ]
  },
  {
   "cell_type": "code",
   "execution_count": 37,
   "metadata": {},
   "outputs": [
    {
     "name": "stdout",
     "output_type": "stream",
     "text": [
      "is 0 [0.03, 0.03, 0.83, 0.04, 0.03, 0.03, 0.01, 0.01]\n",
      "Ais 0 [0.0, 0.0, 0.0, 0.67, 0.33, 0.0, 0.0, 0.0]\n",
      "Bis 0 [0.0, 0.0, 0.14, 0.57, 0.29, 0.0, 0.0, 0.0]\n",
      "Cis 0 [0.0, 0.0, 0.0, 0.0, 1.0, 0.0, 0.0, 0.0]\n",
      "iis 0 [0.12, 0.03, 0.12, 0.07, 0.24, 0.32, 0.04, 0.05]\n",
      "1is 0 [0.0, 0.0, 0.14, 0.57, 0.29, 0.0, 0.0, 0.0]\n",
      "eis 0 [0.0, 0.0, 0.14, 0.57, 0.29, 0.0, 0.0, 0.0]\n",
      "sis 0 [0.0, 0.0, 0.0, 0.67, 0.33, 0.0, 0.0, 0.0]\n",
      "isis 0 [0.11, 0.24, 0.02, 0.29, 0.07, 0.11, 0.11, 0.04]\n",
      "ieAis 0 [0.0, 0.0, 0.0, 0.0, 0.0, 0.0, 0.0, 1.0]\n",
      "isACA1iBCAAsis 0 [0.0, 1.0, 0.0, 0.0, 0.0, 0.0, 0.0, 0.0]\n",
      "isACA1iBCAAsisis 0 [0.0, 0.0, 0.0, 0.0, 0.0, 0.0, 0.0, 1.0]\n",
      "ieis 0 [1.0, 0.0, 0.0, 0.0, 0.0, 0.0, 0.0, 0.0]\n",
      "iAis 0 [0.0, 0.0, 0.2, 0.3, 0.5, 0.0, 0.0, 0.0]\n",
      "is1sis 0 [0.0, 0.0, 0.0, 0.0, 0.0, 0.0, 0.0, 1.0]\n",
      "i1is 0 [1.0, 0.0, 0.0, 0.0, 0.0, 0.0, 0.0, 0.0]\n",
      "isAeis 0 [0.0, 0.0, 0.0, 0.0, 0.0, 0.0, 1.0, 0.0]\n",
      "isAAis 0 [0.0, 0.0, 0.0, 0.0, 0.0, 0.0, 0.0, 1.0]\n",
      "iBis 0 [1.0, 0.0, 0.0, 0.0, 0.0, 0.0, 0.0, 0.0]\n",
      "isBis 0 [0.0, 0.0, 0.0, 0.0, 0.0, 0.0, 0.0, 1.0]\n",
      "isBAis 0 [0.0, 0.0, 0.0, 0.0, 0.0, 0.0, 0.0, 1.0]\n",
      "isAis 0 [0.0, 0.0, 0.0, 0.25, 0.0, 0.75, 0.0, 0.0]\n",
      "iAsis 0 [0.0, 0.0, 0.0, 0.0, 0.0, 0.0, 0.0, 1.0]\n",
      "is1eis 0 [0.0, 0.0, 0.0, 0.0, 0.0, 0.0, 1.0, 0.0]\n",
      "iiis 0 [1.0, 0.0, 0.0, 0.0, 0.0, 0.0, 0.0, 0.0]\n",
      "iC1is 0 [0.0, 0.0, 0.0, 0.0, 0.0, 0.0, 0.0, 1.0]\n",
      "is1Ais 0 [0.0, 0.0, 0.0, 0.0, 0.0, 0.0, 0.0, 1.0]\n",
      "iCis 0 [0.0, 0.0, 0.0, 0.0, 0.0, 0.0, 1.0, 0.0]\n",
      "iACis 0 [0.0, 0.0, 0.0, 0.0, 0.0, 0.0, 0.0, 1.0]\n",
      "isiBis 0 [0.0, 0.0, 0.0, 0.0, 0.0, 0.0, 0.0, 1.0]\n",
      "isB1is 0 [0.0, 0.0, 0.0, 0.0, 0.0, 0.0, 0.0, 1.0]\n",
      "i1eis 0 [0.0, 0.0, 0.0, 0.0, 0.0, 0.0, 0.0, 1.0]\n",
      "is1is 0 [0.0, 0.0, 0.0, 0.0, 0.0, 0.0, 0.0, 1.0]\n",
      "isiis 0 [0.0, 0.0, 0.0, 0.0, 0.0, 0.0, 1.0, 0.0]\n",
      "isACis 0 [0.0, 0.0, 0.0, 0.0, 0.0, 0.0, 0.0, 1.0]\n",
      "iCeis 0 [0.0, 0.0, 0.0, 0.0, 0.0, 0.0, 0.0, 1.0]\n",
      "iiCis 0 [0.0, 0.0, 0.0, 0.0, 0.0, 0.0, 1.0, 0.0]\n",
      "iCiis 0 [0.0, 0.0, 0.0, 0.0, 0.0, 0.0, 0.0, 1.0]\n",
      "eiis 0 [0.0, 0.0, 0.0, 0.0, 0.0, 0.0, 1.0, 0.0]\n",
      "ii1is 0 [0.0, 0.0, 0.0, 0.0, 0.0, 0.0, 1.0, 0.0]\n",
      "isCBis 0 [0.0, 0.0, 0.0, 0.0, 0.0, 0.0, 1.0, 0.0]\n",
      "is1Cis 0 [0.0, 0.0, 0.0, 0.0, 0.0, 0.0, 1.0, 0.0]\n",
      "isCis 0 [0.0, 0.0, 0.0, 0.0, 0.0, 0.0, 1.0, 0.0]\n",
      "iiiis 0 [0.0, 0.0, 0.0, 0.0, 0.0, 0.0, 0.0, 1.0]\n"
     ]
    }
   ],
   "source": [
    "for n in val2:\n",
    "    if n.formula and n.formula[-2:] == 'is':\n",
    "        print(n.formula, n.immediate_reward, [float('%.2f' % elem) for elem in n.fin_prob])"
   ]
  },
  {
   "cell_type": "code",
   "execution_count": 34,
   "metadata": {},
   "outputs": [
    {
     "data": {
      "text/plain": [
       "('1', 'i', 'o', 'A', 'B', 'C', 's', 'e')"
      ]
     },
     "execution_count": 34,
     "metadata": {},
     "output_type": "execute_result"
    }
   ],
   "source": [
    "Env.action_space"
   ]
  },
  {
   "cell_type": "markdown",
   "metadata": {},
   "source": [
    "# Adwersarial game"
   ]
  },
  {
   "cell_type": "code",
   "execution_count": 63,
   "metadata": {},
   "outputs": [],
   "source": [
    "model1 =Model()# LSTMTagger()#Model()\n",
    "model2 =Model()\n",
    "env1 = Env(1,1)\n",
    "env2 = Env(1,1)\n",
    "\n",
    "args = dotdict({'cpuct':0.5, 'iters':1000})\n",
    "mcts1 = MCTS(env1, model, args)\n",
    "mcts2 = MCTS(env2, model, args)\n",
    "\n",
    "\n",
    "def play_game(mcts1, mcts2):\n",
    "    game_end = 0\n",
    "    score = [0, 0]\n",
    "    while not game_end:\n",
    "        node1 = mcts1.select_best_leaf()\n",
    "        r1 = node1.immediate_reward\n",
    "\n",
    "        node2 = mcts2.select_best_leaf()\n",
    "        r2 = node2.immediate_reward\n",
    "        #print(len(mcts1.Nodes) == len(mcts2.Nodes))\n",
    "        \n",
    "\n",
    "        \n",
    "        if r1 < 0 or r2 < 0:\n",
    "            mcts1.propagate(node1)\n",
    "            mcts2.propagate(node2)\n",
    "        elif r1 > 0 and r2 > 0:\n",
    "            mcts1.propagate(node1)\n",
    "            mcts2.propagate(node2)\n",
    "        elif r1 > 0:\n",
    "            node2.immediate_reward = -1\n",
    "            mcts1.propagate(node1)\n",
    "            mcts2.propagate(node2)\n",
    "        elif r2 > 0:\n",
    "            node1.immediate_reward = -1\n",
    "            mcts1.propagate(node1)\n",
    "            mcts2.propagate(node2)\n",
    "        if r1 != 0 or r2 != 0:\n",
    "            score[0] += node1.immediate_reward\n",
    "            score[1] += node2.immediate_reward\n",
    "            game_end = 1\n",
    "            mcts1.Nodes[node1.formula] = node1\n",
    "            mcts2.Nodes[node2.formula] = node2\n",
    "            break\n",
    "        \n",
    "        #if r1>0 or r2>0:\n",
    "        #    print(node1.formula, game_end)\n",
    "        #    print(node2.formula, game_end)\n",
    "\n",
    "        mcts1.Nodes[node1.formula] = node1\n",
    "        mcts2.Nodes[node2.formula] = node2\n",
    "\n",
    "        pred_P, pred_R = mcts1.model.predict(mcts1.model.get_observation(node1.formula, mcts1.env, mcts1.iter_timer)) # if simple model self.env.observation\n",
    "        mcts1.expand(node1, pred_P)\n",
    "\n",
    "        pred_P, pred_R = mcts2.model.predict(mcts2.model.get_observation(node2.formula, mcts2.env, mcts2.iter_timer)) # if simple model self.env.observation\n",
    "        mcts2.expand(node2, pred_P)\n",
    "    \n",
    "    return score, r1, r2"
   ]
  },
  {
   "cell_type": "code",
   "execution_count": 72,
   "metadata": {},
   "outputs": [
    {
     "name": "stdout",
     "output_type": "stream",
     "text": [
      "0 100 200 300 400 500 600 700 800 900 1000 1100 1200 1300 1400 1500 1600 1700 1800 1900 "
     ]
    }
   ],
   "source": [
    "all_nodes = []\n",
    "v = [0,0]\n",
    "for i in range(1):\n",
    "    mcts1 = MCTS(env1, model1, args)\n",
    "    mcts2 = MCTS(env2, model2, args)\n",
    "    score = [0, 0]\n",
    "    for j in range(2000):\n",
    "        if not j % 100:\n",
    "            print(j, end=' ')\n",
    "\n",
    "        res = play_game(mcts1, mcts2)[0]\n",
    "        #print('s')\n",
    "        score[0] += res[0]\n",
    "        score[1] += res[1]\n",
    "    #if score[0] > score[1]:\n",
    "    all_nodes += list(mcts1.Nodes.values())\n",
    "    #else:\n",
    "    all_nodes += list(mcts2.Nodes.values())\n",
    "    v[0] += (score[0]-score[1])\n",
    "    v[1] += score[0]"
   ]
  },
  {
   "cell_type": "code",
   "execution_count": 73,
   "metadata": {},
   "outputs": [
    {
     "data": {
      "text/plain": [
       "([1392, -406], 2263, None)"
      ]
     },
     "execution_count": 73,
     "metadata": {},
     "output_type": "execute_result"
    }
   ],
   "source": [
    "v, len(all_nodes), fill_fin_prob(all_nodes)"
   ]
  },
  {
   "cell_type": "code",
   "execution_count": 77,
   "metadata": {},
   "outputs": [
    {
     "name": "stdout",
     "output_type": "stream",
     "text": [
      "CAie 0 [1.0, 0.0, 0.0, 0.0, 0.0, 0.0, 0.0, 0.0]\n",
      "sBCAie 0 [1.0, 0.0, 0.0, 0.0, 0.0, 0.0, 0.0, 0.0]\n",
      "s11ie 0 [1.0, 0.0, 0.0, 0.0, 0.0, 0.0, 0.0, 0.0]\n",
      "eiCAie 0 [1.0, 0.0, 0.0, 0.0, 0.0, 0.0, 0.0, 0.0]\n",
      "CiCAie 0 [1.0, 0.0, 0.0, 0.0, 0.0, 0.0, 0.0, 0.0]\n",
      "ie 0 [0.0, 0.0, 0.0, 0.0, 0.0, 0.0, 1.0, 0.0]\n",
      "BiBAie 0 [1.0, 0.0, 0.0, 0.0, 0.0, 0.0, 0.0, 0.0]\n",
      "111Aie 0 [1.0, 0.0, 0.0, 0.0, 0.0, 0.0, 0.0, 0.0]\n",
      "C1iAie 0 [1.0, 0.0, 0.0, 0.0, 0.0, 0.0, 0.0, 0.0]\n",
      "Be1Aie 0 [1.0, 0.0, 0.0, 0.0, 0.0, 0.0, 0.0, 0.0]\n",
      "1isiBBie 0 [0.0, 0.0, 0.0, 0.0, 0.0, 1.0, 0.0, 0.0]\n",
      "1ie 0 [0.0, 0.0, 0.0, 0.0, 1.0, 0.0, 0.0, 0.0]\n",
      "iie 0 [0.12, 0.12, 0.12, 0.12, 0.12, 0.12, 0.12, 0.12]\n",
      "B1CsAsie 0 [0.0, 0.0, 0.0, 0.0, 0.0, 0.0, 0.0, 1.0]\n",
      "Ciie 0 [0.0, 0.0, 1.0, 0.0, 0.0, 0.0, 0.0, 0.0]\n",
      "eie 0 [0.12, 0.12, 0.12, 0.12, 0.12, 0.12, 0.12, 0.12]\n",
      "Bie 0 [0.12, 0.12, 0.12, 0.12, 0.12, 0.12, 0.12, 0.12]\n",
      "sie 0 [1.0, 0.0, 0.0, 0.0, 0.0, 0.0, 0.0, 0.0]\n",
      "ie 0 [0.0, 0.0, 0.0, 0.0, 0.0, 1.0, 0.0, 0.0]\n",
      "iiie 0 [1.0, 0.0, 0.0, 0.0, 0.0, 0.0, 0.0, 0.0]\n",
      "1Cie 0 [1.0, 0.0, 0.0, 0.0, 0.0, 0.0, 0.0, 0.0]\n",
      "iABCAie 0 [1.0, 0.0, 0.0, 0.0, 0.0, 0.0, 0.0, 0.0]\n",
      "Bie 0 [0.0, 0.0, 0.0, 0.0, 0.0, 0.0, 1.0, 0.0]\n",
      "1ie 0 [0.12, 0.12, 0.12, 0.12, 0.12, 0.12, 0.12, 0.12]\n",
      "eie 0 [0.0, 1.0, 0.0, 0.0, 0.0, 0.0, 0.0, 0.0]\n",
      "is1CAie 0 [1.0, 0.0, 0.0, 0.0, 0.0, 0.0, 0.0, 0.0]\n",
      "As1Aie 0 [1.0, 0.0, 0.0, 0.0, 0.0, 0.0, 0.0, 0.0]\n",
      "1iie 0 [1.0, 0.0, 0.0, 0.0, 0.0, 0.0, 0.0, 0.0]\n",
      "AiAie 0 [1.0, 0.0, 0.0, 0.0, 0.0, 0.0, 0.0, 0.0]\n",
      "siBAie 0 [1.0, 0.0, 0.0, 0.0, 0.0, 0.0, 0.0, 0.0]\n",
      "B1iie 0 [1.0, 0.0, 0.0, 0.0, 0.0, 0.0, 0.0, 0.0]\n",
      "eBsie 0 [1.0, 0.0, 0.0, 0.0, 0.0, 0.0, 0.0, 0.0]\n",
      "BCsie 0 [1.0, 0.0, 0.0, 0.0, 0.0, 0.0, 0.0, 0.0]\n",
      "eCBCAie 0 [1.0, 0.0, 0.0, 0.0, 0.0, 0.0, 0.0, 0.0]\n",
      "AeBAie 0 [1.0, 0.0, 0.0, 0.0, 0.0, 0.0, 0.0, 0.0]\n",
      "Aeie 0 [1.0, 0.0, 0.0, 0.0, 0.0, 0.0, 0.0, 0.0]\n",
      "CC1siiie 0 [0.0, 0.0, 0.0, 0.0, 0.0, 0.0, 1.0, 0.0]\n",
      "1Bie 0 [0.0, 0.0, 0.0, 1.0, 0.0, 0.0, 0.0, 0.0]\n",
      "AC1ie 0 [0.0, 0.0, 1.0, 0.0, 0.0, 0.0, 0.0, 0.0]\n",
      "A1Bie 0 [0.0, 0.0, 0.0, 0.0, 0.0, 1.0, 0.0, 0.0]\n"
     ]
    }
   ],
   "source": [
    "for n in all_nodes:\n",
    "    if len(n.formula) > 1 and n.formula[-2:] == 'ie':\n",
    "        print(n.formula, n.immediate_reward, [float('%.2f' % elem) for elem in n.fin_prob])"
   ]
  },
  {
   "cell_type": "code",
   "execution_count": null,
   "metadata": {},
   "outputs": [],
   "source": []
  }
 ],
 "metadata": {
  "kernelspec": {
   "display_name": "Python 3",
   "language": "python",
   "name": "python3"
  },
  "language_info": {
   "codemirror_mode": {
    "name": "ipython",
    "version": 3
   },
   "file_extension": ".py",
   "mimetype": "text/x-python",
   "name": "python",
   "nbconvert_exporter": "python",
   "pygments_lexer": "ipython3",
   "version": "3.7.2"
  }
 },
 "nbformat": 4,
 "nbformat_minor": 2
}
