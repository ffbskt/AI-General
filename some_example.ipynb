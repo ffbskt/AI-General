{
 "cells": [
  {
   "cell_type": "markdown",
   "metadata": {},
   "source": [
    "# Some example"
   ]
  },
  {
   "cell_type": "code",
   "execution_count": 1,
   "metadata": {},
   "outputs": [],
   "source": [
    "import numpy as np\n",
    "import matplotlib.pyplot as plt\n",
    "%matplotlib inline\n",
    "\n",
    "import torch\n",
    "from torch import Tensor, nn\n",
    "import torch.optim as optim\n",
    "from torch.autograd import Variable\n",
    "import torch.nn.functional as F"
   ]
  },
  {
   "cell_type": "code",
   "execution_count": 2,
   "metadata": {},
   "outputs": [
    {
     "data": {
      "text/plain": [
       "torch.Size([4, 20])"
      ]
     },
     "execution_count": 2,
     "metadata": {},
     "output_type": "execute_result"
    }
   ],
   "source": [
    "def get_batch(size=20, max_val=100):\n",
    "    x = np.random.randint(1, max_val, [10, size]) # input\n",
    "    y = np.random.randint(1, 9, size) # index\n",
    "    for i, v in enumerate(y):\n",
    "        x[9, i] = x[v, i] # task: predict what index have x[10]\n",
    "    x = np.vstack([np.array(range(10)).reshape([-1, 1]) * np.ones_like(x), x])\n",
    "    return Variable(Tensor(x.T)), Variable(Tensor(y))\n",
    "    \n",
    "get_batch(4)[0].shape   "
   ]
  },
  {
   "cell_type": "code",
   "execution_count": null,
   "metadata": {},
   "outputs": [],
   "source": [
    "def get_batch3(size=20, max_val=500):\n",
    "    x = np.random.randint(1, max_val, [10, size]) # input\n",
    "    y = np.random.randint(0, 9, [size, 2]) # index\n",
    "    for i, v in enumerate(y):\n",
    "        if v[0] != v[1]:\n",
    "            x[v[0], i] = x[v[1], i] # task: predict what index have x[10]\n",
    "            \n",
    "        elif v[0] < 9:\n",
    "            x[v[0], i] = x[9, i]\n",
    "            y[i,1] = 9\n",
    "    #x = np.vstack([np.array(range(10)).reshape([-1, 1]) * np.ones_like(x), x])\n",
    "    return Variable(Tensor(x.T)), Variable(Tensor(y))\n",
    "    \n",
    "get_batch3(4)#[0].shape   "
   ]
  },
  {
   "cell_type": "code",
   "execution_count": null,
   "metadata": {},
   "outputs": [],
   "source": [
    "def get_batch_rnn2(size):\n",
    "    x, y = get_batch3(size)\n",
    "    return x.view([10,size,1]), y\n",
    "\n",
    "get_batch_rnn2(2)"
   ]
  },
  {
   "cell_type": "code",
   "execution_count": null,
   "metadata": {},
   "outputs": [],
   "source": [
    "def get_batch_rnn(size=20, max_val=100):\n",
    "    x = np.random.randint(1, max_val, [10, size])\n",
    "    y = np.random.randint(1, 9, size)\n",
    "    z = np.zeros([10, size, 2])\n",
    "    for l in range(10):\n",
    "        for i in range(size):\n",
    "            z[l, i, 0] = l\n",
    "            z[l, i, 1] = x[l, i]\n",
    "    for i, v in enumerate(y):\n",
    "        z[9,i,0] = x[v, i]\n",
    "        z[9,i,1] = x[v, i]\n",
    "    return Variable(Tensor(z)), Variable(Tensor(y))\n",
    "get_batch_rnn(1)"
   ]
  },
  {
   "cell_type": "code",
   "execution_count": null,
   "metadata": {},
   "outputs": [],
   "source": [
    "class LSTMTagger(nn.Module):\n",
    "\n",
    "    def __init__(self, embedding_dim=1, hidden_dim=32, tagset_size=2):\n",
    "        super(LSTMTagger, self).__init__()\n",
    "        self.hidden_dim = hidden_dim\n",
    "\n",
    "        \n",
    "        # The LSTM takes word embeddings as inputs, and outputs hidden states\n",
    "        # with dimensionality hidden_dim.\n",
    "        self.lstm = nn.LSTM(embedding_dim, hidden_dim)\n",
    "\n",
    "        # The linear layer that maps from hidden state space to tag space\n",
    "        self.hidden = nn.Linear(hidden_dim, 100)\n",
    "        self.hidden2tag = nn.Linear(100, tagset_size)\n",
    "\n",
    "    def forward(self, sentence):\n",
    "        lstm_out, _ = self.lstm(sentence)\n",
    "        tag_space = self.hidden2tag(F.relu(self.hidden(_[-1])))\n",
    "        #tag_scores = F.log_softmax(tag_space, dim=1)\n",
    "        return tag_space"
   ]
  },
  {
   "cell_type": "code",
   "execution_count": null,
   "metadata": {},
   "outputs": [],
   "source": [
    "net = nn.Sequential(nn.Linear(10, 132), nn.ReLU(), nn.Linear(132, 32), nn.ReLU(), nn.Linear(32, 2))\n",
    "nnet = LSTMTagger()#nn.Sequential(nn.RNN(2, 12))\n",
    "#net2 = nn.Sequential(nnet, nn.ReLU(), nn.Linear(12, 32), nn.ReLU(), nn.Linear(32, 1))\n",
    "#import torch.optim as optim\n",
    "\n",
    "#criterion = lambda x, y: ((x[0] - y[0]) - (x[1] - y[1]))**2#nn.MSELoss()#nn.CrossEntropyLoss()\n",
    "\n",
    "\n",
    "optimizer = optim.SGD(net.parameters(), lr=0.001, momentum=0.9)\n",
    "\n",
    "loss_back = []"
   ]
  },
  {
   "cell_type": "code",
   "execution_count": null,
   "metadata": {},
   "outputs": [],
   "source": [
    "criterion(get_batch_rnn2(3)[1], get_batch_rnn2(3)[1])"
   ]
  },
  {
   "cell_type": "code",
   "execution_count": null,
   "metadata": {},
   "outputs": [],
   "source": [
    "\n",
    "for i in range(1000):\n",
    "    optimizer.zero_grad()\n",
    "    # x, y = get_batch3(24)\n",
    "    # pry = net(x)\n",
    "    x, y = get_batch_rnn2(4)\n",
    "    \n",
    "    pry = nnet(x)\n",
    "    #print((pry[0][:,0] - y[:,0]))\n",
    "    loss = torch.sum(torch.sqrt(((pry[0][:,0] - y[:,0]) + (pry[0][:,1] - y[:,1]))**2))\n",
    "    #print(loss)\n",
    "    if i%10 ==0:\n",
    "        loss_back.append(loss)\n",
    "    loss.backward()\n",
    "    optimizer.step()\n",
    "    "
   ]
  },
  {
   "cell_type": "code",
   "execution_count": null,
   "metadata": {},
   "outputs": [],
   "source": [
    "plt.plot(loss_back)\n",
    "plt.show()"
   ]
  },
  {
   "cell_type": "code",
   "execution_count": null,
   "metadata": {},
   "outputs": [],
   "source": [
    "\n",
    "tr = []\n",
    "pr = []\n",
    "for i in range(30):\n",
    "    #x, y, net(x)\n",
    "    x, y = get_batch3(1)\n",
    "    tr.append(y.data.numpy()[0])\n",
    "    pr.append(net(x).data.numpy()[0])\n",
    "    \n",
    "print(tr)\n",
    "plt.scatter(range(len(tr)), tr)\n",
    "plt.scatter(range(len(tr)), pr)\n",
    "plt.show()"
   ]
  },
  {
   "cell_type": "markdown",
   "metadata": {},
   "source": [
    "# if array of 2 or 3 digits has equal?"
   ]
  },
  {
   "cell_type": "code",
   "execution_count": 3,
   "metadata": {},
   "outputs": [],
   "source": [
    "import numpy as np\n",
    "import matplotlib.pyplot as plt\n",
    "%matplotlib inline\n",
    "\n",
    "import torch\n",
    "from torch import Tensor, nn\n",
    "import torch.optim as optim\n",
    "from torch.autograd import Variable\n",
    "import torch.nn.functional as F"
   ]
  },
  {
   "cell_type": "code",
   "execution_count": 4,
   "metadata": {},
   "outputs": [
    {
     "data": {
      "text/plain": [
       "(tensor([[0.9000, 0.9000],\n",
       "         [0.9000, 0.9000],\n",
       "         [0.5000, 0.8667],\n",
       "         [0.6667, 0.6667],\n",
       "         [0.8667, 0.5333]]), tensor([1, 1, 0, 1, 0]))"
      ]
     },
     "execution_count": 4,
     "metadata": {},
     "output_type": "execute_result"
    }
   ],
   "source": [
    "def get_batch(size, count_n=2):\n",
    "    x = np.random.randint(0, 30, [size, 2]) / 30\n",
    "    y = np.zeros_like(x)\n",
    "    for i, v in enumerate(x):\n",
    "        if np.random.rand() > 0.5:\n",
    "            v[1] = v[0]\n",
    "            #x[i] = v \n",
    "        #print(v)\n",
    "        y[i] = [0, 1]\n",
    "        if len(set(v)) < count_n:\n",
    "            y[i] = [1, 0]\n",
    "    return Variable(Tensor(x)), Variable(torch.LongTensor(y[:,0]))#.view([1,-1])\n",
    "\n",
    "get_batch(5)\n",
    "    "
   ]
  },
  {
   "cell_type": "code",
   "execution_count": null,
   "metadata": {},
   "outputs": [],
   "source": [
    "torch.empty(3, dtype=torch.long).random_(5)"
   ]
  },
  {
   "cell_type": "code",
   "execution_count": 30,
   "metadata": {},
   "outputs": [],
   "source": [
    "#net = nn.Sequential(nn.Linear(2, 4), nn.Linear(4, 2), nn.Softmax())\n",
    "criterion = nn.CrossEntropyLoss()\n",
    "optimizer = optim.SGD(net.parameters(), lr=0.001, momentum=0.9)\n",
    "\n",
    "loss_back = []"
   ]
  },
  {
   "cell_type": "code",
   "execution_count": 36,
   "metadata": {},
   "outputs": [
    {
     "data": {
      "image/png": "[encoded data removed]",
      "text/plain": [
       "<Figure size 432x288 with 1 Axes>"
      ]
     },
     "metadata": {
      "needs_background": "light"
     },
     "output_type": "display_data"
    }
   ],
   "source": [
    "for i in range(200):\n",
    "    optimizer.zero_grad()\n",
    "    # x, y = get_batch3(24)\n",
    "    # pry = net(x)\n",
    "    x, y = get_batch(10)\n",
    "    \n",
    "    pry = net(x)\n",
    "    #print((pry[:,0], y))\n",
    "    loss = criterion(pry, y)\n",
    "    #print(loss)\n",
    "    if i%10 ==0:\n",
    "        loss_back.append(loss)\n",
    "    loss.backward()\n",
    "    optimizer.step()\n",
    "    \n",
    "#print(net.l1.weight)\n",
    "plt.plot(loss_back)\n",
    "plt.show()"
   ]
  },
  {
   "cell_type": "code",
   "execution_count": null,
   "metadata": {},
   "outputs": [],
   "source": [
    "#net = nn.Sequential(nn.Linear(2, 1), nn.Tanh(), nn.Linear(4, 2), nn.Softmax())"
   ]
  },
  {
   "cell_type": "code",
   "execution_count": null,
   "metadata": {},
   "outputs": [],
   "source": [
    "class NN(nn.Module):\n",
    "    def __init__(self):\n",
    "        super(NN, self).__init__()\n",
    "        self.l1 = nn.Linear(2,100)\n",
    "        self.t1 = nn.Tanh()\n",
    "        self.l2 = nn.Linear(100, 200)\n",
    "        self.l3 = nn.Linear(200,2)\n",
    "        \n",
    "    def forward(self, x, pr=0):\n",
    "        #x = Variable(Tensor(x))\n",
    "        if pr: print('1  ', x)\n",
    "        x = self.l1(x)\n",
    "        x = self.t1(x)\n",
    "        #if pr: print('2  ', x)\n",
    "        x = F.tanh(self.l2(x))\n",
    "        #if pr: print('3  ', x)\n",
    "        x = F.softmax(self.l3(x))\n",
    "        if pr: print('4  ', x)\n",
    "        return x\n",
    "    \n",
    "net = NN()\n",
    "#optimizer.zero_grad()\n",
    "#py = net([3,3])\n",
    "#loss = py - 1\n",
    "#print(net.l1.weight, loss, py)\n",
    "#loss.backward()"
   ]
  },
  {
   "cell_type": "code",
   "execution_count": null,
   "metadata": {},
   "outputs": [],
   "source": [
    "x, y = get_batch(3)\n",
    "net(x, 1)"
   ]
  },
  {
   "cell_type": "markdown",
   "metadata": {},
   "source": [
    "### Another classifier"
   ]
  },
  {
   "cell_type": "code",
   "execution_count": null,
   "metadata": {},
   "outputs": [],
   "source": [
    "#input = torch.randn(20, 16, 5)\n",
    "#input"
   ]
  },
  {
   "cell_type": "code",
   "execution_count": 29,
   "metadata": {},
   "outputs": [
    {
     "data": {
      "text/plain": [
       "tensor([[0.1473, 0.1233],\n",
       "        [0.1162, 0.1050],\n",
       "        [0.1436, 0.1162]], grad_fn=<AddmmBackward>)"
      ]
     },
     "execution_count": 29,
     "metadata": {},
     "output_type": "execute_result"
    }
   ],
   "source": [
    "class Net(nn.Module):\n",
    "    def __init__(self):\n",
    "        super(Net, self).__init__()\n",
    "        self.conv1 = nn.Conv1d(1, 5, 2)\n",
    "        self.pool = nn.MaxPool1d(2)\n",
    "        #self.conv2 = nn.Conv1d(6, 2, 5)\n",
    "        self.fc1 = nn.Linear(5, 120)\n",
    "        self.fc2 = nn.Linear(120, 84)\n",
    "        self.fc3 = nn.Linear(84, 2)\n",
    "\n",
    "    def forward(self, x):\n",
    "        x = x.view(-1,1,2)\n",
    "        x = self.pool(F.relu(self.conv1(x)))\n",
    "        #x = self.pool(F.relu(self.conv2(x)))\n",
    "        #print(x.shape)\n",
    "        x = x.view(-1, 5)\n",
    "        x = F.relu(self.fc1(x))\n",
    "        x = F.relu(self.fc2(x))\n",
    "        x = self.fc3(x)\n",
    "        return x\n",
    "\n",
    "\n",
    "net = Net()\n",
    "net(get_batch(3)[0])#torch.randn(2, 1, 2))#get_batch(3)[0])"
   ]
  },
  {
   "cell_type": "code",
   "execution_count": null,
   "metadata": {},
   "outputs": [],
   "source": []
  },
  {
   "cell_type": "code",
   "execution_count": null,
   "metadata": {},
   "outputs": [],
   "source": [
    "optimizer = optim.SGD(net.parameters(), lr=0.1, momentum=0.9)"
   ]
  },
  {
   "cell_type": "code",
   "execution_count": null,
   "metadata": {},
   "outputs": [],
   "source": [
    "#optimizer.step()\n",
    "print(net.l1.weight)"
   ]
  },
  {
   "cell_type": "code",
   "execution_count": null,
   "metadata": {},
   "outputs": [],
   "source": [
    "print(net.l1.weight)"
   ]
  },
  {
   "cell_type": "markdown",
   "metadata": {},
   "source": [
    "# From minus get plus"
   ]
  },
  {
   "cell_type": "code",
   "execution_count": null,
   "metadata": {},
   "outputs": [],
   "source": [
    "def get_batch(size, count_n=2):\n",
    "    x = np.random.randint(-20, 20, [size, 1])\n",
    "    y = np.abs(x)#np.zeros_like(x)\n",
    "    return Variable(Tensor(x)), Variable(Tensor(y))#.view([1,-1])\n",
    "\n",
    "get_batch(5)"
   ]
  },
  {
   "cell_type": "code",
   "execution_count": null,
   "metadata": {},
   "outputs": [],
   "source": [
    "class NN(nn.Module):\n",
    "    def __init__(self):\n",
    "        super(NN, self).__init__()\n",
    "        self.l1 = nn.Linear(1,2)\n",
    "        self.t1 = nn.Tanh()\n",
    "        self.l2 = nn.Linear(2, 1)\n",
    "        #self.l3 = nn.Linear(1,2)\n",
    "        \n",
    "    def forward(self, x, pr=0):\n",
    "        #x = Variable(Tensor(x))\n",
    "        if pr: print('1  ', x)\n",
    "        x = self.l1(x)\n",
    "        x = self.t1(x)\n",
    "        if pr: print('2  ', x)\n",
    "        x = F.relu(self.l2(x))\n",
    "        if pr: print('3  ', x)\n",
    "        #x = F.softmax(self.l3(x))\n",
    "        #if pr: print('4  ', x)\n",
    "        return x\n",
    "    \n",
    "net = NN()\n",
    "\n",
    "criterion = nn.MSELoss()\n",
    "optimizer = optim.SGD(net.parameters(), lr=0.001, momentum=0.9)\n",
    "\n",
    "loss_back = []"
   ]
  },
  {
   "cell_type": "code",
   "execution_count": null,
   "metadata": {},
   "outputs": [],
   "source": [
    "for i in range(200):\n",
    "    optimizer.zero_grad()\n",
    "    # x, y = get_batch3(24)\n",
    "    # pry = net(x)\n",
    "    x, y = get_batch(10)\n",
    "    \n",
    "    pry = net(x)\n",
    "    #print((pry[:,0], y))\n",
    "    loss = criterion(pry, y)\n",
    "    #print(loss)\n",
    "    if i%10 ==0:\n",
    "        loss_back.append(loss)\n",
    "    loss.backward()\n",
    "    optimizer.step()\n",
    "    \n",
    "print(net.l1.weight)\n",
    "plt.plot(loss_back)\n",
    "plt.show()"
   ]
  },
  {
   "cell_type": "markdown",
   "metadata": {},
   "source": [
    "# Evolution Strategy Deep Neuroevolution"
   ]
  },
  {
   "cell_type": "code",
   "execution_count": 37,
   "metadata": {},
   "outputs": [
    {
     "name": "stdout",
     "output_type": "stream",
     "text": [
      "iter 0. w: [1.76405235 0.40015721 0.97873798], solution: [ 0.5  0.1 -0.3], reward: -3.323094\n",
      "iter 20. w: [1.63796944 0.36987244 0.84497941], solution: [ 0.5  0.1 -0.3], reward: -2.678783\n",
      "iter 40. w: [1.50042904 0.33577052 0.70329169], solution: [ 0.5  0.1 -0.3], reward: -2.063040\n",
      "iter 60. w: [1.36438269 0.29247833 0.56990397], solution: [ 0.5  0.1 -0.3], reward: -1.540938\n",
      "iter 80. w: [1.2257328  0.25622233 0.43607161], solution: [ 0.5  0.1 -0.3], reward: -1.092895\n",
      "iter 100. w: [1.08819889 0.22827364 0.30415088], solution: [ 0.5  0.1 -0.3], reward: -0.727430\n",
      "iter 120. w: [0.95675286 0.19282042 0.16682465], solution: [ 0.5  0.1 -0.3], reward: -0.435164\n",
      "iter 140. w: [0.82214521 0.16161165 0.03600742], solution: [ 0.5  0.1 -0.3], reward: -0.220475\n",
      "iter 160. w: [ 0.70282088  0.12935569 -0.09779598], solution: [ 0.5  0.1 -0.3], reward: -0.082885\n",
      "iter 180. w: [ 0.58380424  0.11579811 -0.21083135], solution: [ 0.5  0.1 -0.3], reward: -0.015224\n",
      "iter 200. w: [ 0.52089064  0.09897718 -0.2761225 ], solution: [ 0.5  0.1 -0.3], reward: -0.001008\n",
      "iter 220. w: [ 0.50861791  0.10220363 -0.29023563], solution: [ 0.5  0.1 -0.3], reward: -0.000174\n",
      "iter 240. w: [ 0.50428202  0.10834192 -0.29828744], solution: [ 0.5  0.1 -0.3], reward: -0.000091\n",
      "iter 260. w: [ 0.50147991  0.1044559  -0.30255291], solution: [ 0.5  0.1 -0.3], reward: -0.000029\n",
      "iter 280. w: [ 0.50208135  0.0986722  -0.29841024], solution: [ 0.5  0.1 -0.3], reward: -0.000009\n"
     ]
    }
   ],
   "source": [
    "\"\"\"\n",
    "A bare bones examples of optimizing a black-box function (f) using\n",
    "Natural Evolution Strategies (NES), where the parameter distribution is a \n",
    "gaussian of fixed standard deviation.\n",
    "\"\"\"\n",
    "\n",
    "import numpy as np\n",
    "np.random.seed(0)\n",
    "\n",
    "# the function we want to optimize\n",
    "def f(w):\n",
    "  # here we would normally:\n",
    "  # ... 1) create a neural network with weights w\n",
    "  # ... 2) run the neural network on the environment for some time\n",
    "  # ... 3) sum up and return the total reward\n",
    "\n",
    "  # but for the purposes of an example, lets try to minimize\n",
    "  # the L2 distance to a specific solution vector. So the highest reward\n",
    "  # we can achieve is 0, when the vector w is exactly equal to solution\n",
    "  reward = -np.sum(np.square(solution - w))\n",
    "  return reward\n",
    "\n",
    "# hyperparameters\n",
    "npop = 50 # population size\n",
    "sigma = 0.1 # noise standard deviation\n",
    "alpha = 0.001 # learning rate\n",
    "\n",
    "# start the optimization\n",
    "solution = np.array([0.5, 0.1, -0.3])\n",
    "w = np.random.randn(3) # our initial guess is random\n",
    "for i in range(300):\n",
    "\n",
    "  # print current fitness of the most likely parameter setting\n",
    "  if i % 20 == 0:\n",
    "    print('iter %d. w: %s, solution: %s, reward: %f' % \n",
    "          (i, str(w), str(solution), f(w)))\n",
    "\n",
    "  # initialize memory for a population of w's, and their rewards\n",
    "  N = np.random.randn(npop, 3) # samples from a normal distribution N(0,1)\n",
    "  R = np.zeros(npop)\n",
    "  for j in range(npop):\n",
    "    w_try = w + sigma*N[j] # jitter w using gaussian of sigma 0.1\n",
    "    R[j] = f(w_try) # evaluate the jittered version\n",
    "\n",
    "  # standardize the rewards to have a gaussian distribution\n",
    "  A = (R - np.mean(R)) / np.std(R)\n",
    "  # perform the parameter update. The matrix multiply below\n",
    "  # is just an efficient way to sum up all the rows of the noise matrix N,\n",
    "  # where each row N[j] is weighted by A[j]\n",
    "  w = w + alpha/(npop*sigma) * np.dot(N.T, A)"
   ]
  },
  {
   "cell_type": "code",
   "execution_count": null,
   "metadata": {},
   "outputs": [],
   "source": []
  },
  {
   "cell_type": "code",
   "execution_count": null,
   "metadata": {},
   "outputs": [],
   "source": []
  },
  {
   "cell_type": "code",
   "execution_count": null,
   "metadata": {},
   "outputs": [],
   "source": []
  }
 ],
 "metadata": {
  "kernelspec": {
   "display_name": "Python 3",
   "language": "python",
   "name": "python3"
  },
  "language_info": {
   "codemirror_mode": {
    "name": "ipython",
    "version": 3
   },
   "file_extension": ".py",
   "mimetype": "text/x-python",
   "name": "python",
   "nbconvert_exporter": "python",
   "pygments_lexer": "ipython3",
   "version": "3.7.2"
  }
 },
 "nbformat": 4,
 "nbformat_minor": 2
}
