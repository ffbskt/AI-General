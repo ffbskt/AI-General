{
 "cells": [
  {
   "cell_type": "markdown",
   "metadata": {},
   "source": [
    "# Some example"
   ]
  },
  {
   "cell_type": "code",
   "execution_count": null,
   "metadata": {},
   "outputs": [],
   "source": [
    "import numpy as np\n",
    "import matplotlib.pyplot as plt\n",
    "%matplotlib inline\n",
    "\n",
    "import torch\n",
    "from torch import Tensor, nn\n",
    "import torch.optim as optim\n",
    "from torch.autograd import Variable\n",
    "import torch.nn.functional as F"
   ]
  },
  {
   "cell_type": "code",
   "execution_count": null,
   "metadata": {},
   "outputs": [],
   "source": [
    "def get_batch(size=20, max_val=100):\n",
    "    x = np.random.randint(1, max_val, [10, size]) # input\n",
    "    y = np.random.randint(1, 9, size) # index\n",
    "    for i, v in enumerate(y):\n",
    "        x[9, i] = x[v, i] # task: predict what index have x[10]\n",
    "    x = np.vstack([np.array(range(10)).reshape([-1, 1]) * np.ones_like(x), x])\n",
    "    return Variable(Tensor(x.T)), Variable(Tensor(y))\n",
    "    \n",
    "get_batch(4)[0].shape   "
   ]
  },
  {
   "cell_type": "code",
   "execution_count": null,
   "metadata": {},
   "outputs": [],
   "source": [
    "def get_batch3(size=20, max_val=500):\n",
    "    x = np.random.randint(1, max_val, [10, size]) # input\n",
    "    y = np.random.randint(0, 9, [size, 2]) # index\n",
    "    for i, v in enumerate(y):\n",
    "        if v[0] != v[1]:\n",
    "            x[v[0], i] = x[v[1], i] # task: predict what index have x[10]\n",
    "            \n",
    "        elif v[0] < 9:\n",
    "            x[v[0], i] = x[9, i]\n",
    "            y[i,1] = 9\n",
    "    #x = np.vstack([np.array(range(10)).reshape([-1, 1]) * np.ones_like(x), x])\n",
    "    return Variable(Tensor(x.T)), Variable(Tensor(y))\n",
    "    \n",
    "get_batch3(4)#[0].shape   "
   ]
  },
  {
   "cell_type": "code",
   "execution_count": null,
   "metadata": {},
   "outputs": [],
   "source": [
    "def get_batch_rnn2(size):\n",
    "    x, y = get_batch3(size)\n",
    "    return x.view([10,size,1]), y\n",
    "\n",
    "get_batch_rnn2(2)"
   ]
  },
  {
   "cell_type": "code",
   "execution_count": null,
   "metadata": {},
   "outputs": [],
   "source": [
    "def get_batch_rnn(size=20, max_val=100):\n",
    "    x = np.random.randint(1, max_val, [10, size])\n",
    "    y = np.random.randint(1, 9, size)\n",
    "    z = np.zeros([10, size, 2])\n",
    "    for l in range(10):\n",
    "        for i in range(size):\n",
    "            z[l, i, 0] = l\n",
    "            z[l, i, 1] = x[l, i]\n",
    "    for i, v in enumerate(y):\n",
    "        z[9,i,0] = x[v, i]\n",
    "        z[9,i,1] = x[v, i]\n",
    "    return Variable(Tensor(z)), Variable(Tensor(y))\n",
    "get_batch_rnn(1)"
   ]
  },
  {
   "cell_type": "code",
   "execution_count": null,
   "metadata": {},
   "outputs": [],
   "source": [
    "class LSTMTagger(nn.Module):\n",
    "\n",
    "    def __init__(self, embedding_dim=1, hidden_dim=32, tagset_size=2):\n",
    "        super(LSTMTagger, self).__init__()\n",
    "        self.hidden_dim = hidden_dim\n",
    "\n",
    "        \n",
    "        # The LSTM takes word embeddings as inputs, and outputs hidden states\n",
    "        # with dimensionality hidden_dim.\n",
    "        self.lstm = nn.LSTM(embedding_dim, hidden_dim)\n",
    "\n",
    "        # The linear layer that maps from hidden state space to tag space\n",
    "        self.hidden = nn.Linear(hidden_dim, 100)\n",
    "        self.hidden2tag = nn.Linear(100, tagset_size)\n",
    "\n",
    "    def forward(self, sentence):\n",
    "        lstm_out, _ = self.lstm(sentence)\n",
    "        tag_space = self.hidden2tag(F.relu(self.hidden(_[-1])))\n",
    "        #tag_scores = F.log_softmax(tag_space, dim=1)\n",
    "        return tag_space"
   ]
  },
  {
   "cell_type": "code",
   "execution_count": null,
   "metadata": {},
   "outputs": [],
   "source": [
    "net = nn.Sequential(nn.Linear(10, 132), nn.ReLU(), nn.Linear(132, 32), nn.ReLU(), nn.Linear(32, 2))\n",
    "nnet = LSTMTagger()#nn.Sequential(nn.RNN(2, 12))\n",
    "#net2 = nn.Sequential(nnet, nn.ReLU(), nn.Linear(12, 32), nn.ReLU(), nn.Linear(32, 1))\n",
    "#import torch.optim as optim\n",
    "\n",
    "#criterion = lambda x, y: ((x[0] - y[0]) - (x[1] - y[1]))**2#nn.MSELoss()#nn.CrossEntropyLoss()\n",
    "\n",
    "\n",
    "optimizer = optim.SGD(net.parameters(), lr=0.001, momentum=0.9)\n",
    "\n",
    "loss_back = []"
   ]
  },
  {
   "cell_type": "code",
   "execution_count": null,
   "metadata": {},
   "outputs": [],
   "source": [
    "criterion(get_batch_rnn2(3)[1], get_batch_rnn2(3)[1])"
   ]
  },
  {
   "cell_type": "code",
   "execution_count": null,
   "metadata": {},
   "outputs": [],
   "source": [
    "\n",
    "for i in range(1000):\n",
    "    optimizer.zero_grad()\n",
    "    # x, y = get_batch3(24)\n",
    "    # pry = net(x)\n",
    "    x, y = get_batch_rnn2(4)\n",
    "    \n",
    "    pry = nnet(x)\n",
    "    #print((pry[0][:,0] - y[:,0]))\n",
    "    loss = torch.sum(torch.sqrt(((pry[0][:,0] - y[:,0]) + (pry[0][:,1] - y[:,1]))**2))\n",
    "    #print(loss)\n",
    "    if i%10 ==0:\n",
    "        loss_back.append(loss)\n",
    "    loss.backward()\n",
    "    optimizer.step()\n",
    "    "
   ]
  },
  {
   "cell_type": "code",
   "execution_count": null,
   "metadata": {},
   "outputs": [],
   "source": [
    "plt.plot(loss_back)\n",
    "plt.show()"
   ]
  },
  {
   "cell_type": "code",
   "execution_count": null,
   "metadata": {},
   "outputs": [],
   "source": [
    "\n",
    "tr = []\n",
    "pr = []\n",
    "for i in range(30):\n",
    "    #x, y, net(x)\n",
    "    x, y = get_batch3(1)\n",
    "    tr.append(y.data.numpy()[0])\n",
    "    pr.append(net(x).data.numpy()[0])\n",
    "    \n",
    "print(tr)\n",
    "plt.scatter(range(len(tr)), tr)\n",
    "plt.scatter(range(len(tr)), pr)\n",
    "plt.show()"
   ]
  },
  {
   "cell_type": "markdown",
   "metadata": {},
   "source": [
    "# if array of 2 or 3 digits has equal?"
   ]
  },
  {
   "cell_type": "code",
   "execution_count": 1,
   "metadata": {},
   "outputs": [],
   "source": [
    "import numpy as np\n",
    "import matplotlib.pyplot as plt\n",
    "%matplotlib inline\n",
    "\n",
    "import torch\n",
    "from torch import Tensor, nn\n",
    "import torch.optim as optim\n",
    "from torch.autograd import Variable\n",
    "import torch.nn.functional as F"
   ]
  },
  {
   "cell_type": "code",
   "execution_count": 254,
   "metadata": {},
   "outputs": [
    {
     "data": {
      "text/plain": [
       "(tensor([[29.,  7.],\n",
       "         [16.,  9.],\n",
       "         [27.,  5.],\n",
       "         [25.,  2.],\n",
       "         [26.,  7.]]), tensor([0, 0, 0, 0, 0]))"
      ]
     },
     "execution_count": 254,
     "metadata": {},
     "output_type": "execute_result"
    }
   ],
   "source": [
    "def get_batch(size, count_n=2):\n",
    "    x = np.random.randint(0, 30, [size, 2])\n",
    "    y = np.zeros_like(x)\n",
    "    for i, v in enumerate(x): \n",
    "        #print(v)\n",
    "        y[i] = [0, 1]\n",
    "        if len(set(v)) < count_n:\n",
    "            y[i] = [1, 0]\n",
    "    return Variable(Tensor(x)), Variable(torch.LongTensor(y[:,0]))#.view([1,-1])\n",
    "\n",
    "get_batch(5)\n",
    "    "
   ]
  },
  {
   "cell_type": "code",
   "execution_count": 255,
   "metadata": {},
   "outputs": [
    {
     "data": {
      "text/plain": [
       "tensor([1, 2, 0])"
      ]
     },
     "execution_count": 255,
     "metadata": {},
     "output_type": "execute_result"
    }
   ],
   "source": [
    "torch.empty(3, dtype=torch.long).random_(5)"
   ]
  },
  {
   "cell_type": "code",
   "execution_count": 256,
   "metadata": {},
   "outputs": [],
   "source": [
    "#net = nn.Sequential(nn.Linear(2, 4), nn.Linear(4, 2), nn.Softmax())\n",
    "criterion = nn.CrossEntropyLoss()\n",
    "optimizer = optim.SGD(net.parameters(), lr=0.001, momentum=0.9)\n",
    "\n",
    "loss_back = []"
   ]
  },
  {
   "cell_type": "code",
   "execution_count": 261,
   "metadata": {},
   "outputs": [
    {
     "name": "stderr",
     "output_type": "stream",
     "text": [
      "/home/denis/anaconda3/envs/tourch_gym/lib/python3.7/site-packages/ipykernel_launcher.py:17: UserWarning: Implicit dimension choice for softmax has been deprecated. Change the call to include dim=X as an argument.\n"
     ]
    },
    {
     "data": {
      "image/png": "[encoded data removed]",
      "text/plain": [
       "<Figure size 432x288 with 1 Axes>"
      ]
     },
     "metadata": {
      "needs_background": "light"
     },
     "output_type": "display_data"
    }
   ],
   "source": [
    "for i in range(200):\n",
    "    optimizer.zero_grad()\n",
    "    # x, y = get_batch3(24)\n",
    "    # pry = net(x)\n",
    "    x, y = get_batch(10)\n",
    "    \n",
    "    pry = net(x)\n",
    "    #print((pry[:,0], y))\n",
    "    loss = criterion(pry, y)\n",
    "    #print(loss)\n",
    "    if i%10 ==0:\n",
    "        loss_back.append(loss)\n",
    "    loss.backward()\n",
    "    optimizer.step()\n",
    "    \n",
    "#print(net.l1.weight)\n",
    "plt.plot(loss_back)\n",
    "plt.show()"
   ]
  },
  {
   "cell_type": "code",
   "execution_count": 200,
   "metadata": {},
   "outputs": [],
   "source": [
    "#net = nn.Sequential(nn.Linear(2, 1), nn.Tanh(), nn.Linear(4, 2), nn.Softmax())"
   ]
  },
  {
   "cell_type": "code",
   "execution_count": 211,
   "metadata": {},
   "outputs": [],
   "source": [
    "class NN(nn.Module):\n",
    "    def __init__(self):\n",
    "        super(NN, self).__init__()\n",
    "        self.l1 = nn.Linear(2,100)\n",
    "        self.t1 = nn.Tanh()\n",
    "        self.l2 = nn.Linear(100, 200)\n",
    "        self.l3 = nn.Linear(200,2)\n",
    "        \n",
    "    def forward(self, x, pr=0):\n",
    "        #x = Variable(Tensor(x))\n",
    "        if pr: print('1  ', x)\n",
    "        x = self.l1(x)\n",
    "        x = self.t1(x)\n",
    "        if pr: print('2  ', x)\n",
    "        x = F.tanh(self.l2(x))\n",
    "        if pr: print('3  ', x)\n",
    "        x = F.softmax(self.l3(x))\n",
    "        if pr: print('4  ', x)\n",
    "        return x\n",
    "    \n",
    "net = NN()\n",
    "#optimizer.zero_grad()\n",
    "#py = net([3,3])\n",
    "#loss = py - 1\n",
    "#print(net.l1.weight, loss, py)\n",
    "#loss.backward()"
   ]
  },
  {
   "cell_type": "code",
   "execution_count": 262,
   "metadata": {},
   "outputs": [
    {
     "name": "stdout",
     "output_type": "stream",
     "text": [
      "1   tensor([[27., 25.],\n",
      "        [28., 12.],\n",
      "        [17.,  8.]])\n",
      "2   tensor([[-1.0000, -0.9965, -1.0000, -0.5731,  0.8464, -1.0000, -1.0000, -1.0000,\n",
      "         -1.0000, -1.0000, -0.7005,  1.0000,  1.0000, -0.9625,  1.0000,  0.7914,\n",
      "         -1.0000,  1.0000,  1.0000,  0.9655, -1.0000, -1.0000,  1.0000, -1.0000,\n",
      "         -1.0000,  1.0000,  1.0000,  1.0000, -1.0000,  0.9959,  0.9939, -0.9999,\n",
      "          0.9999,  1.0000,  1.0000, -1.0000, -0.9837, -1.0000, -1.0000,  0.5135,\n",
      "          1.0000,  1.0000, -0.9123, -1.0000,  1.0000, -0.9934, -1.0000, -0.7947,\n",
      "         -0.9975,  0.9322, -1.0000, -1.0000, -1.0000, -1.0000, -0.8127,  1.0000,\n",
      "          0.8668,  0.9999, -1.0000,  1.0000,  1.0000, -1.0000,  1.0000,  1.0000,\n",
      "         -1.0000, -1.0000, -1.0000,  1.0000, -1.0000,  1.0000,  1.0000,  0.7628,\n",
      "          1.0000, -0.9988,  0.9774, -1.0000, -1.0000, -1.0000,  0.9995,  1.0000,\n",
      "          1.0000, -0.9999, -1.0000, -1.0000,  0.9900,  0.9990, -1.0000,  0.9616,\n",
      "         -1.0000, -0.7753,  1.0000, -1.0000,  0.8036, -1.0000, -0.9303, -1.0000,\n",
      "          0.9999,  1.0000,  0.9999, -1.0000],\n",
      "        [-1.0000, -0.7405, -1.0000,  1.0000,  1.0000, -1.0000, -1.0000, -1.0000,\n",
      "         -0.9991, -1.0000, -1.0000,  1.0000,  1.0000, -1.0000,  0.9218,  1.0000,\n",
      "         -1.0000,  1.0000,  1.0000,  1.0000, -1.0000, -0.9903, -0.9947, -1.0000,\n",
      "         -1.0000,  0.9985,  1.0000,  0.9655, -1.0000,  1.0000,  1.0000, -0.9923,\n",
      "         -0.0345,  1.0000,  1.0000, -1.0000, -1.0000, -1.0000,  0.9998, -0.9998,\n",
      "          1.0000,  1.0000, -0.5866, -1.0000,  0.8893, -0.9999, -1.0000, -1.0000,\n",
      "         -1.0000, -0.9744, -0.8039, -1.0000, -1.0000, -1.0000, -0.9735,  0.9851,\n",
      "          1.0000,  0.7826, -1.0000,  1.0000,  1.0000, -1.0000,  1.0000,  1.0000,\n",
      "         -1.0000, -0.9981, -1.0000,  1.0000, -1.0000,  1.0000,  1.0000, -0.9451,\n",
      "         -0.1480, -1.0000,  1.0000, -1.0000, -1.0000, -0.9999,  0.1138,  1.0000,\n",
      "          1.0000, -0.9856, -1.0000, -1.0000,  1.0000,  1.0000, -1.0000,  1.0000,\n",
      "         -0.9635, -1.0000,  1.0000, -1.0000,  1.0000, -1.0000, -1.0000, -1.0000,\n",
      "          1.0000,  1.0000, -1.0000, -1.0000],\n",
      "        [-1.0000, -0.4492, -1.0000,  0.9999,  1.0000, -1.0000, -1.0000, -1.0000,\n",
      "         -0.9835, -1.0000, -0.9999,  1.0000,  0.9994, -1.0000,  0.8536,  1.0000,\n",
      "         -1.0000,  1.0000,  1.0000,  1.0000, -1.0000, -0.9214, -0.8534, -1.0000,\n",
      "         -0.9999,  0.9836,  1.0000,  0.8935, -1.0000,  1.0000,  0.9999, -0.9489,\n",
      "          0.1613,  1.0000,  1.0000, -1.0000, -1.0000, -1.0000,  0.9739, -0.9935,\n",
      "          1.0000,  1.0000, -0.5567, -1.0000,  0.7725, -0.9932, -1.0000, -1.0000,\n",
      "         -1.0000, -0.8225, -0.6788, -1.0000, -1.0000, -1.0000, -0.8009,  0.9336,\n",
      "          0.9998,  0.6928, -0.9999,  1.0000,  1.0000, -1.0000,  1.0000,  1.0000,\n",
      "         -1.0000, -0.9708, -1.0000,  1.0000, -1.0000,  1.0000,  1.0000, -0.7132,\n",
      "          0.1046, -0.9997,  1.0000, -1.0000, -1.0000, -0.9979,  0.2179,  1.0000,\n",
      "          1.0000, -0.8983, -1.0000, -1.0000,  0.9993,  0.9998, -1.0000,  1.0000,\n",
      "         -0.8857, -1.0000,  1.0000, -1.0000,  0.9999, -1.0000, -1.0000, -1.0000,\n",
      "          1.0000,  1.0000, -0.9934, -1.0000]], grad_fn=<TanhBackward>)\n",
      "3   tensor([[-0.4932,  0.1145, -0.6740,  0.8429,  0.2756,  0.2345,  0.8578,  0.4498,\n",
      "         -0.2097, -0.6513,  0.3573,  0.5872,  0.4736,  0.2569,  0.6586, -0.5187,\n",
      "          0.3006,  0.1855,  0.5960, -0.5008, -0.0612,  0.2887, -0.9416,  0.2449,\n",
      "          0.9347,  0.3690,  0.3204, -0.2362, -0.8160,  0.2012, -0.4504,  0.1905,\n",
      "          0.3911,  0.0312,  0.6361,  0.1294, -0.5769,  0.6224,  0.3244, -0.3686,\n",
      "          0.1127, -0.2929, -0.2591,  0.4211,  0.3748, -0.7674,  0.3362, -0.2375,\n",
      "         -0.1189, -0.3010,  0.1920,  0.4692, -0.1006, -0.1817, -0.0720,  0.2924,\n",
      "         -0.0403, -0.3325,  0.3271, -0.1744,  0.0436,  0.1190, -0.5289, -0.6066,\n",
      "         -0.5461, -0.8456, -0.8982, -0.0852,  0.0918, -0.3998, -0.0358, -0.1371,\n",
      "          0.5212,  0.4532, -0.0732,  0.3255,  0.9283,  0.2027,  0.3141, -0.3949,\n",
      "         -0.5008,  0.4555,  0.3084,  0.4567,  0.3228, -0.0396, -0.2357,  0.1618,\n",
      "         -0.3118, -0.2674,  0.3573,  0.8316,  0.3880,  0.0491,  0.0819,  0.0331,\n",
      "          0.0800, -0.5316, -0.6058,  0.2590,  0.3188,  0.7299, -0.2813, -0.8630,\n",
      "          0.2665, -0.1731,  0.7761, -0.8876,  0.1316, -0.0793,  0.0162,  0.2064,\n",
      "         -0.5323, -0.0678,  0.1965, -0.4412, -0.7403, -0.1233, -0.4406, -0.6681,\n",
      "          0.5039,  0.3436,  0.8239, -0.7866, -0.4211,  0.0674, -0.1027,  0.9798,\n",
      "          0.4035, -0.1329,  0.2498,  0.4183, -0.9042, -0.1673,  0.4535, -0.4267,\n",
      "          0.3615, -0.9376,  0.1348, -0.2012, -0.0260,  0.3846, -0.3791, -0.5255,\n",
      "          0.4608, -0.1409,  0.8792, -0.6800,  0.5082, -0.2044, -0.0760, -0.7524,\n",
      "         -0.0185, -0.3204, -0.7872, -0.7342,  0.6414, -0.5030, -0.3153,  0.6409,\n",
      "          0.3617,  0.5995, -0.7476,  0.0333,  0.5925,  0.5538,  0.6139,  0.4018,\n",
      "          0.0148, -0.3253, -0.0895, -0.1597,  0.0230,  0.5032, -0.7291, -0.1244,\n",
      "         -0.2090, -0.1560,  0.3459,  0.5154, -0.6912, -0.4078,  0.2966,  0.4367,\n",
      "         -0.2759, -0.2262, -0.5249,  0.0180, -0.2936,  0.2344,  0.0028,  0.2981,\n",
      "         -0.2961, -0.2217, -0.2024,  0.7651, -0.4531,  0.5093, -0.8830,  0.0071],\n",
      "        [-0.4107,  0.3545, -0.7207,  0.7283,  0.4475,  0.0795,  0.7614,  0.0629,\n",
      "         -0.5585, -0.5527,  0.2933,  0.8452,  0.4611,  0.5039,  0.8364, -0.6220,\n",
      "          0.0928,  0.8207,  0.7147, -0.0765, -0.3839,  0.5316, -0.9695,  0.6550,\n",
      "          0.8843,  0.3716, -0.0160, -0.4239, -0.9573,  0.3573, -0.3407,  0.0879,\n",
      "          0.6202,  0.4523,  0.4615,  0.0175, -0.5216,  0.8375, -0.1741, -0.7285,\n",
      "         -0.0103, -0.1137, -0.1985, -0.0148,  0.5264, -0.4571,  0.3881,  0.3930,\n",
      "         -0.2607, -0.6771, -0.0622,  0.3417,  0.3366,  0.4638, -0.3447,  0.2482,\n",
      "         -0.0697, -0.1827,  0.2438, -0.0707,  0.2109,  0.0784, -0.5860, -0.5883,\n",
      "         -0.9827, -0.8651, -0.8020,  0.1624, -0.4293, -0.3332,  0.2936,  0.0286,\n",
      "          0.5988,  0.9754, -0.2543,  0.2949,  0.9299,  0.6228,  0.5431, -0.5675,\n",
      "         -0.6605,  0.3622,  0.4437,  0.1802,  0.6440, -0.4480, -0.4896,  0.4498,\n",
      "         -0.5062, -0.5530,  0.5828,  0.7786,  0.3968,  0.1852,  0.9006, -0.1939,\n",
      "          0.0387, -0.2996, -0.4327,  0.4319,  0.3078,  0.9664, -0.0409, -0.7993,\n",
      "         -0.2380,  0.0961,  0.7655, -0.8848,  0.2474, -0.1493, -0.1220,  0.5426,\n",
      "         -0.9025, -0.2751,  0.0213, -0.3840, -0.7562,  0.1489, -0.9414, -0.6667,\n",
      "          0.5886,  0.3747,  0.7966, -0.7708, -0.6427, -0.1568, -0.5843,  0.9619,\n",
      "          0.6699, -0.2148,  0.3202,  0.7223, -0.8862,  0.0491, -0.1496, -0.0386,\n",
      "          0.6258, -0.8469,  0.5297,  0.3018,  0.5023,  0.7914, -0.5642, -0.7281,\n",
      "          0.6765, -0.1830,  0.8386, -0.4983,  0.7411, -0.4075, -0.0557, -0.6719,\n",
      "         -0.5512, -0.5016, -0.5669, -0.8770,  0.8195, -0.4710,  0.2177,  0.5139,\n",
      "          0.3344,  0.7891, -0.7282, -0.0501,  0.3515,  0.7018,  0.7757,  0.4440,\n",
      "          0.0292, -0.3909,  0.1519, -0.4965,  0.3741,  0.6617, -0.7665, -0.3601,\n",
      "         -0.4675, -0.2254,  0.7102,  0.6555, -0.8448, -0.8035,  0.6596,  0.6752,\n",
      "         -0.1761,  0.0361, -0.0848, -0.5689, -0.2781,  0.3560, -0.4986, -0.0953,\n",
      "         -0.4641, -0.4099, -0.6405,  0.7555, -0.4306,  0.3975, -0.9407,  0.1163],\n",
      "        [-0.4063,  0.3590, -0.7005,  0.7391,  0.4466,  0.0711,  0.7857,  0.0905,\n",
      "         -0.5434, -0.5837,  0.2662,  0.8494,  0.4416,  0.4751,  0.8261, -0.6226,\n",
      "          0.1251,  0.7959,  0.7096, -0.1241, -0.3402,  0.5221, -0.9698,  0.6752,\n",
      "          0.8855,  0.3896, -0.0016, -0.4301, -0.9568,  0.2716, -0.3287,  0.0416,\n",
      "          0.6380,  0.3669,  0.4737, -0.0219, -0.5474,  0.8104, -0.1374, -0.6843,\n",
      "         -0.0158, -0.1560, -0.1771, -0.0061,  0.5055, -0.4752,  0.3216,  0.4255,\n",
      "         -0.2682, -0.6495, -0.0263,  0.3312,  0.3406,  0.4308, -0.3213,  0.2891,\n",
      "         -0.1267, -0.1404,  0.1878, -0.0776,  0.2084,  0.0792, -0.5829, -0.5935,\n",
      "         -0.9813, -0.8485, -0.7940,  0.1668, -0.4501, -0.3406,  0.2631,  0.0500,\n",
      "          0.5754,  0.9725, -0.2657,  0.2188,  0.9248,  0.6160,  0.5538, -0.5335,\n",
      "         -0.6732,  0.3847,  0.4009,  0.1954,  0.6395, -0.4515, -0.4929,  0.3994,\n",
      "         -0.5200, -0.5577,  0.5447,  0.7749,  0.4008,  0.1971,  0.8957, -0.1909,\n",
      "          0.0302, -0.3119, -0.4316,  0.3964,  0.2811,  0.9646, -0.0569, -0.8036,\n",
      "         -0.2127,  0.1068,  0.7526, -0.8746,  0.2673, -0.1299, -0.1912,  0.5633,\n",
      "         -0.8991, -0.2667, -0.0135, -0.3788, -0.7486,  0.1092, -0.9423, -0.6663,\n",
      "          0.5779,  0.3671,  0.7933, -0.7516, -0.6227, -0.1791, -0.6154,  0.9611,\n",
      "          0.6506, -0.2495,  0.3601,  0.7071, -0.8988,  0.0304, -0.1503, -0.0689,\n",
      "          0.6390, -0.8465,  0.5590,  0.2715,  0.4696,  0.7814, -0.5502, -0.7118,\n",
      "          0.6632, -0.1725,  0.8422, -0.5194,  0.7150, -0.3919, -0.0701, -0.6588,\n",
      "         -0.5439, -0.5158, -0.5751, -0.8644,  0.7962, -0.4563,  0.2061,  0.5281,\n",
      "          0.2944,  0.7625, -0.7262, -0.0548,  0.3700,  0.6573,  0.7638,  0.4267,\n",
      "          0.0557, -0.3691,  0.0642, -0.4911,  0.3848,  0.6497, -0.7472, -0.4196,\n",
      "         -0.4598, -0.1888,  0.7227,  0.6445, -0.8415, -0.7852,  0.6531,  0.6269,\n",
      "         -0.2320,  0.0733, -0.0606, -0.5442, -0.2866,  0.3668, -0.4570, -0.0591,\n",
      "         -0.4847, -0.3670, -0.6489,  0.7352, -0.3845,  0.4103, -0.9447,  0.1166]],\n",
      "       grad_fn=<TanhBackward>)\n",
      "4   tensor([[9.9976e-01, 2.3539e-04],\n",
      "        [1.0000e+00, 3.5783e-08],\n",
      "        [1.0000e+00, 3.9632e-08]], grad_fn=<SoftmaxBackward>)\n"
     ]
    },
    {
     "name": "stderr",
     "output_type": "stream",
     "text": [
      "/home/denis/anaconda3/envs/tourch_gym/lib/python3.7/site-packages/ipykernel_launcher.py:17: UserWarning: Implicit dimension choice for softmax has been deprecated. Change the call to include dim=X as an argument.\n"
     ]
    },
    {
     "data": {
      "text/plain": [
       "tensor([[9.9976e-01, 2.3539e-04],\n",
       "        [1.0000e+00, 3.5783e-08],\n",
       "        [1.0000e+00, 3.9632e-08]], grad_fn=<SoftmaxBackward>)"
      ]
     },
     "execution_count": 262,
     "metadata": {},
     "output_type": "execute_result"
    }
   ],
   "source": [
    "x, y = get_batch(3)\n",
    "net(x, 1)"
   ]
  },
  {
   "cell_type": "code",
   "execution_count": null,
   "metadata": {},
   "outputs": [],
   "source": []
  },
  {
   "cell_type": "code",
   "execution_count": null,
   "metadata": {},
   "outputs": [],
   "source": []
  },
  {
   "cell_type": "code",
   "execution_count": null,
   "metadata": {},
   "outputs": [],
   "source": []
  },
  {
   "cell_type": "code",
   "execution_count": 60,
   "metadata": {},
   "outputs": [],
   "source": [
    "optimizer = optim.SGD(net.parameters(), lr=0.1, momentum=0.9)"
   ]
  },
  {
   "cell_type": "code",
   "execution_count": 123,
   "metadata": {},
   "outputs": [
    {
     "name": "stdout",
     "output_type": "stream",
     "text": [
      "Parameter containing:\n",
      "tensor([[0.4474, 0.3263]], requires_grad=True)\n"
     ]
    }
   ],
   "source": [
    "#optimizer.step()\n",
    "print(net.l1.weight)"
   ]
  },
  {
   "cell_type": "code",
   "execution_count": 115,
   "metadata": {},
   "outputs": [
    {
     "name": "stdout",
     "output_type": "stream",
     "text": [
      "Parameter containing:\n",
      "tensor([[0.3711, 0.1932]], requires_grad=True)\n"
     ]
    }
   ],
   "source": [
    "print(net.l1.weight)"
   ]
  },
  {
   "cell_type": "markdown",
   "metadata": {},
   "source": [
    "# From minus get plus"
   ]
  },
  {
   "cell_type": "code",
   "execution_count": 156,
   "metadata": {},
   "outputs": [
    {
     "data": {
      "text/plain": [
       "(tensor([[ 14.],\n",
       "         [-13.],\n",
       "         [ 14.],\n",
       "         [ 19.],\n",
       "         [ 16.]]), tensor([[14.],\n",
       "         [13.],\n",
       "         [14.],\n",
       "         [19.],\n",
       "         [16.]]))"
      ]
     },
     "execution_count": 156,
     "metadata": {},
     "output_type": "execute_result"
    }
   ],
   "source": [
    "def get_batch(size, count_n=2):\n",
    "    x = np.random.randint(-20, 20, [size, 1])\n",
    "    y = np.abs(x)#np.zeros_like(x)\n",
    "    return Variable(Tensor(x)), Variable(Tensor(y))#.view([1,-1])\n",
    "\n",
    "get_batch(5)"
   ]
  },
  {
   "cell_type": "code",
   "execution_count": 157,
   "metadata": {},
   "outputs": [],
   "source": [
    "class NN(nn.Module):\n",
    "    def __init__(self):\n",
    "        super(NN, self).__init__()\n",
    "        self.l1 = nn.Linear(1,2)\n",
    "        self.t1 = nn.Tanh()\n",
    "        self.l2 = nn.Linear(2, 1)\n",
    "        #self.l3 = nn.Linear(1,2)\n",
    "        \n",
    "    def forward(self, x, pr=0):\n",
    "        #x = Variable(Tensor(x))\n",
    "        if pr: print('1  ', x)\n",
    "        x = self.l1(x)\n",
    "        x = self.t1(x)\n",
    "        if pr: print('2  ', x)\n",
    "        x = F.relu(self.l2(x))\n",
    "        if pr: print('3  ', x)\n",
    "        #x = F.softmax(self.l3(x))\n",
    "        #if pr: print('4  ', x)\n",
    "        return x\n",
    "    \n",
    "net = NN()\n",
    "\n",
    "criterion = nn.MSELoss()\n",
    "optimizer = optim.SGD(net.parameters(), lr=0.001, momentum=0.9)\n",
    "\n",
    "loss_back = []"
   ]
  },
  {
   "cell_type": "code",
   "execution_count": 158,
   "metadata": {},
   "outputs": [
    {
     "name": "stdout",
     "output_type": "stream",
     "text": [
      "Parameter containing:\n",
      "tensor([[-0.3527],\n",
      "        [-0.3207]], requires_grad=True)\n"
     ]
    },
    {
     "data": {
      "image/png": "[encoded data removed]",
      "text/plain": [
       "<Figure size 432x288 with 1 Axes>"
      ]
     },
     "metadata": {
      "needs_background": "light"
     },
     "output_type": "display_data"
    }
   ],
   "source": [
    "for i in range(200):\n",
    "    optimizer.zero_grad()\n",
    "    # x, y = get_batch3(24)\n",
    "    # pry = net(x)\n",
    "    x, y = get_batch(10)\n",
    "    \n",
    "    pry = net(x)\n",
    "    #print((pry[:,0], y))\n",
    "    loss = criterion(pry, y)\n",
    "    #print(loss)\n",
    "    if i%10 ==0:\n",
    "        loss_back.append(loss)\n",
    "    loss.backward()\n",
    "    optimizer.step()\n",
    "    \n",
    "print(net.l1.weight)\n",
    "plt.plot(loss_back)\n",
    "plt.show()"
   ]
  },
  {
   "cell_type": "code",
   "execution_count": null,
   "metadata": {},
   "outputs": [],
   "source": []
  }
 ],
 "metadata": {
  "kernelspec": {
   "display_name": "Python 3",
   "language": "python",
   "name": "python3"
  },
  "language_info": {
   "codemirror_mode": {
    "name": "ipython",
    "version": 3
   },
   "file_extension": ".py",
   "mimetype": "text/x-python",
   "name": "python",
   "nbconvert_exporter": "python",
   "pygments_lexer": "ipython3",
   "version": "3.7.2"
  }
 },
 "nbformat": 4,
 "nbformat_minor": 2
}
