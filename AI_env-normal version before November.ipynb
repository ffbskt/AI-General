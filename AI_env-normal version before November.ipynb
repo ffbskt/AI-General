{
 "cells": [
  {
   "cell_type": "code",
   "execution_count": null,
   "metadata": {
    "colab": {
     "base_uri": "https://localhost:8080/",
     "height": 35
    },
    "colab_type": "code",
    "executionInfo": {
     "elapsed": 583,
     "status": "ok",
     "timestamp": 1566885518185,
     "user": {
      "displayName": "Денис Волконский",
      "photoUrl": "https://lh3.googleusercontent.com/a-/AAuE7mCa88QtBa4ugmPsmDvN8iDihIvOioJ15g-G0Qpx=s64",
      "userId": "09425448476864996625"
     },
     "user_tz": -180
    },
    "id": "cSytdP8poSs2",
    "outputId": "50030209-d46e-48eb-f5cc-6acbc35f57c9"
   },
   "outputs": [],
   "source": [
    "# for colab\n",
    "from google.colab import drive\n",
    "drive.mount('/content/gdrive')"
   ]
  },
  {
   "cell_type": "code",
   "execution_count": null,
   "metadata": {
    "colab": {},
    "colab_type": "code",
    "id": "znp4kWzNoS2L"
   },
   "outputs": [],
   "source": [
    "project_dir = '/content/gdrive/My Drive/ColabNotebooks/AI'\n",
    "import sys\n",
    "sys.path.insert(0, project_dir)"
   ]
  },
  {
   "cell_type": "markdown",
   "metadata": {},
   "source": [
    "# Step by step mcts"
   ]
  },
  {
   "cell_type": "code",
   "execution_count": 1,
   "metadata": {},
   "outputs": [],
   "source": [
    "import numpy as np\n",
    "from models import Model, Trainer\n",
    "from env_test import Env\n",
    "from mcts import MCTS\n",
    "\n",
    "class dotdict(dict):\n",
    "    def __getattr__(self, name):\n",
    "        return self[name]\n",
    "\n",
    "model =Model()# LSTMTagger()#Model()\n",
    "env = Env(1,1)\n",
    "\n",
    "args = dotdict({'cpuct':0.5, 'iters':1000})"
   ]
  },
  {
   "cell_type": "code",
   "execution_count": 2,
   "metadata": {},
   "outputs": [],
   "source": [
    "import matplotlib.pyplot as plt\n",
    "%matplotlib inline"
   ]
  },
  {
   "cell_type": "code",
   "execution_count": 3,
   "metadata": {
    "scrolled": true
   },
   "outputs": [
    {
     "name": "stdout",
     "output_type": "stream",
     "text": [
      "1927\n"
     ]
    }
   ],
   "source": [
    "\n",
    "mcts2 = MCTS(env, model, args)\n",
    "val = list(mcts2.sampling())\n",
    "print(len(val))\n",
    "#val = [v for v in val if v.parent and v.parent.times_visited > 2]\n",
    "#print(len(val))\n",
    "t = Trainer(env, batch_size=5)\n",
    "#t.train_model(val, model, batch_size=10, net_iters=300)\n",
    "#examples = deque([], maxlen=1000)\n",
    "\n"
   ]
  },
  {
   "cell_type": "code",
   "execution_count": 36,
   "metadata": {},
   "outputs": [
    {
     "name": "stdout",
     "output_type": "stream",
     "text": [
      "544 386\n"
     ]
    }
   ],
   "source": [
    "from sklearn.model_selection import train_test_split\n",
    "\n",
    "val = t.clean_unpredict_node(val1) # from deep down\n",
    "print(len(val1), len(val))\n",
    "train_cur, test_cur = train_test_split(val)\n",
    "#train[k] = train_cur\n",
    "#test[k] = test_cur"
   ]
  },
  {
   "cell_type": "code",
   "execution_count": 32,
   "metadata": {},
   "outputs": [
    {
     "ename": "IndexError",
     "evalue": "list index out of range",
     "output_type": "error",
     "traceback": [
      "\u001b[0;31m---------------------------------------------------------------------------\u001b[0m",
      "\u001b[0;31mIndexError\u001b[0m                                Traceback (most recent call last)",
      "\u001b[0;32m<ipython-input-32-e06937f6c987>\u001b[0m in \u001b[0;36m<module>\u001b[0;34m\u001b[0m\n\u001b[1;32m      1\u001b[0m \u001b[0mbatch\u001b[0m \u001b[0;34m=\u001b[0m \u001b[0mt\u001b[0m\u001b[0;34m.\u001b[0m\u001b[0mget_batch\u001b[0m\u001b[0;34m(\u001b[0m\u001b[0mval\u001b[0m\u001b[0;34m,\u001b[0m \u001b[0mbatch_size\u001b[0m\u001b[0;34m=\u001b[0m\u001b[0;36m5\u001b[0m\u001b[0;34m)\u001b[0m\u001b[0;34m\u001b[0m\u001b[0;34m\u001b[0m\u001b[0m\n\u001b[0;32m----> 2\u001b[0;31m \u001b[0mb\u001b[0m \u001b[0;34m=\u001b[0m \u001b[0mt\u001b[0m\u001b[0;34m.\u001b[0m\u001b[0mtransform_bach_as_input\u001b[0m\u001b[0;34m(\u001b[0m\u001b[0mbatch\u001b[0m\u001b[0;34m,\u001b[0m \u001b[0mmodel\u001b[0m\u001b[0;34m)\u001b[0m\u001b[0;34m\u001b[0m\u001b[0;34m\u001b[0m\u001b[0m\n\u001b[0m\u001b[1;32m      3\u001b[0m \u001b[0mprint\u001b[0m\u001b[0;34m(\u001b[0m\u001b[0mb\u001b[0m\u001b[0;34m[\u001b[0m\u001b[0;36m0\u001b[0m\u001b[0;34m]\u001b[0m\u001b[0;34m)\u001b[0m\u001b[0;31m#'dataX\\n', b[0].shape)#, '\\n rew, prob, result\\n', b[1:])\u001b[0m\u001b[0;34m\u001b[0m\u001b[0;34m\u001b[0m\u001b[0m\n\u001b[1;32m      4\u001b[0m \u001b[0;31m#    print(b[0])\u001b[0m\u001b[0;34m\u001b[0m\u001b[0;34m\u001b[0m\u001b[0;34m\u001b[0m\u001b[0m\n\u001b[1;32m      5\u001b[0m \u001b[0;31m#import matplotlib.pyplot as plt\u001b[0m\u001b[0;34m\u001b[0m\u001b[0;34m\u001b[0m\u001b[0;34m\u001b[0m\u001b[0m\n",
      "\u001b[0;32m~/Program/AI0/AI-General/models.py\u001b[0m in \u001b[0;36mtransform_bach_as_input\u001b[0;34m(self, batch, model)\u001b[0m\n\u001b[1;32m     86\u001b[0m \u001b[0;34m\u001b[0m\u001b[0m\n\u001b[1;32m     87\u001b[0m \u001b[0;34m\u001b[0m\u001b[0m\n\u001b[0;32m---> 88\u001b[0;31m             \u001b[0mnet_observ\u001b[0m \u001b[0;34m=\u001b[0m \u001b[0mmodel\u001b[0m\u001b[0;34m.\u001b[0m\u001b[0mget_observation\u001b[0m\u001b[0;34m(\u001b[0m\u001b[0mnode\u001b[0m\u001b[0;34m.\u001b[0m\u001b[0mformula\u001b[0m\u001b[0;34m,\u001b[0m \u001b[0mself\u001b[0m\u001b[0;34m.\u001b[0m\u001b[0menv\u001b[0m\u001b[0;34m,\u001b[0m \u001b[0mnode\u001b[0m\u001b[0;34m.\u001b[0m\u001b[0mhistory_data\u001b[0m\u001b[0;34m[\u001b[0m\u001b[0;34m'time'\u001b[0m\u001b[0;34m]\u001b[0m\u001b[0;34m[\u001b[0m\u001b[0mi\u001b[0m\u001b[0;34m]\u001b[0m\u001b[0;34m)\u001b[0m\u001b[0;34m\u001b[0m\u001b[0;34m\u001b[0m\u001b[0m\n\u001b[0m\u001b[1;32m     89\u001b[0m             \u001b[0mX\u001b[0m\u001b[0;34m.\u001b[0m\u001b[0mappend\u001b[0m\u001b[0;34m(\u001b[0m\u001b[0mnet_observ\u001b[0m\u001b[0;34m.\u001b[0m\u001b[0mview\u001b[0m\u001b[0;34m(\u001b[0m\u001b[0;34m[\u001b[0m\u001b[0;36m1\u001b[0m\u001b[0;34m,\u001b[0m\u001b[0;34m-\u001b[0m\u001b[0;36m1\u001b[0m\u001b[0;34m]\u001b[0m\u001b[0;34m)\u001b[0m\u001b[0;34m)\u001b[0m\u001b[0;34m\u001b[0m\u001b[0;34m\u001b[0m\u001b[0m\n\u001b[1;32m     90\u001b[0m             \u001b[0mp_next\u001b[0m \u001b[0;34m=\u001b[0m \u001b[0mnp\u001b[0m\u001b[0;34m.\u001b[0m\u001b[0mzeros\u001b[0m\u001b[0;34m(\u001b[0m\u001b[0mself\u001b[0m\u001b[0;34m.\u001b[0m\u001b[0menv\u001b[0m\u001b[0;34m.\u001b[0m\u001b[0mn_actions\u001b[0m\u001b[0;34m)\u001b[0m\u001b[0;34m\u001b[0m\u001b[0;34m\u001b[0m\u001b[0m\n",
      "\u001b[0;31mIndexError\u001b[0m: list index out of range"
     ]
    }
   ],
   "source": [
    "batch = t.get_batch(val, batch_size=5)\n",
    "b = t.transform_bach_as_input(batch, model)\n",
    "print(b[0])#'dataX\\n', b[0].shape)#, '\\n rew, prob, result\\n', b[1:])\n",
    "#    print(b[0])\n",
    "#import matplotlib.pyplot as plt\n",
    "\n",
    "#plt.plot(t.loss_backet)\n",
    "#plt.show()"
   ]
  },
  {
   "cell_type": "code",
   "execution_count": null,
   "metadata": {},
   "outputs": [],
   "source": []
  },
  {
   "cell_type": "code",
   "execution_count": null,
   "metadata": {},
   "outputs": [],
   "source": []
  },
  {
   "cell_type": "code",
   "execution_count": null,
   "metadata": {},
   "outputs": [],
   "source": []
  },
  {
   "cell_type": "code",
   "execution_count": 6,
   "metadata": {},
   "outputs": [
    {
     "name": "stdout",
     "output_type": "stream",
     "text": [
      "{}\n"
     ]
    },
    {
     "ename": "NameError",
     "evalue": "name 'get_linear_out' is not defined",
     "output_type": "error",
     "traceback": [
      "\u001b[0;31m---------------------------------------------------------------------------\u001b[0m",
      "\u001b[0;31mNameError\u001b[0m                                 Traceback (most recent call last)",
      "\u001b[0;32m<ipython-input-6-81d7636a9242>\u001b[0m in \u001b[0;36m<module>\u001b[0;34m\u001b[0m\n\u001b[1;32m     29\u001b[0m \u001b[0;34m\u001b[0m\u001b[0m\n\u001b[1;32m     30\u001b[0m \u001b[0mmcts2\u001b[0m \u001b[0;34m=\u001b[0m \u001b[0mMCTS\u001b[0m\u001b[0;34m(\u001b[0m\u001b[0menv\u001b[0m\u001b[0;34m,\u001b[0m \u001b[0mmodel\u001b[0m\u001b[0;34m,\u001b[0m \u001b[0margs\u001b[0m\u001b[0;34m)\u001b[0m\u001b[0;34m\u001b[0m\u001b[0;34m\u001b[0m\u001b[0m\n\u001b[0;32m---> 31\u001b[0;31m \u001b[0menv_high_dificult\u001b[0m\u001b[0;34m(\u001b[0m\u001b[0mEnv\u001b[0m\u001b[0;34m,\u001b[0m \u001b[0mmcts2\u001b[0m\u001b[0;34m,\u001b[0m \u001b[0mt\u001b[0m\u001b[0;34m)\u001b[0m\u001b[0;34m\u001b[0m\u001b[0;34m\u001b[0m\u001b[0m\n\u001b[0m",
      "\u001b[0;32m<ipython-input-6-81d7636a9242>\u001b[0m in \u001b[0;36menv_high_dificult\u001b[0;34m(Env, agent, Trainer)\u001b[0m\n\u001b[1;32m     18\u001b[0m         \u001b[0mval\u001b[0m \u001b[0;34m=\u001b[0m \u001b[0mlist\u001b[0m\u001b[0;34m(\u001b[0m\u001b[0magent\u001b[0m\u001b[0;34m.\u001b[0m\u001b[0msampling\u001b[0m\u001b[0;34m(\u001b[0m\u001b[0;34m)\u001b[0m\u001b[0;34m)\u001b[0m\u001b[0;34m\u001b[0m\u001b[0;34m\u001b[0m\u001b[0m\n\u001b[1;32m     19\u001b[0m         \u001b[0mval\u001b[0m \u001b[0;34m=\u001b[0m \u001b[0mTrainer\u001b[0m\u001b[0;34m.\u001b[0m\u001b[0mclean_unpredict_node\u001b[0m\u001b[0;34m(\u001b[0m\u001b[0mval\u001b[0m\u001b[0;34m)\u001b[0m\u001b[0;34m\u001b[0m\u001b[0;34m\u001b[0m\u001b[0m\n\u001b[0;32m---> 20\u001b[0;31m         \u001b[0mX\u001b[0m\u001b[0;34m,\u001b[0m \u001b[0myv\u001b[0m\u001b[0;34m,\u001b[0m \u001b[0myp\u001b[0m \u001b[0;34m=\u001b[0m \u001b[0mget_linear_out\u001b[0m\u001b[0;34m(\u001b[0m\u001b[0mval\u001b[0m\u001b[0;34m)\u001b[0m\u001b[0;34m\u001b[0m\u001b[0;34m\u001b[0m\u001b[0m\n\u001b[0m\u001b[1;32m     21\u001b[0m         \u001b[0mlossb\u001b[0m \u001b[0;34m=\u001b[0m \u001b[0mtrain_model\u001b[0m\u001b[0;34m(\u001b[0m\u001b[0mX\u001b[0m\u001b[0;34m,\u001b[0m \u001b[0myv\u001b[0m\u001b[0;34m,\u001b[0m \u001b[0myp\u001b[0m\u001b[0;34m,\u001b[0m \u001b[0magent\u001b[0m\u001b[0;34m.\u001b[0m\u001b[0mmodel\u001b[0m\u001b[0;34m,\u001b[0m \u001b[0mnet_iters\u001b[0m\u001b[0;34m=\u001b[0m\u001b[0;36m500\u001b[0m\u001b[0;34m)\u001b[0m\u001b[0;34m\u001b[0m\u001b[0;34m\u001b[0m\u001b[0m\n\u001b[1;32m     22\u001b[0m         \u001b[0mplt\u001b[0m\u001b[0;34m.\u001b[0m\u001b[0mplot\u001b[0m\u001b[0;34m(\u001b[0m\u001b[0mlossb\u001b[0m\u001b[0;34m)\u001b[0m\u001b[0;34m\u001b[0m\u001b[0;34m\u001b[0m\u001b[0m\n",
      "\u001b[0;31mNameError\u001b[0m: name 'get_linear_out' is not defined"
     ]
    }
   ],
   "source": [
    "def env_high_dificult(Env, agent, Trainer):\n",
    "    \n",
    "    epoch = iter_lim = 10\n",
    "    stat = {}\n",
    "    ind_dificult = 1\n",
    "    env = Env(1, ind_dificult)\n",
    "    while epoch:\n",
    "        epoch -= 1\n",
    "        print(stat)\n",
    "        if agent.sum_reward > 10:\n",
    "            stat[ind_dificult] = [iter_lim - epoch, agent.sum_reward]\n",
    "            agent.sum_reward = 0\n",
    "            ind_dificult += 1\n",
    "            epoch = iter_lim\n",
    "            env = Env(1, ind_dificult)\n",
    "            agent.env = env\n",
    "        \n",
    "        val = list(agent.sampling())\n",
    "        val = Trainer.clean_unpredict_node(val)\n",
    "        X, yv, yp = get_linear_out(val)\n",
    "        lossb = train_model(X, yv, yp, agent.model, net_iters=500)\n",
    "        plt.plot(lossb)\n",
    "        plt.show()\n",
    "        \n",
    "    return stat\n",
    "        \n",
    "        \n",
    "        \n",
    "        \n",
    "mcts2 = MCTS(env, model, args)\n",
    "env_high_dificult(Env, mcts2, t)"
   ]
  },
  {
   "cell_type": "code",
   "execution_count": null,
   "metadata": {},
   "outputs": [],
   "source": []
  },
  {
   "cell_type": "code",
   "execution_count": 7,
   "metadata": {},
   "outputs": [
    {
     "name": "stdout",
     "output_type": "stream",
     "text": [
      "1879 1492\n"
     ]
    }
   ],
   "source": [
    "from sklearn.model_selection import train_test_split\n",
    "\n",
    "\n",
    "train = {'1o1':[]}#, '1o2':[], '1o3':[]}\n",
    "test = {'1o1':[]}#, '1o2':[], '1o3':[]}\n",
    "for k in train:\n",
    "    env = Env(1,int(k[2]))\n",
    "    mcts2 = MCTS(env, model, args)\n",
    "    X = list(mcts2.sampling())\n",
    "    val = t.clean_unpredict_node(X)\n",
    "    print(len(X), len(val))\n",
    "    train_cur, test_cur = train_test_split(val)\n",
    "    train[k] = train_cur\n",
    "    test[k] = test_cur\n",
    "    "
   ]
  },
  {
   "cell_type": "code",
   "execution_count": 8,
   "metadata": {},
   "outputs": [],
   "source": [
    "def get_linear_out(samples):\n",
    "    X, yv, yp, cresult = t.transform_bach_as_input(samples, model)\n",
    "    return X, yv, yp\n",
    "\n",
    "k = '1o1'\n",
    "X, yv, yp = get_linear_out(train[k])\n",
    "Xt, yvt, ypt = get_linear_out(test[k])"
   ]
  },
  {
   "cell_type": "code",
   "execution_count": 9,
   "metadata": {},
   "outputs": [
    {
     "data": {
      "text/plain": [
       "1119"
      ]
     },
     "execution_count": 9,
     "metadata": {},
     "output_type": "execute_result"
    }
   ],
   "source": [
    "len(train[k])"
   ]
  },
  {
   "cell_type": "code",
   "execution_count": 10,
   "metadata": {},
   "outputs": [],
   "source": [
    "def loss_rew(tr, pr):\n",
    "    return np.sum((tr - pr)**2) / len(tr)"
   ]
  },
  {
   "cell_type": "code",
   "execution_count": 11,
   "metadata": {},
   "outputs": [
    {
     "data": {
      "text/plain": [
       "0.6368839221498704"
      ]
     },
     "execution_count": 11,
     "metadata": {},
     "output_type": "execute_result"
    }
   ],
   "source": [
    "import numpy as np\n",
    "from sklearn.linear_model import LinearRegression\n",
    "reg = LinearRegression().fit(X, yv)\n",
    "loss_rew(yvt, reg.predict(Xt))"
   ]
  },
  {
   "cell_type": "code",
   "execution_count": 12,
   "metadata": {},
   "outputs": [
    {
     "data": {
      "text/plain": [
       "0.8846956233714893"
      ]
     },
     "execution_count": 12,
     "metadata": {},
     "output_type": "execute_result"
    }
   ],
   "source": [
    "loss_rew(yvt, model.predict(Xt)[1])"
   ]
  },
  {
   "cell_type": "code",
   "execution_count": 13,
   "metadata": {},
   "outputs": [
    {
     "data": {
      "text/plain": [
       "0.6914029436960678"
      ]
     },
     "execution_count": 13,
     "metadata": {},
     "output_type": "execute_result"
    }
   ],
   "source": [
    "loss_rew(yvt, np.mean(yv))"
   ]
  },
  {
   "cell_type": "code",
   "execution_count": 14,
   "metadata": {},
   "outputs": [
    {
     "name": "stderr",
     "output_type": "stream",
     "text": [
      "/home/denis/anaconda3/envs/tourch_gym/lib/python3.7/site-packages/ipykernel_launcher.py:3: DataConversionWarning: A column-vector y was passed when a 1d array was expected. Please change the shape of y to (n_samples,), for example using ravel().\n",
      "  This is separate from the ipykernel package so we can avoid doing imports until\n"
     ]
    },
    {
     "data": {
      "text/plain": [
       "RandomForestRegressor(bootstrap=True, criterion='mse', max_depth=5,\n",
       "           max_features='auto', max_leaf_nodes=None,\n",
       "           min_impurity_decrease=0.0, min_impurity_split=None,\n",
       "           min_samples_leaf=1, min_samples_split=2,\n",
       "           min_weight_fraction_leaf=0.0, n_estimators=300, n_jobs=None,\n",
       "           oob_score=False, random_state=0, verbose=0, warm_start=False)"
      ]
     },
     "execution_count": 14,
     "metadata": {},
     "output_type": "execute_result"
    }
   ],
   "source": [
    "from sklearn.ensemble import RandomForestRegressor\n",
    "regr = RandomForestRegressor(max_depth=5, random_state=0, n_estimators=300)#, criterion='mae')\n",
    "regr.fit(X, yv)"
   ]
  },
  {
   "cell_type": "code",
   "execution_count": 15,
   "metadata": {},
   "outputs": [
    {
     "data": {
      "text/plain": [
       "285.12126773223275"
      ]
     },
     "execution_count": 15,
     "metadata": {},
     "output_type": "execute_result"
    }
   ],
   "source": [
    "loss_rew(yvt, regr.predict(Xt))"
   ]
  },
  {
   "cell_type": "code",
   "execution_count": 16,
   "metadata": {},
   "outputs": [
    {
     "data": {
      "text/plain": [
       "KNeighborsRegressor(algorithm='auto', leaf_size=30, metric='minkowski',\n",
       "          metric_params=None, n_jobs=None, n_neighbors=5, p=2,\n",
       "          weights='uniform')"
      ]
     },
     "execution_count": 16,
     "metadata": {},
     "output_type": "execute_result"
    }
   ],
   "source": [
    "from sklearn.neighbors import KNeighborsRegressor\n",
    "clf = KNeighborsRegressor()\n",
    "clf.fit(X, yv)"
   ]
  },
  {
   "cell_type": "code",
   "execution_count": 17,
   "metadata": {},
   "outputs": [
    {
     "data": {
      "text/plain": [
       "0.9055009893898737"
      ]
     },
     "execution_count": 17,
     "metadata": {},
     "output_type": "execute_result"
    }
   ],
   "source": [
    "loss_rew(yvt, clf.predict(Xt))"
   ]
  },
  {
   "cell_type": "code",
   "execution_count": 21,
   "metadata": {},
   "outputs": [],
   "source": [
    "import torch\n",
    "from torch import Tensor, nn\n",
    "import torch.optim as optim\n",
    "from torch.autograd import Variable\n",
    "import torch.nn.functional as F\n",
    "\n",
    "class Model(nn.Module):\n",
    "    def __init__(self):\n",
    "        super(Model, self).__init__()\n",
    "        self.cnv1 = nn.Conv1d(1,6,8)\n",
    "        self.fc1 = nn.Linear(18, 64)\n",
    "        self.fc2 = nn.Linear(64, 64)\n",
    "        self.action_prob_out = nn.Linear(64, 8)\n",
    "        #self.val0 = nn.Linear(40, 80)\n",
    "        self.val = nn.Linear(64, 1)\n",
    "\n",
    "    def forward(self, x):\n",
    "        #print(x.shape)\n",
    "        #x = x.view(-1,17)\n",
    "        #x = self.cnv1(x.view(1, 1,-1))\n",
    "        # print(x.shape)\n",
    "        #x = torch.flatten(x, start_dim=1)\n",
    "        x = F.relu(self.fc1(x))\n",
    "        x = F.relu(self.fc2(x))\n",
    "        act_prob = F.softmax(self.action_prob_out(x), dim=-1)\n",
    "        #val = F.tanh(self.val(x))\n",
    "        val = self.val(x)\n",
    "        #val_sum = self.val_sum_out(val)\n",
    "\n",
    "        return act_prob, val\n",
    "\n",
    "    def predict(self, x):\n",
    "        self.eval()\n",
    "        #x = Variable(Tensor(x))\n",
    "        act_prob, val = self.forward(x)\n",
    "        return act_prob.data.numpy(), val.data.numpy()\n",
    "\n",
    "\n",
    "def get_batch(nodes_buc, batch_size=20):\n",
    "    \"\"\"remove all nodes that have not history\"\"\"\n",
    "    n = len(nodes_buc)\n",
    "    index = [\n",
    "        np.random.randint(0, n - 1)\n",
    "        for _ in range(batch_size)\n",
    "    ]\n",
    "    #print(len(self.replay), index, [self.replay[i] for i in index]   )\n",
    "    return index#[nodes_buc[i] for i in index]\n",
    "\n",
    "\n",
    "def train_model(Xa,yr,yp, model, batch_size=10, net_iters=200):\n",
    "    optimizer = optim.SGD(model.parameters(), lr=0.1)#, momentum=0.03, weight_decay=0.1)\n",
    "    loss_backet = []\n",
    "    for i in range(net_iters):\n",
    "        #batch = #self.get_batch(nodes_buc, batch_size=batch_size or self.batch_size)\n",
    "        # print(batch)\n",
    "        ind = get_batch(Xa)\n",
    "\n",
    "        X, real_reward, real_prob = Xa[ind], yr[ind], yp[ind]#self.transform_bach_as_input(batch, model)\n",
    "\n",
    "\n",
    "        #print(i, real_prob.shape)\n",
    "        model.train()\n",
    "        #for x, rr, rp in zip(X, real_reward, real_prob):\n",
    "            #print(xx, rrr,rpp)\n",
    "        optimizer.zero_grad()\n",
    "        #print(X)\n",
    "        p_pred, v_pred = model(X)\n",
    "        # print('pr  ', probability, 'pp  ', p_pred)\n",
    "        val_loss = torch.mean((Variable(Tensor(real_reward)) - v_pred) ** 2)  # , Variable(Tensor([10]))\n",
    "        loss = val_loss - torch.mean(Variable(Tensor(real_prob)) * torch.log(p_pred))\n",
    "        #loss = - torch.mean(Variable(Tensor(real_prob)) * torch.log(p_pred))\n",
    "        #print(loss, rpp, p_pred)\n",
    "        loss.backward()\n",
    "        optimizer.step()\n",
    "        loss_backet.append(loss.data.numpy())\n",
    "        \n",
    "    return loss_backet\n",
    "\n",
    "model = Model()"
   ]
  },
  {
   "cell_type": "code",
   "execution_count": 22,
   "metadata": {},
   "outputs": [
    {
     "data": {
      "image/png": "[encoded data removed]",
      "text/plain": [
       "<Figure size 432x288 with 1 Axes>"
      ]
     },
     "metadata": {
      "needs_background": "light"
     },
     "output_type": "display_data"
    }
   ],
   "source": [
    "lossb = train_model(X, yv, yp, model, net_iters=500)\n",
    "plt.plot(lossb)\n",
    "plt.show()"
   ]
  },
  {
   "cell_type": "markdown",
   "metadata": {},
   "source": [
    "# LSTM Model"
   ]
  },
  {
   "cell_type": "code",
   "execution_count": null,
   "metadata": {},
   "outputs": [],
   "source": [
    "import LSTMmodel\n",
    "#from  import LSTMModel, mctsTrainer\n",
    "model = LSTMmodel.LSTMModel(32, 64, 8, 8)\n",
    "\n"
   ]
  },
  {
   "cell_type": "code",
   "execution_count": null,
   "metadata": {},
   "outputs": [],
   "source": [
    "trainer = LSTMmodel.mctsTrainer(env, mcts2, batch_size=20)\n",
    "trainer.train_model(train[k], model, net_iters=800)"
   ]
  },
  {
   "cell_type": "code",
   "execution_count": null,
   "metadata": {},
   "outputs": [],
   "source": [
    "plt.plot(trainer.loss_backet)\n",
    "plt.show()"
   ]
  },
  {
   "cell_type": "code",
   "execution_count": null,
   "metadata": {},
   "outputs": [],
   "source": [
    "test_lstm, _, _, _ = trainer.transform_bach_as_input(test[k], model)\n",
    "test_lstm = test_lstm.view(-1, len(test_lstm))\n",
    "loss_rew(yvt, model(test_lstm)[1].data.numpy())\n",
    "#get_loss_from(test_lstm, model)"
   ]
  },
  {
   "cell_type": "code",
   "execution_count": null,
   "metadata": {},
   "outputs": [],
   "source": [
    "import importlib\n",
    "importlib.reload(LSTMmodel)"
   ]
  },
  {
   "cell_type": "markdown",
   "metadata": {},
   "source": [
    "# Embeding actions"
   ]
  },
  {
   "cell_type": "code",
   "execution_count": null,
   "metadata": {},
   "outputs": [],
   "source": [
    "import numpy as np\n",
    "from collections import defaultdict\n",
    "treegramm_count = defaultdict(lambda: defaultdict(int))\n",
    "\n",
    "treegramm_count\n",
    "\n",
    "def delta(dict1, dict2):\n",
    "    #print(np.sum(list(dict1.values()), dict1.values())\n",
    "    return np.sum(list(dict1.values())) - np.sum(list(dict2.values()))\n",
    "\n",
    "def betreegrams(val, env, treegramm_count):\n",
    "    results = {}\n",
    "    treegramm_count = defaultdict(lambda: defaultdict(int))\n",
    "    for v in val[:100]:\n",
    "        #print(env.result, v.formula)\n",
    "        env.calc_formula(v.formula)\n",
    "        results[v.formula] = env.result.copy()\n",
    "        if env.result['o'] == env.out: print(v.formula)\n",
    "    #print(results)\n",
    "    for v in val[:100]:\n",
    "        # beegram\n",
    "        for i in range(len(v.formula)-2):\n",
    "            # beegram\n",
    "            #print(i, results[v.formula[:i]], v.formula[:i])\n",
    "            if i > 0 and delta(results[v.formula[:i]], results[v.formula[:i + 1]]) != 0:\n",
    "                \n",
    "                treegramm_count[v.formula[i-1]][v.formula[i]] += 1\n",
    "                treegramm_count[v.formula[i-1:i+1]][v.formula[i+1]] += 1\n",
    "            if i > 0 and delta(results[v.formula[:i]], results[v.formula[:i + 2]]) != 0:\n",
    "                # ?? peace of sheet!! eB1 in 1ABCieB1e we could remove it...\n",
    "                #print('aa', v.formula, v.formula[:i+1], results[v.formula[:i]], results[v.formula[:i+2]],\n",
    "                #      v.formula[i-1], v.formula[i-1:i+2]\n",
    "                #     )\n",
    "                treegramm_count[v.formula[i-1]][v.formula[i]] += 1\n",
    "                treegramm_count[v.formula[i-1:i+1]][v.formula[i+1]] += 1\n",
    "        i = len(v.formula) - 1\n",
    "        if i >= 0 and delta(results[v.formula[:i]], results[v.formula[:i + 1]]) != 0:\n",
    "            treegramm_count[v.formula[i-1]][v.formula[i]] += 1\n",
    "    return treegramm_count, results\n",
    "    \n",
    "            \n",
    "t, r = betreegrams(val, env, treegramm_count)                "
   ]
  },
  {
   "cell_type": "code",
   "execution_count": null,
   "metadata": {},
   "outputs": [],
   "source": [
    "t"
   ]
  },
  {
   "cell_type": "code",
   "execution_count": null,
   "metadata": {},
   "outputs": [],
   "source": [
    "def count_grams(val, env, treegramm_count):\n",
    "    results = {}\n",
    "    treegramm_count = defaultdict(lambda: defaultdict(int))\n",
    "    treegramm_list = []\n",
    "    for v in val:\n",
    "        #print(env.result, v.formula)\n",
    "        env.calc_formula(v.formula)\n",
    "        results[v.formula] = env.result.copy()\n",
    "        if env.result['o'] == env.out: print(v.formula)\n",
    "    #print(results)\n",
    "    for v in val:\n",
    "        # beegram\n",
    "        for i in range(len(v.formula)-2):\n",
    "            if i>0 and delta(results[v.formula[:i+1]], results[v.formula[:i+2]]):\n",
    "                #print(v.formula)\n",
    "                #treegramm_count[v.formula[i:i+1]][v.formula[i+1:i+2]] += 1\n",
    "                treegramm_count[v.formula[i-1:i+1]][v.formula[i+1:i+2]] += 1\n",
    "                #treegramm_list.append([list(v.formula[i-1:i+1]), v.formula[i+1:i+2]])\n",
    "                treegramm_list.append([list(v.formula[i-1:i]), v.formula[i:i+1]])\n",
    "                treegramm_list.append([list(v.formula[i:i+1]), v.formula[i+1:i+2]])\n",
    "            # beegram\n",
    "            \n",
    "        #i = len(v.formula) - 1\n",
    "        #if i >= 0 and delta(results[v.formula[:i]], results[v.formula[:i + 1]]) != 0:\n",
    "            #treegramm_count[v.formula[i-1]][v.formula[i]] += 1\n",
    "    return treegramm_count, treegramm_list, results\n",
    "\n",
    "t, tl, r = count_grams(val, env, treegramm_count)   \n",
    "#tl"
   ]
  },
  {
   "cell_type": "code",
   "execution_count": null,
   "metadata": {},
   "outputs": [],
   "source": [
    "len(tl)"
   ]
  },
  {
   "cell_type": "code",
   "execution_count": null,
   "metadata": {},
   "outputs": [],
   "source": [
    "import torch\n",
    "import torch.nn as nn\n",
    "import torch.nn.functional as F\n",
    "import torch.optim as optim\n",
    "\n",
    "torch.manual_seed(1)"
   ]
  },
  {
   "cell_type": "code",
   "execution_count": null,
   "metadata": {},
   "outputs": [],
   "source": [
    "CONTEXT_SIZE = 1\n",
    "EMBEDDING_DIM = 10\n",
    "trigrams = tl#[([test_sentence[i], test_sentence[i + 1]], test_sentence[i + 2])\n",
    "           # for i in range(len(test_sentence) - 2)]\n",
    "# print the first 3, just so you can see what they look like\n",
    "print(trigrams[:3])\n",
    "\n",
    "vocab = set(env.action_space)\n",
    "word_to_ix = {word: i for i, word in enumerate(env.action_space)}\n",
    "\n",
    "\n",
    "class NGramLanguageModeler(nn.Module):\n",
    "\n",
    "    def __init__(self, vocab_size, embedding_dim, context_size):\n",
    "        super(NGramLanguageModeler, self).__init__()\n",
    "        self.embeddings = nn.Embedding(vocab_size, embedding_dim)\n",
    "        self.linear1 = nn.Linear(context_size * embedding_dim, 128)\n",
    "        self.linear2 = nn.Linear(128, vocab_size)\n",
    "\n",
    "    def forward(self, inputs):\n",
    "        embeds = self.embeddings(inputs).view((1, -1))\n",
    "        out = F.relu(self.linear1(embeds))\n",
    "        out = self.linear2(out)\n",
    "        log_probs = F.log_softmax(out, dim=1)\n",
    "        return log_probs\n",
    "\n",
    "\n",
    "losses = []\n",
    "loss_function = nn.NLLLoss()\n",
    "model = NGramLanguageModeler(len(vocab), EMBEDDING_DIM, CONTEXT_SIZE)\n",
    "optimizer = optim.SGD(model.parameters(), lr=0.001)\n",
    "\n",
    "for epoch in range(10):\n",
    "    total_loss = 0\n",
    "    for context, target in trigrams:\n",
    "\n",
    "        # Step 1. Prepare the inputs to be passed to the model (i.e, turn the words\n",
    "        # into integer indices and wrap them in tensors)\n",
    "        context_idxs = torch.tensor([word_to_ix[w] for w in context], dtype=torch.long)\n",
    "\n",
    "        # Step 2. Recall that torch *accumulates* gradients. Before passing in a\n",
    "        # new instance, you need to zero out the gradients from the old\n",
    "        # instance\n",
    "        model.zero_grad()\n",
    "\n",
    "        # Step 3. Run the forward pass, getting log probabilities over next\n",
    "        # words\n",
    "        log_probs = model(context_idxs)\n",
    "\n",
    "        # Step 4. Compute your loss function. (Again, Torch wants the target\n",
    "        # word wrapped in a tensor)\n",
    "        loss = loss_function(log_probs, torch.tensor([word_to_ix[target]], dtype=torch.long))\n",
    "\n",
    "        # Step 5. Do the backward pass and update the gradient\n",
    "        loss.backward()\n",
    "        optimizer.step()\n",
    "\n",
    "        # Get the Python number from a 1-element Tensor by calling tensor.item()\n",
    "        total_loss += loss.item()\n",
    "    losses.append(total_loss)\n",
    "print(losses)  # The loss decreased every iteration over the training data!"
   ]
  },
  {
   "cell_type": "code",
   "execution_count": null,
   "metadata": {},
   "outputs": [],
   "source": [
    "dataframe = np.vstack([model.embeddings(torch.tensor([i])).data.numpy() for i in range(8)])"
   ]
  },
  {
   "cell_type": "code",
   "execution_count": null,
   "metadata": {},
   "outputs": [],
   "source": []
  },
  {
   "cell_type": "code",
   "execution_count": null,
   "metadata": {},
   "outputs": [],
   "source": []
  },
  {
   "cell_type": "code",
   "execution_count": null,
   "metadata": {},
   "outputs": [],
   "source": [
    "from sklearn.decomposition import PCA\n",
    "\n",
    "\n",
    "#dataframe = np.concatenate([samples, test], axis=0)#[train, test, samples], axis=0)\n",
    "\n",
    "pca = PCA(n_components=2)\n",
    "X_feature_reduced = pca.fit(dataframe).transform(dataframe)\n",
    "# map word vectors onto 2d plane with PCA. Use good old sklearn api (fit, transform)\n",
    "# after that, normalize vectors to make sure they have zero mean and unit variance\n",
    "#word_vectors_pca = # YOUR CODE\n",
    "\n",
    "# and maybe MORE OF YOUR CODE here :)"
   ]
  },
  {
   "cell_type": "code",
   "execution_count": null,
   "metadata": {},
   "outputs": [],
   "source": [
    "plt.scatter(x=X_feature_reduced[:,0], y=X_feature_reduced[:,1])"
   ]
  },
  {
   "cell_type": "code",
   "execution_count": null,
   "metadata": {},
   "outputs": [],
   "source": [
    "import bokeh.models as bm, bokeh.plotting as pl\n",
    "from bokeh.io import output_notebook\n",
    "output_notebook()\n",
    "\n",
    "def draw_vectors(x, y, radius=10, alpha=0.25, color='blue',\n",
    "                 width=600, height=400, show=True, **kwargs):\n",
    "    \"\"\" draws an interactive plot for data points with auxilirary info on hover \"\"\"\n",
    "    if isinstance(color, str): color = [color] * len(x)\n",
    "    data_source = bm.ColumnDataSource({ 'x' : x, 'y' : y, 'color': color, **kwargs })\n",
    "\n",
    "    fig = pl.figure(active_scroll='wheel_zoom', width=width, height=height)\n",
    "    fig.scatter('x', 'y', size=radius, color='color', alpha=alpha, source=data_source)\n",
    "\n",
    "    fig.add_tools(bm.HoverTool(tooltips=[(key, \"@\" + key) for key in kwargs.keys()]))\n",
    "    if show: pl.show(fig)\n",
    "    return fig"
   ]
  },
  {
   "cell_type": "code",
   "execution_count": null,
   "metadata": {},
   "outputs": [],
   "source": [
    "draw_vectors(X_feature_reduced[:, 0], X_feature_reduced[:, 1], token=list(vocab))"
   ]
  },
  {
   "cell_type": "code",
   "execution_count": null,
   "metadata": {},
   "outputs": [],
   "source": [
    "class def_zer():\n",
    "    def __init__(self):\n",
    "        return np.zeros([8])\n"
   ]
  },
  {
   "cell_type": "code",
   "execution_count": null,
   "metadata": {},
   "outputs": [],
   "source": [
    "from collections import defaultdict\n",
    "j= defaultdict(int)\n",
    "prj = np.zeros([8])"
   ]
  },
  {
   "cell_type": "code",
   "execution_count": null,
   "metadata": {},
   "outputs": [],
   "source": [
    "model = sm"
   ]
  },
  {
   "cell_type": "code",
   "execution_count": null,
   "metadata": {},
   "outputs": [],
   "source": [
    "clval = t.clean_unpredict_node(val)\n",
    "sm.train(clval)\n",
    "for f in clval:\n",
    "    last = -1\n",
    "    if f.formula and f.formula[-1:]=='e' and len(f.history_data['next_node_ind']) > last:\n",
    "        print(f.times_visited, f.formula, f.history_data['next_node_ind'][last])                                       \n",
    "        j[f.history_data['next_node_ind'][last]] += 1\n",
    "        x = model.get_observation(f.formula, env)\n",
    "        prj += model.predict(x)[0].reshape([8])\n",
    "        \n",
    "\n",
    "#[(f.formula, f.history_data['next_node_ind'][0], j[f.history_data['next_node_ind'][0]] += 1) "
   ]
  },
  {
   "cell_type": "code",
   "execution_count": null,
   "metadata": {},
   "outputs": [],
   "source": [
    "j"
   ]
  },
  {
   "cell_type": "code",
   "execution_count": null,
   "metadata": {},
   "outputs": [],
   "source": [
    "prj"
   ]
  },
  {
   "cell_type": "code",
   "execution_count": null,
   "metadata": {},
   "outputs": [],
   "source": [
    "prj"
   ]
  },
  {
   "cell_type": "code",
   "execution_count": null,
   "metadata": {},
   "outputs": [],
   "source": [
    "[f.formula for f in val]"
   ]
  },
  {
   "cell_type": "markdown",
   "metadata": {},
   "source": [
    "# Stat model"
   ]
  },
  {
   "cell_type": "code",
   "execution_count": null,
   "metadata": {},
   "outputs": [],
   "source": [
    "from collections import defaultdict\n",
    "\n",
    "class StModel:\n",
    "    def __init__(self, env):\n",
    "        self.env = env\n",
    "        self.stat = np.random.rand(8, 8)\n",
    "        self.vstat = np.random.rand(8)\n",
    "        \n",
    "    def train(self, val):\n",
    "        self.stat = np.zeros([8, 8])\n",
    "        self.predvst = defaultdict(list)\n",
    "        self.vstat = np.zeros([8])\n",
    "        for node in val:\n",
    "            if node.formula:\n",
    "                v = self.env.action_space.index(node.formula[0])\n",
    "                nv = node.history_data['next_node_ind'][-1]\n",
    "                nr = node.history_data['next_node_val'][-1]\n",
    "                self.stat[v][nv] += 1\n",
    "                self.predvst[v].append(nr)\n",
    "        self.stat /= np.sum(self.stat, axis=0) + 0.0001\n",
    "        for i, k in enumerate(self.predvst):\n",
    "            self.vstat[i] = sum(self.predvst[k]) / len(self.predvst[k])\n",
    "         \n",
    "            \n",
    "    def predict(self, formula):\n",
    "        v = self.env.action_space.index(formula[-1])\n",
    "        return self.stat[:, v], self.vstat[v]\n",
    "    \n",
    "    def get_observation(self, formula, env, time=0):\n",
    "        return formula\n",
    "            \n",
    "sm = StModel(env)\n",
    "#sm.train(val)\n",
    "sm.predict('Ai')"
   ]
  },
  {
   "cell_type": "code",
   "execution_count": null,
   "metadata": {},
   "outputs": [],
   "source": [
    "sm.train(train[k][0])\n",
    "sm.predict('Ai')"
   ]
  },
  {
   "cell_type": "code",
   "execution_count": null,
   "metadata": {},
   "outputs": [],
   "source": [
    "def get_loss_from(test, model):\n",
    "    ans = np.zeros_like(yvt)\n",
    "    for i, f in enumerate(test):\n",
    "    #print('===', f.formula)    \n",
    "        if f.formula:\n",
    "            ans[i] = model.predict(f.formula)[1]\n",
    "        else:\n",
    "            ans[i] = 1\n",
    "    return loss_rew(yvt, ans)\n",
    "\n",
    "get_loss_from(test[k][0], sm)"
   ]
  },
  {
   "cell_type": "code",
   "execution_count": null,
   "metadata": {},
   "outputs": [],
   "source": [
    "loss_rew(yvt, ans)"
   ]
  },
  {
   "cell_type": "code",
   "execution_count": null,
   "metadata": {},
   "outputs": [],
   "source": []
  },
  {
   "cell_type": "code",
   "execution_count": null,
   "metadata": {},
   "outputs": [],
   "source": []
  },
  {
   "cell_type": "markdown",
   "metadata": {},
   "source": [
    "# Train LSTM"
   ]
  },
  {
   "cell_type": "code",
   "execution_count": null,
   "metadata": {},
   "outputs": [],
   "source": [
    "t = mctsTrainer(env, mcts, batch_size=20)\n",
    "\n",
    "def get_sorted_batch(val, batch_size=20):\n",
    "    sort_val = sorted(val, key=lambda x: len(x.formula))\n",
    "    i = np.random.randint(len(val) - batch_size)\n",
    "    yield sort_val[i:i + batch_size]\n",
    "    \n"
   ]
  },
  {
   "cell_type": "code",
   "execution_count": null,
   "metadata": {
    "scrolled": true
   },
   "outputs": [],
   "source": [
    "#sbach = list(get_sorted_batch(val))\n",
    "#print(sbach[0])\n",
    "#for i in sbach[0]: \n",
    "#    print(i.formula)"
   ]
  },
  {
   "cell_type": "code",
   "execution_count": null,
   "metadata": {},
   "outputs": [],
   "source": [
    "for epoch in range(10):\n",
    "    batch = list(get_sorted_batch(val))\n",
    "    \n",
    "    torch.cat([model.get_observation(n.formula, env) for n in batch]).view(t.batch_size)"
   ]
  },
  {
   "cell_type": "code",
   "execution_count": null,
   "metadata": {},
   "outputs": [],
   "source": []
  },
  {
   "cell_type": "code",
   "execution_count": null,
   "metadata": {},
   "outputs": [],
   "source": []
  },
  {
   "cell_type": "code",
   "execution_count": null,
   "metadata": {},
   "outputs": [],
   "source": []
  },
  {
   "cell_type": "code",
   "execution_count": null,
   "metadata": {},
   "outputs": [],
   "source": []
  },
  {
   "cell_type": "code",
   "execution_count": null,
   "metadata": {},
   "outputs": [],
   "source": [
    "CONTEXT_SIZE = 1\n",
    "EMBEDDING_DIM = 10\n",
    "trigrams = [([test_sentence[i], test_sentence[i + 1]], test_sentence[i + 2])\n",
    "            for i in range(len(test_sentence) - 2)]\n",
    "# print the first 3, just so you can see what they look like\n",
    "print(trigrams[:3])\n",
    "\n",
    "vocab = set(env.action_space)\n",
    "word_to_ix = {word: i for i, word in enumerate(env.action_space)}\n",
    "\n",
    "\n",
    "class NGramLanguageModeler(nn.Module):\n",
    "\n",
    "    def __init__(self, vocab_size, embedding_dim, context_size):\n",
    "        super(NGramLanguageModeler, self).__init__()\n",
    "        self.embeddings = nn.Embedding(vocab_size, embedding_dim)\n",
    "        self.linear1 = nn.Linear(context_size * embedding_dim, 128)\n",
    "        self.linear2 = nn.Linear(128, vocab_size)\n",
    "\n",
    "    def forward(self, inputs):\n",
    "        embeds = self.embeddings(inputs).view((1, -1))\n",
    "        out = F.relu(self.linear1(embeds))\n",
    "        out = self.linear2(out)\n",
    "        log_probs = F.log_softmax(out, dim=1)\n",
    "        return log_probs\n",
    "\n",
    "\n",
    "losses = []\n",
    "loss_function = nn.NLLLoss()\n",
    "model = NGramLanguageModeler(len(vocab), EMBEDDING_DIM, CONTEXT_SIZE)\n",
    "optimizer = optim.SGD(model.parameters(), lr=0.001)\n",
    "\n",
    "for epoch in range(10):\n",
    "    total_loss = 0\n",
    "    for context, target in trigrams:\n",
    "\n",
    "        # Step 1. Prepare the inputs to be passed to the model (i.e, turn the words\n",
    "        # into integer indices and wrap them in tensors)\n",
    "        context_idxs = torch.tensor([word_to_ix[w] for w in context], dtype=torch.long)\n",
    "\n",
    "        # Step 2. Recall that torch *accumulates* gradients. Before passing in a\n",
    "        # new instance, you need to zero out the gradients from the old\n",
    "        # instance\n",
    "        model.zero_grad()\n",
    "\n",
    "        # Step 3. Run the forward pass, getting log probabilities over next\n",
    "        # words\n",
    "        log_probs = model(context_idxs)\n",
    "\n",
    "        # Step 4. Compute your loss function. (Again, Torch wants the target\n",
    "        # word wrapped in a tensor)\n",
    "        loss = loss_function(log_probs, torch.tensor([word_to_ix[target]], dtype=torch.long))\n",
    "\n",
    "        # Step 5. Do the backward pass and update the gradient\n",
    "        loss.backward()\n",
    "        optimizer.step()\n",
    "\n",
    "        # Get the Python number from a 1-element Tensor by calling tensor.item()\n",
    "        total_loss += loss.item()\n",
    "    losses.append(total_loss)\n",
    "print(losses)  # The loss decreased every iteration over the training data!"
   ]
  },
  {
   "cell_type": "code",
   "execution_count": null,
   "metadata": {},
   "outputs": [],
   "source": []
  },
  {
   "cell_type": "code",
   "execution_count": null,
   "metadata": {},
   "outputs": [],
   "source": []
  },
  {
   "cell_type": "code",
   "execution_count": null,
   "metadata": {},
   "outputs": [],
   "source": [
    "from random import shuffle"
   ]
  },
  {
   "cell_type": "code",
   "execution_count": null,
   "metadata": {},
   "outputs": [],
   "source": [
    "def val_data(val):\n",
    "    print(val.formula, val.fin_prob, val.ucb_score())\n",
    "\n",
    "shuffle(val)\n",
    "for i in range(30):\n",
    "    val_data(val[i+1])"
   ]
  },
  {
   "cell_type": "code",
   "execution_count": null,
   "metadata": {},
   "outputs": [],
   "source": [
    "mcts.Nodes['i1iBo'].times_visited"
   ]
  },
  {
   "cell_type": "code",
   "execution_count": null,
   "metadata": {},
   "outputs": [],
   "source": [
    "t.transform_bach_as_input(t.get_batch(val))"
   ]
  },
  {
   "cell_type": "code",
   "execution_count": null,
   "metadata": {},
   "outputs": [],
   "source": []
  },
  {
   "cell_type": "code",
   "execution_count": null,
   "metadata": {},
   "outputs": [],
   "source": []
  },
  {
   "cell_type": "code",
   "execution_count": null,
   "metadata": {},
   "outputs": [],
   "source": [
    "import pandas as pd"
   ]
  },
  {
   "cell_type": "code",
   "execution_count": null,
   "metadata": {},
   "outputs": [],
   "source": [
    "values = {'1': 1, 'i': 0, 'o': 0, 'A': 0, 'B': 0, 'C': 0}\n",
    "keys=list(values) + ['s', 'e']\n",
    "\n",
    "dd = {'formula':[], 'val_sum':[]}\n",
    "for i in replay_buffer.replay:\n",
    "    dd['formula'].append(i[2])\n",
    "    dd['val_sum'].append(i[3].value_sum)\n",
    "    \n",
    "    for j, k in enumerate(keys):\n",
    "        #print('j', j, i[4])\n",
    "        #print(i, i[4][j])\n",
    "        dd[k] = i[4][j]\n",
    "\n",
    "df = pd.DataFrame(dd)"
   ]
  },
  {
   "cell_type": "code",
   "execution_count": null,
   "metadata": {},
   "outputs": [],
   "source": [
    "df[df['formula']=='']#['ucb'].idxmax()"
   ]
  },
  {
   "cell_type": "code",
   "execution_count": null,
   "metadata": {},
   "outputs": [],
   "source": [
    "df[df['formula']=='ie']#['ucb'].idxmax()"
   ]
  },
  {
   "cell_type": "code",
   "execution_count": null,
   "metadata": {},
   "outputs": [],
   "source": [
    "replay_buffer.get_batch()"
   ]
  },
  {
   "cell_type": "code",
   "execution_count": null,
   "metadata": {},
   "outputs": [],
   "source": []
  },
  {
   "cell_type": "code",
   "execution_count": null,
   "metadata": {},
   "outputs": [],
   "source": [
    "import torch.nn.functional as F\n",
    "from torch import Tensor\n",
    "F.softmax(Tensor([0,0,0])).numpy()"
   ]
  },
  {
   "cell_type": "code",
   "execution_count": null,
   "metadata": {
    "colab": {},
    "colab_type": "code",
    "id": "FHT8MKGkKgMZ"
   },
   "outputs": [],
   "source": [
    "test_env.reset()\n",
    "Vocab, Vocab[1]"
   ]
  },
  {
   "cell_type": "code",
   "execution_count": null,
   "metadata": {
    "colab": {},
    "colab_type": "code",
    "id": "vF4aIxxZKgMd"
   },
   "outputs": [],
   "source": [
    "j.select_best_leaf().action"
   ]
  },
  {
   "cell_type": "code",
   "execution_count": null,
   "metadata": {
    "colab": {},
    "colab_type": "code",
    "id": "FOQXFnS1KgMi"
   },
   "outputs": [],
   "source": [
    "j.select_best_leaf().rollout(env, 10)"
   ]
  },
  {
   "cell_type": "code",
   "execution_count": null,
   "metadata": {
    "colab": {},
    "colab_type": "code",
    "id": "JIrncnZsKgMm"
   },
   "outputs": [],
   "source": [
    "test_env.step(1)"
   ]
  },
  {
   "cell_type": "code",
   "execution_count": null,
   "metadata": {
    "colab": {},
    "colab_type": "code",
    "id": "e-cTCUZ1KgMs"
   },
   "outputs": [],
   "source": []
  },
  {
   "cell_type": "code",
   "execution_count": null,
   "metadata": {
    "colab": {},
    "colab_type": "code",
    "id": "NidVAYKCKgMw"
   },
   "outputs": [],
   "source": [
    "test_env.step(3)"
   ]
  },
  {
   "cell_type": "code",
   "execution_count": null,
   "metadata": {
    "colab": {},
    "colab_type": "code",
    "id": "JMg5FKlQKgM4"
   },
   "outputs": [],
   "source": [
    "test_env.step(1)"
   ]
  },
  {
   "cell_type": "code",
   "execution_count": null,
   "metadata": {
    "colab": {},
    "colab_type": "code",
    "id": "bkCYSESeKgM_"
   },
   "outputs": [],
   "source": [
    "test_env.step(2)"
   ]
  },
  {
   "cell_type": "code",
   "execution_count": null,
   "metadata": {
    "colab": {},
    "colab_type": "code",
    "id": "aI3S4cplKgNJ"
   },
   "outputs": [],
   "source": [
    "test_env.step(1)"
   ]
  },
  {
   "cell_type": "code",
   "execution_count": null,
   "metadata": {
    "colab": {},
    "colab_type": "code",
    "id": "X0cm_RpRKgNN"
   },
   "outputs": [],
   "source": [
    "test_env.step(3)"
   ]
  },
  {
   "cell_type": "markdown",
   "metadata": {
    "colab_type": "text",
    "id": "TeL1SNw8KgNQ"
   },
   "source": [
    "# Imetation learning \n",
    "### if we already know answer we should show it to mcts tree."
   ]
  },
  {
   "cell_type": "code",
   "execution_count": null,
   "metadata": {
    "colab": {},
    "colab_type": "code",
    "id": "M3OmftFqKgNS",
    "outputId": "ce5b2f36-6702-4124-b61e-3ac00cdc1b79"
   },
   "outputs": [],
   "source": [
    "#text = \"input_eq_A A[2]_eq_out\"\n",
    "def text_to_actions(text, vocab=Vocab):\n",
    "    action_seq = []\n",
    "    i = 0\n",
    "    operator = ''\n",
    "    while i < len(text):\n",
    "        if text[i] in Vocab:\n",
    "            action_seq.append(Vocab.index(text[i]))\n",
    "        else:\n",
    "            operator += text[i]\n",
    "            #print('ss', text[i], operator)\n",
    "            if operator == 'input':\n",
    "                operator = ''\n",
    "                \n",
    "            if operator in Vocab:\n",
    "                action_seq.append(Vocab.index(operator))\n",
    "                operator = ''\n",
    "\n",
    "\n",
    "        i += 1\n",
    "    return action_seq\n",
    "\n",
    "for i in text_to_actions(text):\n",
    "    print(Vocab[i])\n",
    "text_to_actions(text)\n",
    "        #print(Vocab.index(i))\n",
    "        #print(env.step(1))\n",
    "        #print(env.step(Vocab.index(i)))"
   ]
  },
  {
   "cell_type": "code",
   "execution_count": null,
   "metadata": {
    "colab": {},
    "colab_type": "code",
    "id": "dVYXJY8CKgNX"
   },
   "outputs": [],
   "source": [
    "env.reset()"
   ]
  },
  {
   "cell_type": "code",
   "execution_count": null,
   "metadata": {
    "colab": {},
    "colab_type": "code",
    "id": "SyISzsg9KgNa"
   },
   "outputs": [],
   "source": [
    "#text = \"input_sum_A\" \n",
    "for i in text_to_actions(text):\n",
    "    print(i)\n",
    "    print(Vocab[i])\n",
    "    print(env.step(i))"
   ]
  },
  {
   "cell_type": "code",
   "execution_count": null,
   "metadata": {
    "colab": {},
    "colab_type": "code",
    "id": "Fq8wx-GIKgNe",
    "outputId": "c2bc22a2-11d0-47fb-ae78-de64f7916297"
   },
   "outputs": [],
   "source": [
    "text = \"input_eq_A A[2]_const_AA AA_eq_out\" \n",
    "c = CalcNode(text)\n",
    "c.calc(1)"
   ]
  },
  {
   "cell_type": "code",
   "execution_count": null,
   "metadata": {
    "colab": {},
    "colab_type": "code",
    "id": "8HvILK6NKgNi",
    "outputId": "b06ec81a-9728-4fb8-e463-764bb2c402d8"
   },
   "outputs": [],
   "source": [
    "import importlib\n",
    "#import mcts\n",
    "importlib.reload(mcts)"
   ]
  },
  {
   "cell_type": "code",
   "execution_count": null,
   "metadata": {
    "colab": {},
    "colab_type": "code",
    "id": "uGE-MtmQKgNm"
   },
   "outputs": [],
   "source": [
    "root_observation = env.reset()\n",
    "root_snapshot = env.get_snapshot()\n",
    "root = mcts.Root(root_snapshot,root_observation)\n",
    "\n",
    "#plan_mcts(root, env, n_iters=10000, t_max=20)"
   ]
  },
  {
   "cell_type": "code",
   "execution_count": null,
   "metadata": {
    "colab": {},
    "colab_type": "code",
    "id": "dcktRK9PKgNr",
    "outputId": "8a97b6ff-9d2b-4f4c-f71f-07ca8ba61cb3"
   },
   "outputs": [],
   "source": [
    "root.is_leaf()"
   ]
  },
  {
   "cell_type": "code",
   "execution_count": null,
   "metadata": {
    "colab": {},
    "colab_type": "code",
    "id": "dobGrIBhKgNw"
   },
   "outputs": [],
   "source": []
  },
  {
   "cell_type": "code",
   "execution_count": null,
   "metadata": {
    "colab": {},
    "colab_type": "code",
    "id": "Z4tbTs7QKgN1"
   },
   "outputs": [],
   "source": [
    "while True:\n",
    "    is_done = env.step(env.action_space.sample())[2]\n",
    "    if is_done: \n",
    "        print(\"Whoops! We died!\")\n",
    "        break\n",
    "        \n",
    "print(\"final state:\")\n",
    "plt.imshow(env.render('rgb_array'))\n",
    "plt.show()\n"
   ]
  },
  {
   "cell_type": "code",
   "execution_count": null,
   "metadata": {
    "colab": {},
    "colab_type": "code",
    "id": "YCfndGRvKgN7"
   },
   "outputs": [],
   "source": [
    "def teach_mcts(root, env, action_seq):\n",
    "    \"\"\"\n",
    "    builds tree with monte-carlo tree search for n_iters iterations\n",
    "    :param root: tree node to plan from\n",
    "    :param n_iters: how many select-expand-simulate-propagete loops to make\n",
    "    \"\"\"\n",
    "    #node = root\n",
    "    #node = mcts.Node(root, action_seq[0], env)\n",
    "    #root.children.add(node)\n",
    "    for action in action_seq:\n",
    "        #print(action)\n",
    "        #print(node.is_done)\n",
    "        \n",
    "        #next_node = mcts.Node(next_node, action, env)\n",
    "        #node.children.add(mcts.Node(node, action, env))\n",
    "        #node = next_node\n",
    "        \n",
    "        #print(node.is_done)\n",
    "        node = root.select_best_leaf()\n",
    "        \n",
    "        #print(Vocab[node.action])\n",
    "        \n",
    "        if node.is_done:\n",
    "            if node.immediate_reward > 0:\n",
    "                print(\"get_reward mcts plan!\", node.immediate_reward)  \n",
    "            \n",
    "            node.propagate(0)\n",
    "            #env.reset()\n",
    "       \n",
    "        else: #node is not terminal\n",
    "            \n",
    "            #print(_)\n",
    "            #env.reset()\n",
    "            #self.env.close()\n",
    "            #self.render()\n",
    "            node.expand(env)\n",
    "            #print(Vocab[node.action])\n",
    "            for i in node.children:\n",
    "                print('dd', )#Vocab[node.action], node.parent.action)\n",
    "            ## value = node.rollout(env, 10)\n",
    "            #if value >0:\n",
    "            #    print('plan after rolout', value, node.action)\n",
    "            ##node.propagate(value)"
   ]
  },
  {
   "cell_type": "code",
   "execution_count": null,
   "metadata": {
    "colab": {},
    "colab_type": "code",
    "id": "9wpJsyD4KgN_",
    "outputId": "b072c7e6-6701-47ce-e7d5-88fb46a0de64"
   },
   "outputs": [],
   "source": [
    "teach_mcts(root, env, text_to_actions(text))"
   ]
  },
  {
   "cell_type": "code",
   "execution_count": null,
   "metadata": {
    "colab": {},
    "colab_type": "code",
    "id": "rDYbBZD1KgOD"
   },
   "outputs": [],
   "source": [
    "p = mcts.Node(root, 2, env)\n",
    "#p.is_leaf()"
   ]
  },
  {
   "cell_type": "code",
   "execution_count": null,
   "metadata": {
    "colab": {},
    "colab_type": "code",
    "id": "6LmjGfWZKgOI"
   },
   "outputs": [],
   "source": [
    "mcts.plan_mcts(root,env)"
   ]
  },
  {
   "cell_type": "code",
   "execution_count": null,
   "metadata": {
    "colab": {},
    "colab_type": "code",
    "id": "nHYw3ZLhKgOa",
    "outputId": "f7f5c650-8cdc-4f57-ceff-5b7b0f12f0eb"
   },
   "outputs": [],
   "source": [
    "for i in root.children:\n",
    "    print(Vocab[i.action], i.value_sum, len(i.children))"
   ]
  },
  {
   "cell_type": "code",
   "execution_count": null,
   "metadata": {
    "colab": {},
    "colab_type": "code",
    "id": "y4urPh38KgOi",
    "outputId": "4ecbf4f9-e351-4d1e-9710-bbc1c3e504fc"
   },
   "outputs": [],
   "source": [
    "j = root\n",
    "while j.children:\n",
    "    j = j.children.pop()\n",
    "    print(j.action, len(j.children))"
   ]
  },
  {
   "cell_type": "markdown",
   "metadata": {
    "colab": {},
    "colab_type": "code",
    "id": "cPmBVHd9KgOm"
   },
   "source": [
    "# Try learn something again\n"
   ]
  },
  {
   "cell_type": "code",
   "execution_count": 4,
   "metadata": {},
   "outputs": [
    {
     "name": "stdout",
     "output_type": "stream",
     "text": [
      "[<mcts.Node object at 0x7f9bdd477630>, <mcts.Node object at 0x7f9bdd3bb828>, <mcts.Node object at 0x7f9bdd56fb00>, <mcts.Node object at 0x7f9bdd3bb630>, <mcts.Node object at 0x7f9bdd673a20>]\n"
     ]
    }
   ],
   "source": [
    "batch = t.get_batch(val, batch_size=5)\n",
    "print(batch)"
   ]
  },
  {
   "cell_type": "code",
   "execution_count": 5,
   "metadata": {},
   "outputs": [
    {
     "data": {
      "text/plain": [
       "({'time': [1727, 1733, 1740, 1748, 1757, 1767, 1778, 1790, 1803],\n",
       "  'next_node_ind': [5, 5, 5, 5, 5, 5, 5, 5, 5],\n",
       "  'next_node_val': [0.0, 0.0, 0.0, 0.0, 0.0, 0.0, 0.0, 0.0, 0.0]},\n",
       " 'iCAeB')"
      ]
     },
     "execution_count": 5,
     "metadata": {},
     "output_type": "execute_result"
    }
   ],
   "source": [
    "batch[0].history_data, batch[0].formula"
   ]
  },
  {
   "cell_type": "code",
   "execution_count": 29,
   "metadata": {},
   "outputs": [
    {
     "name": "stdout",
     "output_type": "stream",
     "text": [
      "61,48,8,49,42,43,21,50,"
     ]
    },
    {
     "data": {
      "image/png": "[encoded data removed]",
      "text/plain": [
       "<Figure size 432x288 with 1 Axes>"
      ]
     },
     "metadata": {
      "needs_background": "light"
     },
     "output_type": "display_data"
    }
   ],
   "source": [
    "values = {'1': 1, 'i': 0, 'o': 0, 'A': 0, 'B': 0, 'C': 0}\n",
    "actions = list(values) + ['s', 'e']\n",
    "\n",
    "def plt_history(node_formula=''):\n",
    "    NODE = [i for i in val1 if i.formula == node_formula][0]\n",
    "    for k in range(8):\n",
    "        dt = []\n",
    "        for i, t in enumerate(NODE.history_data['time']):\n",
    "\n",
    "            if NODE.history_data['next_node_ind'][i] == k:\n",
    "                dt.append(NODE.history_data['next_node_val'][i])\n",
    "        print(len(dt), end=',')\n",
    "        plt.plot(range(len(dt)), dt, label=actions[k])\n",
    "    plt.legend()\n",
    "    plt.show()\n",
    "    \n",
    "plt_history()"
   ]
  },
  {
   "cell_type": "code",
   "execution_count": 17,
   "metadata": {},
   "outputs": [
    {
     "name": "stdout",
     "output_type": "stream",
     "text": [
      "41,37,7,38,38,36,41,56,"
     ]
    },
    {
     "data": {
      "image/png": "[encoded data removed]",
      "text/plain": [
       "<Figure size 432x288 with 1 Axes>"
      ]
     },
     "metadata": {
      "needs_background": "light"
     },
     "output_type": "display_data"
    }
   ],
   "source": [
    "plt_history('i')"
   ]
  },
  {
   "cell_type": "code",
   "execution_count": 18,
   "metadata": {},
   "outputs": [
    {
     "name": "stdout",
     "output_type": "stream",
     "text": [
      "8,7,7,16,3,6,4,4,"
     ]
    },
    {
     "data": {
      "image/png": "[encoded data removed]",
      "text/plain": [
       "<Figure size 432x288 with 1 Axes>"
      ]
     },
     "metadata": {
      "needs_background": "light"
     },
     "output_type": "display_data"
    }
   ],
   "source": [
    "plt_history('ie')"
   ]
  },
  {
   "cell_type": "markdown",
   "metadata": {},
   "source": [
    "# Play adverserial game\n",
    "try to solve problem with big value for loosing formulas."
   ]
  },
  {
   "cell_type": "code",
   "execution_count": 9,
   "metadata": {},
   "outputs": [],
   "source": [
    " def sampling(self):\n",
    "        i, r = 0, 0\n",
    "        while (self.args.iters > i and not r) or 2 * self.args.iters > i:\n",
    "            node = self.select_best_leaf()\n",
    "            #if node.parent is not None: print(node.formula, node.immediate_reward)\n",
    "            r = node.immediate_reward\n",
    "            #if r: print('R', node.formula)\n",
    "            self.Nodes[node.formula] = node\n",
    "            if r:\n",
    "                self.propagate(node)\n",
    "            else:\n",
    "\n",
    "                pred_P, pred_R = self.model.predict(self.model.get_observation(node.formula, self.env, self.iter_timer)) # if simple model self.env.observation\n",
    "                self.expand(node, pred_P)\n",
    "\n",
    "            r = max(0, r)\n",
    "            i += 1\n",
    "\n",
    "        self.compute_p_real()\n",
    "        return  self.Nodes.values()"
   ]
  },
  {
   "cell_type": "code",
   "execution_count": 10,
   "metadata": {},
   "outputs": [],
   "source": [
    "model =Model()# LSTMTagger()#Model()\n",
    "env1 = Env(1,1)\n",
    "env2 = Env(1,1)\n",
    "\n",
    "args = dotdict({'cpuct':0.5, 'iters':1000})\n",
    "mcts1 = MCTS(env1, model, args)\n",
    "mcts2 = MCTS(env2, model, args)\n",
    "\n",
    "\n",
    "def play_game(mcts1, mcts2):\n",
    "    game_end = 0\n",
    "    score = [0, 0]\n",
    "    while not game_end:\n",
    "        node1 = mcts1.select_best_leaf()\n",
    "        r1 = node1.immediate_reward\n",
    "\n",
    "        node2 = mcts2.select_best_leaf()\n",
    "        r2 = node2.immediate_reward\n",
    "\n",
    "        if r1 < 0 or r2 < 0:\n",
    "            mcts1.propagate(node1)\n",
    "            mcts2.propagate(node2)\n",
    "        elif r1 > 0 and r2 > 0:\n",
    "            mcts1.propagate(node1)\n",
    "            mcts2.propagate(node2)\n",
    "        elif r1 > 0:\n",
    "            node2.immediate_reward = -1\n",
    "            mcts1.propagate(node1)\n",
    "            mcts2.propagate(node2)\n",
    "        elif r2 > 0:\n",
    "            node1.immediate_reward = -1\n",
    "            mcts1.propagate(node1)\n",
    "            mcts2.propagate(node2)\n",
    "        if r1 != 0 or r2 != 0:\n",
    "            score[0] += node1.immediate_reward\n",
    "            score[1] += node2.immediate_reward\n",
    "            game_end = 1\n",
    "\n",
    "\n",
    "        mcts1.Nodes[node1.formula] = node1\n",
    "        mcts2.Nodes[node2.formula] = node2\n",
    "\n",
    "        pred_P, pred_R = mcts1.model.predict(mcts1.model.get_observation(node1.formula, mcts1.env, mcts1.iter_timer)) # if simple model self.env.observation\n",
    "        mcts1.expand(node1, pred_P)\n",
    "\n",
    "        pred_P, pred_R = mcts2.model.predict(mcts2.model.get_observation(node2.formula, mcts2.env, mcts2.iter_timer)) # if simple model self.env.observation\n",
    "        mcts2.expand(node2, pred_P)\n",
    "    return score\n",
    "\n",
    "    \n",
    "    \n",
    "\n",
    "#val = list(mcts2.sampling())"
   ]
  },
  {
   "cell_type": "code",
   "execution_count": 25,
   "metadata": {},
   "outputs": [
    {
     "name": "stdout",
     "output_type": "stream",
     "text": [
      "[-55, -54]\n",
      "[-57, -56]\n",
      "[-50, -62]\n"
     ]
    }
   ],
   "source": [
    "all_nodes = {}\n",
    "for i in range(3):\n",
    "    mcts1 = MCTS(env1, model, args)\n",
    "    mcts2 = MCTS(env2, model, args)\n",
    "    score = [0, 0]\n",
    "    for j in range(100):\n",
    "        \n",
    "\n",
    "        res = play_game(mcts1, mcts2)\n",
    "        score[0] += res[0]\n",
    "        score[1] += res[1]\n",
    "    all_nodes ={**mcts1.Nodes, **mcts2.Nodes}\n",
    "    print(score)"
   ]
  },
  {
   "cell_type": "code",
   "execution_count": 26,
   "metadata": {},
   "outputs": [],
   "source": [
    "val1 = list(all_nodes.values())\n",
    "#val2 = list(mcts2.Nodes.values())"
   ]
  },
  {
   "cell_type": "code",
   "execution_count": 27,
   "metadata": {},
   "outputs": [
    {
     "data": {
      "text/plain": [
       "544"
      ]
     },
     "execution_count": 27,
     "metadata": {},
     "output_type": "execute_result"
    }
   ],
   "source": [
    "len(val1)"
   ]
  },
  {
   "cell_type": "code",
   "execution_count": 28,
   "metadata": {},
   "outputs": [
    {
     "data": {
      "text/plain": [
       "{'': <mcts.Node at 0x7f9bdc711198>,\n",
       " 'B': <mcts.Node at 0x7f9bdc133a58>,\n",
       " 'Be': <mcts.Node at 0x7f9bdbad8e80>,\n",
       " 'Bei': <mcts.Node at 0x7f9bdbad8a20>,\n",
       " 'BeiC': <mcts.Node at 0x7f9bdbae3e10>,\n",
       " 'e': <mcts.Node at 0x7f9bdc133f98>,\n",
       " 'eC': <mcts.Node at 0x7f9bdc57b1d0>,\n",
       " 'eCA': <mcts.Node at 0x7f9bdc57b240>,\n",
       " 'eCAs': <mcts.Node at 0x7f9bdb53f208>,\n",
       " 'eCAse': <mcts.Node at 0x7f9bdc35e1d0>,\n",
       " 's': <mcts.Node at 0x7f9bdc133a90>,\n",
       " 'so': <mcts.Node at 0x7f9bdb663c18>,\n",
       " 'o': <mcts.Node at 0x7f9bdc7110b8>,\n",
       " 'A': <mcts.Node at 0x7f9bdc133ba8>,\n",
       " 'Ai': <mcts.Node at 0x7f9bdbd08438>,\n",
       " 'Aii': <mcts.Node at 0x7f9bdb69dc18>,\n",
       " 'Aiii': <mcts.Node at 0x7f9bdb69de48>,\n",
       " 'AiiiC': <mcts.Node at 0x7f9bdc65ea20>,\n",
       " 'AiiiCi': <mcts.Node at 0x7f9bdc4fcc18>,\n",
       " 'AiiiCi1': <mcts.Node at 0x7f9bdbd10208>,\n",
       " '1': <mcts.Node at 0x7f9bdc7112e8>,\n",
       " '11': <mcts.Node at 0x7f9bdbce00f0>,\n",
       " '11o': <mcts.Node at 0x7f9bdbcd6860>,\n",
       " 'C': <mcts.Node at 0x7f9bdc133be0>,\n",
       " 'CC': <mcts.Node at 0x7f9bdc323da0>,\n",
       " 'CCA': <mcts.Node at 0x7f9bdc323c50>,\n",
       " 'CCAe': <mcts.Node at 0x7f9bdc451e48>,\n",
       " 'CCAeA': <mcts.Node at 0x7f9bdc451668>,\n",
       " 'CCAeA1': <mcts.Node at 0x7f9bdc255828>,\n",
       " 'CCAeA1e': <mcts.Node at 0x7f9bdbbcb048>,\n",
       " 'CCAeA1ei': <mcts.Node at 0x7f9bdbe7c400>,\n",
       " 'CCAeA1eis': <mcts.Node at 0x7f9bdbe7cac8>,\n",
       " 'CCAeA1eisA': <mcts.Node at 0x7f9bdba67630>,\n",
       " 'CCAeA1eisAe': <mcts.Node at 0x7f9bdba67e10>,\n",
       " 'CCAeA1eisAeo': <mcts.Node at 0x7f9bdba67e48>,\n",
       " 'i': <mcts.Node at 0x7f9bdc711080>,\n",
       " 'ie': <mcts.Node at 0x7f9bdc73da58>,\n",
       " 'ie1': <mcts.Node at 0x7f9bdbc1a208>,\n",
       " 'ie1B': <mcts.Node at 0x7f9bdbd92e10>,\n",
       " 'ee': <mcts.Node at 0x7f9bdc57b320>,\n",
       " 'eeB': <mcts.Node at 0x7f9bdb8dd630>,\n",
       " 'Bs': <mcts.Node at 0x7f9bdc133240>,\n",
       " 'Bso': <mcts.Node at 0x7f9bdb3e8e10>,\n",
       " 'Ae': <mcts.Node at 0x7f9bdbd08c88>,\n",
       " 'AeB': <mcts.Node at 0x7f9bdb74d630>,\n",
       " 'AeBo': <mcts.Node at 0x7f9bdc729668>,\n",
       " 'iB': <mcts.Node at 0x7f9bdc73db38>,\n",
       " 'iBC': <mcts.Node at 0x7f9bdbfd7438>,\n",
       " 'iBCs': <mcts.Node at 0x7f9bdc7a0080>,\n",
       " 'iBCse': <mcts.Node at 0x7f9bdc7a0208>,\n",
       " 'Ce': <mcts.Node at 0x7f9bdc323d30>,\n",
       " 'CeC': <mcts.Node at 0x7f9bdbb9e828>,\n",
       " 'CeCA': <mcts.Node at 0x7f9bdc796c18>,\n",
       " 'CeCAo': <mcts.Node at 0x7f9bdc5e5e10>,\n",
       " 'is': <mcts.Node at 0x7f9bdc73dac8>,\n",
       " 'is1': <mcts.Node at 0x7f9bdb48b400>,\n",
       " 'is1s': <mcts.Node at 0x7f9bdbd50e10>,\n",
       " 'is1so': <mcts.Node at 0x7f9bdc78c4a8>,\n",
       " 'se': <mcts.Node at 0x7f9bdb663518>,\n",
       " 'sei': <mcts.Node at 0x7f9bdb95ce10>,\n",
       " 'eB': <mcts.Node at 0x7f9bdc57ba58>,\n",
       " '1e': <mcts.Node at 0x7f9bdbcd6940>,\n",
       " '1eC': <mcts.Node at 0x7f9bdc436438>,\n",
       " '1eCs': <mcts.Node at 0x7f9bdbc1a438>,\n",
       " '1eCsi': <mcts.Node at 0x7f9bdb9bf048>,\n",
       " '1eCsio': <mcts.Node at 0x7f9bdc2e7e48>,\n",
       " 'oe': <mcts.Node at 0x7f9bdc09ec88>,\n",
       " 'iA': <mcts.Node at 0x7f9bdc73d978>,\n",
       " 'iAA': <mcts.Node at 0x7f9bdbfbb208>,\n",
       " 'iAAi': <mcts.Node at 0x7f9bdbfbb048>,\n",
       " 'iAAii': <mcts.Node at 0x7f9bdb078400>,\n",
       " 'iAAiiB': <mcts.Node at 0x7f9bdc77a278>,\n",
       " 'iAAiiBi': <mcts.Node at 0x7f9bdc771c18>,\n",
       " 'iAAiiBi1': <mcts.Node at 0x7f9bdc5f0668>,\n",
       " 'iAAiiBi1o': <mcts.Node at 0x7f9bdc5f0828>,\n",
       " 'Bo': <mcts.Node at 0x7f9bdc133320>,\n",
       " 'AB': <mcts.Node at 0x7f9bdbd08b38>,\n",
       " 'AB1': <mcts.Node at 0x7f9bdbea2438>,\n",
       " 'AB11': <mcts.Node at 0x7f9bdbe2ec18>,\n",
       " 'AB11C': <mcts.Node at 0x7f9bdb6b4208>,\n",
       " 'AB11Cs': <mcts.Node at 0x7f9bdb6b4048>,\n",
       " 'AB11Cse': <mcts.Node at 0x7f9bdc2b0438>,\n",
       " 'AB11CseC': <mcts.Node at 0x7f9bdb60ce10>,\n",
       " 'es': <mcts.Node at 0x7f9bdc57b390>,\n",
       " 'CB': <mcts.Node at 0x7f9bdc323be0>,\n",
       " 'CB1': <mcts.Node at 0x7f9bdc7e8400>,\n",
       " 'CB1C': <mcts.Node at 0x7f9bdbb00828>,\n",
       " 'CB1C1': <mcts.Node at 0x7f9bdbb0ac18>,\n",
       " 'CB1C1A': <mcts.Node at 0x7f9bdc7e0630>,\n",
       " 'CB1C1AA': <mcts.Node at 0x7f9bdc7e0048>,\n",
       " 'eo': <mcts.Node at 0x7f9bdc57b978>,\n",
       " '1s': <mcts.Node at 0x7f9bdbcd6780>,\n",
       " '1sA': <mcts.Node at 0x7f9bdbb9e048>,\n",
       " 'sB': <mcts.Node at 0x7f9bdb6637b8>,\n",
       " 'sBs': <mcts.Node at 0x7f9bdbd1ba20>,\n",
       " 'sBsB': <mcts.Node at 0x7f9bdbd1be10>,\n",
       " 'io': <mcts.Node at 0x7f9bdc73dba8>,\n",
       " 'oB': <mcts.Node at 0x7f9bdc09eb38>,\n",
       " 'As': <mcts.Node at 0x7f9bdbd08ac8>,\n",
       " 'AsA': <mcts.Node at 0x7f9bdc7cb400>,\n",
       " 'Co': <mcts.Node at 0x7f9bdc3232b0>,\n",
       " 'ss': <mcts.Node at 0x7f9bdb663748>,\n",
       " 'ss1': <mcts.Node at 0x7f9bdbfe8630>,\n",
       " '1B': <mcts.Node at 0x7f9bdbcd67f0>,\n",
       " 'BB': <mcts.Node at 0x7f9bdc1332b0>,\n",
       " 'AA': <mcts.Node at 0x7f9bdbd08d68>,\n",
       " 'AAo': <mcts.Node at 0x7f9bdc7c14a8>,\n",
       " 'eA': <mcts.Node at 0x7f9bdc57b908>,\n",
       " 'eAe': <mcts.Node at 0x7f9bdc6692e8>,\n",
       " 'eAeA': <mcts.Node at 0x7f9bdc392668>,\n",
       " '1A': <mcts.Node at 0x7f9bdbcd6a20>,\n",
       " '1Ao': <mcts.Node at 0x7f9bdbf7dc18>,\n",
       " 'B1': <mcts.Node at 0x7f9bdc1331d0>,\n",
       " 'B1s': <mcts.Node at 0x7f9bdc216c18>,\n",
       " 'B1sC': <mcts.Node at 0x7f9bdc216668>,\n",
       " 'B1sCi': <mcts.Node at 0x7f9bdbd59e48>,\n",
       " 'B1sCis': <mcts.Node at 0x7f9bdb9dc048>,\n",
       " 'B1sCis1': <mcts.Node at 0x7f9bdb7c9a90>,\n",
       " 'B1sCis1C': <mcts.Node at 0x7f9bdc7aee10>,\n",
       " 'i1': <mcts.Node at 0x7f9bdc73dc18>,\n",
       " 'ei': <mcts.Node at 0x7f9bdc57b9e8>,\n",
       " 'eii': <mcts.Node at 0x7f9bdb80c240>,\n",
       " 'os': <mcts.Node at 0x7f9bdc09eac8>,\n",
       " 'BA': <mcts.Node at 0x7f9bdc1334e0>,\n",
       " 'BAi': <mcts.Node at 0x7f9bdc669828>,\n",
       " 'BAi1': <mcts.Node at 0x7f9bdba82438>,\n",
       " 'BAi1e': <mcts.Node at 0x7f9bdc120278>,\n",
       " 'BAi1es': <mcts.Node at 0x7f9bdc81c400>,\n",
       " 'BAi1eso': <mcts.Node at 0x7f9bdbe1d438>,\n",
       " 'sA': <mcts.Node at 0x7f9bdb6635f8>,\n",
       " 'sAo': <mcts.Node at 0x7f9bdc824c18>,\n",
       " 'Cs': <mcts.Node at 0x7f9bdc323b70>,\n",
       " 'Css': <mcts.Node at 0x7f9bdb66fa58>,\n",
       " 'Csse': <mcts.Node at 0x7f9bdb2f1898>,\n",
       " 'Csse1': <mcts.Node at 0x7f9bdb966438>,\n",
       " 'iC': <mcts.Node at 0x7f9bdc73d908>,\n",
       " 'e1': <mcts.Node at 0x7f9bdc57b400>,\n",
       " 'e1C': <mcts.Node at 0x7f9bdb725630>,\n",
       " 'e1Ci': <mcts.Node at 0x7f9bdc495c18>,\n",
       " 'e1Cii': <mcts.Node at 0x7f9bdb6e5438>,\n",
       " 'e1Ciii': <mcts.Node at 0x7f9bdbac7c18>,\n",
       " 'e1CiiiB': <mcts.Node at 0x7f9bdc2b8208>,\n",
       " 'e1CiiiBe': <mcts.Node at 0x7f9bdc2b8e10>,\n",
       " 'e1CiiiBe1': <mcts.Node at 0x7f9bdc057438>,\n",
       " 'e1CiiiBe1s': <mcts.Node at 0x7f9bdc057668>,\n",
       " 'e1CiiiBe1s1': <mcts.Node at 0x7f9bdc057e48>,\n",
       " 'e1CiiiBe1s1s': <mcts.Node at 0x7f9bdb08f668>,\n",
       " 'e1CiiiBe1s1ss': <mcts.Node at 0x7f9bdb08fe48>,\n",
       " 'e1CiiiBe1s1sss': <mcts.Node at 0x7f9bdb5ecc88>,\n",
       " 'e1CiiiBe1s1ssss': <mcts.Node at 0x7f9bdb5ec668>,\n",
       " 'e1CiiiBe1s1sssss': <mcts.Node at 0x7f9bdc654470>,\n",
       " 'Ao': <mcts.Node at 0x7f9bdbd08ba8>,\n",
       " 'eBe': <mcts.Node at 0x7f9bdbea2e48>,\n",
       " 'eBe1': <mcts.Node at 0x7f9bdc3b3208>,\n",
       " 'eBe1B': <mcts.Node at 0x7f9bdb5dac18>,\n",
       " 'eBe1Bs': <mcts.Node at 0x7f9bdb5dae48>,\n",
       " 'eBe1Bss': <mcts.Node at 0x7f9bdbfff828>,\n",
       " 'eBe1Bsss': <mcts.Node at 0x7f9bdc00ae48>,\n",
       " 'eBe1BsssB': <mcts.Node at 0x7f9bdbb20c18>,\n",
       " '1o': <mcts.Node at 0x7f9bdbcd6240>,\n",
       " 'ii': <mcts.Node at 0x7f9bdc73d9e8>,\n",
       " 'iie': <mcts.Node at 0x7f9bdb1caf28>,\n",
       " 'iiee': <mcts.Node at 0x7f9bdbd74c18>,\n",
       " 'iiees': <mcts.Node at 0x7f9bdbd74668>,\n",
       " 'iieesB': <mcts.Node at 0x7f9bdc800208>,\n",
       " 'BC': <mcts.Node at 0x7f9bdc133470>,\n",
       " 'BCA': <mcts.Node at 0x7f9bdb87b470>,\n",
       " 'BCAA': <mcts.Node at 0x7f9bdc13d860>,\n",
       " 'C1': <mcts.Node at 0x7f9bdc323320>,\n",
       " 'sC': <mcts.Node at 0x7f9bdb663588>,\n",
       " 'oo': <mcts.Node at 0x7f9bdc09eba8>,\n",
       " 'ese': <mcts.Node at 0x7f9bdc0eb358>,\n",
       " 'esei': <mcts.Node at 0x7f9bdc7ed668>,\n",
       " 'Bi': <mcts.Node at 0x7f9bdc133390>,\n",
       " 'BiA': <mcts.Node at 0x7f9bdc0d0048>,\n",
       " 'is1soe': <mcts.Node at 0x7f9bdb9521d0>,\n",
       " 'iee': <mcts.Node at 0x7f9bdbc1a898>,\n",
       " 'ieeA': <mcts.Node at 0x7f9bdbdc1c18>,\n",
       " 's1': <mcts.Node at 0x7f9bdb663c88>,\n",
       " 's1s': <mcts.Node at 0x7f9bdb15ec18>,\n",
       " 's1se': <mcts.Node at 0x7f9bdc5faa90>,\n",
       " 's1see': <mcts.Node at 0x7f9bdc3a9ac8>,\n",
       " 's1seei': <mcts.Node at 0x7f9bdb971208>,\n",
       " 'A1': <mcts.Node at 0x7f9bdc09e668>,\n",
       " 'A1A': <mcts.Node at 0x7f9bdc0c6208>,\n",
       " 'CA': <mcts.Node at 0x7f9bdc323080>,\n",
       " 'CAA': <mcts.Node at 0x7f9bdb772c18>,\n",
       " 'Bee': <mcts.Node at 0x7f9bdbd50860>,\n",
       " 'BeeB': <mcts.Node at 0x7f9bdb1ca208>,\n",
       " '1C': <mcts.Node at 0x7f9bdbcd69b0>,\n",
       " '1CA': <mcts.Node at 0x7f9bdc40c668>,\n",
       " '1CAi': <mcts.Node at 0x7f9bdbf61a58>,\n",
       " '1CAii': <mcts.Node at 0x7f9bdbc11c18>,\n",
       " '1CAiii': <mcts.Node at 0x7f9bdc15d828>,\n",
       " '1CAiiiC': <mcts.Node at 0x7f9bdc84e828>,\n",
       " '1CAiiiCo': <mcts.Node at 0x7f9bdb8b2828>,\n",
       " 'eAB': <mcts.Node at 0x7f9bdc669080>,\n",
       " 'AC': <mcts.Node at 0x7f9bdbd08cf8>,\n",
       " 'ACB': <mcts.Node at 0x7f9bdb56e208>,\n",
       " 'ACBB': <mcts.Node at 0x7f9bdc9cd668>,\n",
       " 'ACBB1': <mcts.Node at 0x7f9bdb37a400>,\n",
       " 'ACBB11': <mcts.Node at 0x7f9bdc5a3208>,\n",
       " 'ACBB11s': <mcts.Node at 0x7f9bdba79668>,\n",
       " 'Ci': <mcts.Node at 0x7f9bdc3230f0>,\n",
       " 'CiA': <mcts.Node at 0x7f9bdc725e10>,\n",
       " 'CiAs': <mcts.Node at 0x7f9bdc725240>,\n",
       " 'eie': <mcts.Node at 0x7f9bdb725898>,\n",
       " 'eieo': <mcts.Node at 0x7f9bdc3da828>,\n",
       " 'e1e': <mcts.Node at 0x7f9bdb53feb8>,\n",
       " 'e1eo': <mcts.Node at 0x7f9bdb984c18>,\n",
       " 'oA': <mcts.Node at 0x7f9bdc09ed68>,\n",
       " 'Ase': <mcts.Node at 0x7f9bdc7cb940>,\n",
       " 'AseC': <mcts.Node at 0x7f9bdba8b208>,\n",
       " 'si': <mcts.Node at 0x7f9bdb663e48>,\n",
       " 'sio': <mcts.Node at 0x7f9bdbdd6208>,\n",
       " 'CBe': <mcts.Node at 0x7f9bdbfc3668>,\n",
       " 'CBee': <mcts.Node at 0x7f9bdc725860>,\n",
       " 'CBeee': <mcts.Node at 0x7f9bdbfa7438>,\n",
       " 'CBeee1': <mcts.Node at 0x7f9bdb2ae438>,\n",
       " 'ise': <mcts.Node at 0x7f9bdbfe8e80>,\n",
       " 'ise1': <mcts.Node at 0x7f9bdbce6438>,\n",
       " 'BBe': <mcts.Node at 0x7f9bdc220fd0>,\n",
       " 'BBeB': <mcts.Node at 0x7f9bdbf43668>,\n",
       " 'BBeBA': <mcts.Node at 0x7f9bdb56e898>,\n",
       " 'BBeBAA': <mcts.Node at 0x7f9bdbbb6438>,\n",
       " 'BBeBAAs': <mcts.Node at 0x7f9bdb7e5828>,\n",
       " 'BBeBAAs1': <mcts.Node at 0x7f9bdc298208>,\n",
       " '1i': <mcts.Node at 0x7f9bdbce0080>,\n",
       " '1i1': <mcts.Node at 0x7f9bdc29f828>,\n",
       " '1i1B': <mcts.Node at 0x7f9bdb7d2a20>,\n",
       " '1i1Bs': <mcts.Node at 0x7f9bdbccba58>,\n",
       " '1i1Bs1': <mcts.Node at 0x7f9bdbccb208>,\n",
       " '1i1Bs1s': <mcts.Node at 0x7f9bdb8c0668>,\n",
       " 'B1e': <mcts.Node at 0x7f9bdb2f1a58>,\n",
       " 'B1eo': <mcts.Node at 0x7f9bdc077c18>,\n",
       " 'eCe': <mcts.Node at 0x7f9bdc57bcc0>,\n",
       " 'eCeA': <mcts.Node at 0x7f9bdbabae48>,\n",
       " 'eCeA1': <mcts.Node at 0x7f9bdc483208>,\n",
       " 'eCeA1C': <mcts.Node at 0x7f9bdc129438>,\n",
       " 'eCeA1CC': <mcts.Node at 0x7f9bdbb3c208>,\n",
       " 'eCeA1CCs': <mcts.Node at 0x7f9bdc696ef0>,\n",
       " 'eCeA1CCsi': <mcts.Node at 0x7f9bdc696828>,\n",
       " 'eCeA1CCsis': <mcts.Node at 0x7f9bdc2dfe48>,\n",
       " '1se': <mcts.Node at 0x7f9bdbb9eeb8>,\n",
       " 'eieoe': <mcts.Node at 0x7f9bdb978828>,\n",
       " 'eee': <mcts.Node at 0x7f9bdb3e86a0>,\n",
       " 'eee1': <mcts.Node at 0x7f9bdbe36400>,\n",
       " 'C1e': <mcts.Node at 0x7f9bdbc57240>,\n",
       " 'C1eC': <mcts.Node at 0x7f9bdbc30630>,\n",
       " 'C1eCe': <mcts.Node at 0x7f9bdc896c18>,\n",
       " 'C1eCee': <mcts.Node at 0x7f9bdbcfee10>,\n",
       " 'C1eCeeA': <mcts.Node at 0x7f9bdbcf5a20>,\n",
       " 'A1e': <mcts.Node at 0x7f9bdc0c6b38>,\n",
       " 'A1ee': <mcts.Node at 0x7f9bdc88f828>,\n",
       " 'A1eeo': <mcts.Node at 0x7f9bdc43d208>,\n",
       " '1Be': <mcts.Node at 0x7f9bdbfbb0b8>,\n",
       " '1Bee': <mcts.Node at 0x7f9bdc446048>,\n",
       " 'sBe': <mcts.Node at 0x7f9bdbf10c50>,\n",
       " 'sBeC': <mcts.Node at 0x7f9bdbf25898>,\n",
       " 'sBeCi': <mcts.Node at 0x7f9bdb553240>,\n",
       " 'sBeCiA': <mcts.Node at 0x7f9bdc886e10>,\n",
       " 'sBeCiAo': <mcts.Node at 0x7f9bdc886208>,\n",
       " 'iBe': <mcts.Node at 0x7f9bdb74df98>,\n",
       " 'iBe1': <mcts.Node at 0x7f9bdba16e48>,\n",
       " 'iBe1i': <mcts.Node at 0x7f9bdc560400>,\n",
       " 'oC': <mcts.Node at 0x7f9bdc09ecf8>,\n",
       " '1ie': <mcts.Node at 0x7f9bdbb154a8>,\n",
       " '1ieA': <mcts.Node at 0x7f9bdc042e10>,\n",
       " '1ieA1': <mcts.Node at 0x7f9bdc04f630>,\n",
       " '1ieA1s': <mcts.Node at 0x7f9bdbd34630>,\n",
       " '1ieA1si': <mcts.Node at 0x7f9bdc3a4828>,\n",
       " '1ieA1siA': <mcts.Node at 0x7f9bdb9ac208>,\n",
       " '1ieA1siAB': <mcts.Node at 0x7f9bdb9ac400>,\n",
       " '1ieA1siABi': <mcts.Node at 0x7f9bdc87b240>,\n",
       " 'i1e': <mcts.Node at 0x7f9bdb80cda0>,\n",
       " 'i1eA': <mcts.Node at 0x7f9bdbee2208>,\n",
       " 'BCe': <mcts.Node at 0x7f9bdb87bd30>,\n",
       " 'BCeA': <mcts.Node at 0x7f9bdbf94c18>,\n",
       " 'BCeAs': <mcts.Node at 0x7f9bdbf86438>,\n",
       " 'eiB': <mcts.Node at 0x7f9bdb725b38>,\n",
       " 'eiBi': <mcts.Node at 0x7f9bdb4c7c18>,\n",
       " '1ee': <mcts.Node at 0x7f9bdc3c6be0>,\n",
       " 'iCe': <mcts.Node at 0x7f9bdc5fa400>,\n",
       " 'iCeC': <mcts.Node at 0x7f9bdc5fa630>,\n",
       " 'iCeCi': <mcts.Node at 0x7f9bdbc04828>,\n",
       " 'iCeCii': <mcts.Node at 0x7f9bdbe87208>,\n",
       " 'iCeCiiB': <mcts.Node at 0x7f9bdb16c048>,\n",
       " 'iCeCiiBA': <mcts.Node at 0x7f9bdb16c9b0>,\n",
       " 'iCeCiiBAs': <mcts.Node at 0x7f9bdc86aef0>,\n",
       " 'iCeCiiBAsi': <mcts.Node at 0x7f9bdc86a828>,\n",
       " 'iCeCiiBAsiC': <mcts.Node at 0x7f9bdc47a208>,\n",
       " 'CAe': <mcts.Node at 0x7f9bdc74f7b8>,\n",
       " 'Bie': <mcts.Node at 0x7f9bdbf61ac8>,\n",
       " 'Biee': <mcts.Node at 0x7f9bdbaa0c18>,\n",
       " 'sCe': <mcts.Node at 0x7f9bdbde8358>,\n",
       " 'sCeB': <mcts.Node at 0x7f9bdb678a20>,\n",
       " 'sCeBC': <mcts.Node at 0x7f9bdc8e0828>,\n",
       " 'sCeBCo': <mcts.Node at 0x7f9bdb798e10>,\n",
       " 'ACe': <mcts.Node at 0x7f9bdc9cdd68>,\n",
       " 'ACeC': <mcts.Node at 0x7f9bdc8d7400>,\n",
       " 'ACeC1': <mcts.Node at 0x7f9bdc8d7208>,\n",
       " 'ACeC1e': <mcts.Node at 0x7f9bdc63ee10>,\n",
       " 'ACeC1eB': <mcts.Node at 0x7f9bdc63e048>,\n",
       " 'ACeC1eBi': <mcts.Node at 0x7f9bdba32828>,\n",
       " 'ACeC1eBis': <mcts.Node at 0x7f9bdba32ac8>,\n",
       " 'ACeC1eBisi': <mcts.Node at 0x7f9bdc181a20>,\n",
       " 'ACeC1eBisis': <mcts.Node at 0x7f9bdc181278>,\n",
       " 'iAe': <mcts.Node at 0x7f9bdbfbb748>,\n",
       " 'iAeo': <mcts.Node at 0x7f9bdc18ce48>,\n",
       " 'BBs': <mcts.Node at 0x7f9bdc220e10>,\n",
       " 'BBs1': <mcts.Node at 0x7f9bdc469c18>,\n",
       " 'Cie': <mcts.Node at 0x7f9bdbda8ef0>,\n",
       " 'eAs': <mcts.Node at 0x7f9bdc7b9e48>,\n",
       " 'eAsA': <mcts.Node at 0x7f9bdbeea208>,\n",
       " 'Aie': <mcts.Node at 0x7f9bdbd084a8>,\n",
       " 'AieC': <mcts.Node at 0x7f9bdbe14828>,\n",
       " 'AieCi': <mcts.Node at 0x7f9bdbe06438>,\n",
       " 'AieCii': <mcts.Node at 0x7f9bdbe06e48>,\n",
       " 'AieCiiB': <mcts.Node at 0x7f9bdb0c6828>,\n",
       " 'AieCiiBs': <mcts.Node at 0x7f9bdc06ee48>,\n",
       " 'AieCiiBs1': <mcts.Node at 0x7f9bdc0e2438>,\n",
       " 'AieCiiBs1s': <mcts.Node at 0x7f9bdc0e2668>,\n",
       " 'AieCiiBs1so': <mcts.Node at 0x7f9bdb5afc18>,\n",
       " 'Bse': <mcts.Node at 0x7f9bdbad8e10>,\n",
       " 'BseB': <mcts.Node at 0x7f9bdbae3630>,\n",
       " 'e1A': <mcts.Node at 0x7f9bdb53f828>,\n",
       " 'e1As': <mcts.Node at 0x7f9bdc35ec18>,\n",
       " 'e1Aso': <mcts.Node at 0x7f9bdc35e240>,\n",
       " 'AiiC': <mcts.Node at 0x7f9bdc65e400>,\n",
       " 'AiiCe': <mcts.Node at 0x7f9bdc4fc400>,\n",
       " 'AiiCes': <mcts.Node at 0x7f9bdbd10a58>,\n",
       " 'AiiCesi': <mcts.Node at 0x7f9bdbd10400>,\n",
       " '1Ai': <mcts.Node at 0x7f9bdbcd6e10>,\n",
       " 'CAC': <mcts.Node at 0x7f9bdc74f828>,\n",
       " 'CAC1': <mcts.Node at 0x7f9bdc451438>,\n",
       " 'CAC11': <mcts.Node at 0x7f9bdc255208>,\n",
       " 'CAC11C': <mcts.Node at 0x7f9bdbbcb208>,\n",
       " 'CAC11Cs': <mcts.Node at 0x7f9bdbbcba58>,\n",
       " 'CAC11CsB': <mcts.Node at 0x7f9bdbe7c438>,\n",
       " 'CAC11CsBB': <mcts.Node at 0x7f9bdbe7cc18>,\n",
       " 'CAC11CsBBs': <mcts.Node at 0x7f9bdba67668>,\n",
       " 'CAC11CsBBss': <mcts.Node at 0x7f9bdba67eb8>,\n",
       " 'CAC11CsBBsso': <mcts.Node at 0x7f9bdc745e10>,\n",
       " 'i1s': <mcts.Node at 0x7f9bdbd92400>,\n",
       " 'i1so': <mcts.Node at 0x7f9bdbd9fe10>,\n",
       " '1es': <mcts.Node at 0x7f9bdc3c6470>,\n",
       " 'eei': <mcts.Node at 0x7f9bdb3e8630>,\n",
       " 'CeA': <mcts.Node at 0x7f9bdb9fa400>,\n",
       " 'CeAA': <mcts.Node at 0x7f9bdc729828>,\n",
       " 'AeB1': <mcts.Node at 0x7f9bdc7a0e10>,\n",
       " 'AeB1o': <mcts.Node at 0x7f9bdbb29c18>,\n",
       " '1sAA': <mcts.Node at 0x7f9bdc796208>,\n",
       " '1sAAi': <mcts.Node at 0x7f9bdc5e5208>,\n",
       " 'Be1': <mcts.Node at 0x7f9bdbd50a20>,\n",
       " 'Be1B': <mcts.Node at 0x7f9bdc78c630>,\n",
       " 'Be1BC': <mcts.Node at 0x7f9bdb952a20>,\n",
       " 'se1': <mcts.Node at 0x7f9bdb95c630>,\n",
       " 'ie1s': <mcts.Node at 0x7f9bdb9bf828>,\n",
       " 'ie1si': <mcts.Node at 0x7f9bdb9bfc18>,\n",
       " 'ie1siB': <mcts.Node at 0x7f9bdc2e7048>,\n",
       " '1BA': <mcts.Node at 0x7f9bdbfbb828>,\n",
       " '1BA1': <mcts.Node at 0x7f9bdb078828>,\n",
       " '1BA1C': <mcts.Node at 0x7f9bdc77ae10>,\n",
       " '1BA1Cs': <mcts.Node at 0x7f9bdc77a860>,\n",
       " '1BA1Csi': <mcts.Node at 0x7f9bdc771208>,\n",
       " '1BA1Csie': <mcts.Node at 0x7f9bdc5f0e10>,\n",
       " '1BA1Csiee': <mcts.Node at 0x7f9bdc5f0048>,\n",
       " 'iBA': <mcts.Node at 0x7f9bdbea2668>,\n",
       " 'iBA1': <mcts.Node at 0x7f9bdbe2ee48>,\n",
       " 'iBA1C': <mcts.Node at 0x7f9bdb6b4828>,\n",
       " 'iBA1C1': <mcts.Node at 0x7f9bdc2b0a90>,\n",
       " 'iBA1C1i': <mcts.Node at 0x7f9bdb60c208>,\n",
       " 'iBA1C1io': <mcts.Node at 0x7f9bdb60ceb8>,\n",
       " 'ABC': <mcts.Node at 0x7f9bdbb00208>,\n",
       " 'ABCA': <mcts.Node at 0x7f9bdbb00048>,\n",
       " 'ABCA1': <mcts.Node at 0x7f9bdbb0ae48>,\n",
       " 'ABCA1A': <mcts.Node at 0x7f9bdc7e0e10>,\n",
       " 'ABCA1Ao': <mcts.Node at 0x7f9bdc4cb470>,\n",
       " 'esi': <mcts.Node at 0x7f9bdc1b6470>,\n",
       " '11C': <mcts.Node at 0x7f9bdbd1b860>,\n",
       " '11Co': <mcts.Node at 0x7f9bdbd25e10>,\n",
       " 'ssA': <mcts.Node at 0x7f9bdc7cba20>,\n",
       " 'Aso': <mcts.Node at 0x7f9bdb998470>,\n",
       " 'CsC': <mcts.Node at 0x7f9bdbc45e10>,\n",
       " 'BBC': <mcts.Node at 0x7f9bdc7b9898>,\n",
       " 'BBCo': <mcts.Node at 0x7f9bdc392438>,\n",
       " 'iAo': <mcts.Node at 0x7f9bdbf7de48>,\n",
       " 'C1s': <mcts.Node at 0x7f9bdc216e48>,\n",
       " 'C1si': <mcts.Node at 0x7f9bdbd59c18>,\n",
       " 'C1siB': <mcts.Node at 0x7f9bdb9dc208>,\n",
       " 'C1siBs': <mcts.Node at 0x7f9bdb9dcc18>,\n",
       " 'C1siBse': <mcts.Node at 0x7f9bdb7c9438>,\n",
       " 'C1siBse1': <mcts.Node at 0x7f9bdc7aea58>,\n",
       " 'AAi': <mcts.Node at 0x7f9bdc669208>,\n",
       " 'AAi1': <mcts.Node at 0x7f9bdba82c18>,\n",
       " 'AAi1i': <mcts.Node at 0x7f9bdc120208>,\n",
       " 'AAi1iA': <mcts.Node at 0x7f9bdc81cc18>,\n",
       " 'AAi1iAo': <mcts.Node at 0x7f9bdbe1dc18>,\n",
       " '1CC': <mcts.Node at 0x7f9bdc26f438>,\n",
       " 'B1C': <mcts.Node at 0x7f9bdb66f438>,\n",
       " 'B1Ce': <mcts.Node at 0x7f9bdb2f1208>,\n",
       " 'B1CeA': <mcts.Node at 0x7f9bdb966668>,\n",
       " 'eiei': <mcts.Node at 0x7f9bdc495438>,\n",
       " 'eieii': <mcts.Node at 0x7f9bdb6e5c18>,\n",
       " 'eieiii': <mcts.Node at 0x7f9bdbac7e48>,\n",
       " 'eieiiiB': <mcts.Node at 0x7f9bdc2b8828>,\n",
       " 'eieiiiBs': <mcts.Node at 0x7f9bdc2b8e48>,\n",
       " 'eieiiiBsC': <mcts.Node at 0x7f9bdc057400>,\n",
       " 'eieiiiBsCi': <mcts.Node at 0x7f9bdc057e10>,\n",
       " 'eieiiiBsCii': <mcts.Node at 0x7f9bdb08f208>,\n",
       " 'eieiiiBsCiiA': <mcts.Node at 0x7f9bdb08fe10>,\n",
       " 'eieiiiBsCiiA1': <mcts.Node at 0x7f9bdb08fc18>,\n",
       " 'eieiiiBsCiiA1C': <mcts.Node at 0x7f9bdb5ec400>,\n",
       " 'eieiiiBsCiiA1C1': <mcts.Node at 0x7f9bdb5ec438>,\n",
       " 'eieiiiBsCiiA1C1o': <mcts.Node at 0x7f9bdc654400>,\n",
       " 'BA1': <mcts.Node at 0x7f9bdc3b3828>,\n",
       " 'BA1B': <mcts.Node at 0x7f9bdb5da828>,\n",
       " 'BA1Bs': <mcts.Node at 0x7f9bdbfff208>,\n",
       " 'BA1BsA': <mcts.Node at 0x7f9bdc00ac18>,\n",
       " 'BA1BsAs': <mcts.Node at 0x7f9bdc00a668>,\n",
       " 'BA1BsAsi': <mcts.Node at 0x7f9bdbb20e10>,\n",
       " 'sCA': <mcts.Node at 0x7f9bdbde8a90>,\n",
       " 'sCA1': <mcts.Node at 0x7f9bdbd74828>,\n",
       " 'sCA1B': <mcts.Node at 0x7f9bdc800c18>,\n",
       " 'sCA1BB': <mcts.Node at 0x7f9bdc67a400>,\n",
       " 'eCB': <mcts.Node at 0x7f9bdc13da20>,\n",
       " 'eCBo': <mcts.Node at 0x7f9bdc13de10>,\n",
       " 'BCo': <mcts.Node at 0x7f9bdc7ed828>,\n",
       " '1ee1': <mcts.Node at 0x7f9bdc0d8c18>,\n",
       " 'Cee': <mcts.Node at 0x7f9bdb9fa4e0>,\n",
       " 'Ceeo': <mcts.Node at 0x7f9bdbdc1668>,\n",
       " 'iCeCs': <mcts.Node at 0x7f9bdc3a9438>,\n",
       " 'iCeCse': <mcts.Node at 0x7f9bdb971438>,\n",
       " 'eBeo': <mcts.Node at 0x7f9bdc0c6898>,\n",
       " '1seA': <mcts.Node at 0x7f9bdb772438>,\n",
       " 'iiB': <mcts.Node at 0x7f9bdb1ca828>,\n",
       " 'Bii': <mcts.Node at 0x7f9bdbf61208>,\n",
       " 'Biii': <mcts.Node at 0x7f9bdbc11438>,\n",
       " 'Biiii': <mcts.Node at 0x7f9bdc15d208>,\n",
       " 'BiiiiB': <mcts.Node at 0x7f9bdc15de48>,\n",
       " 'BiiiiBB': <mcts.Node at 0x7f9bdc84e208>,\n",
       " 'BiiiiBBA': <mcts.Node at 0x7f9bdb8b2208>,\n",
       " 'A1C': <mcts.Node at 0x7f9bdc9cdc18>,\n",
       " 'A1Ci': <mcts.Node at 0x7f9bdb37aa20>,\n",
       " 'A1Ci1': <mcts.Node at 0x7f9bdc5a3c18>,\n",
       " 'A1Ci11': <mcts.Node at 0x7f9bdba79828>,\n",
       " 'A1Ci11o': <mcts.Node at 0x7f9bdba6c438>,\n",
       " 'CBeeo': <mcts.Node at 0x7f9bdc3e4e10>,\n",
       " 'si1': <mcts.Node at 0x7f9bdc3da208>,\n",
       " 'ieeo': <mcts.Node at 0x7f9bdb984e48>,\n",
       " 'eAeC': <mcts.Node at 0x7f9bdb6d8828>,\n",
       " 'BAe': <mcts.Node at 0x7f9bdc3b3dd8>,\n",
       " 'BAeo': <mcts.Node at 0x7f9bdbdd6828>,\n",
       " 'eiB1': <mcts.Node at 0x7f9bdbfa7a58>,\n",
       " 'eiB11': <mcts.Node at 0x7f9bdbfa7208>,\n",
       " 'eiB111': <mcts.Node at 0x7f9bdb2aec18>,\n",
       " '1Be1': <mcts.Node at 0x7f9bdbce6c18>,\n",
       " 'ACBA': <mcts.Node at 0x7f9bdbbb6c18>,\n",
       " 'ACBAs': <mcts.Node at 0x7f9bdb7e5240>,\n",
       " 'ACBAss': <mcts.Node at 0x7f9bdb7e5c18>,\n",
       " 'ACBAssB': <mcts.Node at 0x7f9bdc298828>,\n",
       " 'eees': <mcts.Node at 0x7f9bdc29f668>,\n",
       " 'eeese': <mcts.Node at 0x7f9bdb7d2208>,\n",
       " 'eeesee': <mcts.Node at 0x7f9bdbccb438>,\n",
       " 'eeeseee': <mcts.Node at 0x7f9bdb8c0c18>,\n",
       " 'eeeseeei': <mcts.Node at 0x7f9bdc077400>,\n",
       " 'Cse': <mcts.Node at 0x7f9bdbc45f60>,\n",
       " 'CseA': <mcts.Node at 0x7f9bdb647e48>,\n",
       " '1Ae': <mcts.Node at 0x7f9bdc203860>,\n",
       " '1Aei': <mcts.Node at 0x7f9bdbaba048>,\n",
       " '1AeiC': <mcts.Node at 0x7f9bdc483828>,\n",
       " '1AeiCC': <mcts.Node at 0x7f9bdc129c18>,\n",
       " '1AeiCCe': <mcts.Node at 0x7f9bdc696630>,\n",
       " '1AeiCCes': <mcts.Node at 0x7f9bdc696e10>,\n",
       " '1AeiCCess': <mcts.Node at 0x7f9bdc696048>,\n",
       " '1AeiCCessi': <mcts.Node at 0x7f9bdc2df208>,\n",
       " 'iseB': <mcts.Node at 0x7f9bdbca3470>,\n",
       " 'Bies': <mcts.Node at 0x7f9bdbc30080>,\n",
       " 'Biese': <mcts.Node at 0x7f9bdbcfe630>,\n",
       " 'Bieses': <mcts.Node at 0x7f9bdbcfec50>,\n",
       " 'Bieseso': <mcts.Node at 0x7f9bdbcf5860>,\n",
       " 'eABC': <mcts.Node at 0x7f9bdc88f898>,\n",
       " 'eABCo': <mcts.Node at 0x7f9bdc43d828>,\n",
       " 'Aee': <mcts.Node at 0x7f9bdb74d9e8>,\n",
       " 'Aeei': <mcts.Node at 0x7f9bdc1f9208>,\n",
       " '1Ce': <mcts.Node at 0x7f9bdc26fb70>,\n",
       " '1CeC': <mcts.Node at 0x7f9bdb553c18>,\n",
       " '1CeCi': <mcts.Node at 0x7f9bdb553828>,\n",
       " '1CeCi1': <mcts.Node at 0x7f9bdc886eb8>,\n",
       " '1CeCi1o': <mcts.Node at 0x7f9bdba16898>,\n",
       " 'CCe': <mcts.Node at 0x7f9bdc3bd048>,\n",
       " 'CCee': <mcts.Node at 0x7f9bdc6d6470>,\n",
       " 'CCeei': <mcts.Node at 0x7f9bdc560a20>,\n",
       " 'iCB': <mcts.Node at 0x7f9bdb15e4a8>,\n",
       " 'iCBi': <mcts.Node at 0x7f9bdc04fe10>,\n",
       " 'iCBiB': <mcts.Node at 0x7f9bdbd34e10>,\n",
       " 'iCBiBC': <mcts.Node at 0x7f9bdc3a4240>,\n",
       " 'iCBiBCe': <mcts.Node at 0x7f9bdc3a4c50>,\n",
       " 'iCBiBCee': <mcts.Node at 0x7f9bdb9acac8>,\n",
       " 'iCBiBCeee': <mcts.Node at 0x7f9bdb9ac438>,\n",
       " 'iCBiBCeeeo': <mcts.Node at 0x7f9bdc87b400>,\n",
       " 'Beeo': <mcts.Node at 0x7f9bdbee2898>,\n",
       " 'e1eA': <mcts.Node at 0x7f9bdbf94e48>,\n",
       " 'e1eAo': <mcts.Node at 0x7f9bdbf86a90>,\n",
       " '1ieo': <mcts.Node at 0x7f9bdc239c18>,\n",
       " '1ieoe': <mcts.Node at 0x7f9bdc22bb70>,\n",
       " '1Bs': <mcts.Node at 0x7f9bdbfbb2e8>,\n",
       " '1Bsi': <mcts.Node at 0x7f9bdbc04c18>,\n",
       " '1Bsii': <mcts.Node at 0x7f9bdbe87a58>,\n",
       " '1Bsiii': <mcts.Node at 0x7f9bdc872400>,\n",
       " '1Bsiii1': <mcts.Node at 0x7f9bdb16c400>,\n",
       " '1Bsiii1B': <mcts.Node at 0x7f9bdb16c828>,\n",
       " '1Bsiii1Bs': <mcts.Node at 0x7f9bdc86ae10>,\n",
       " '1Bsiii1Bss': <mcts.Node at 0x7f9bdc86a048>,\n",
       " '1Bsiii1Bss1': <mcts.Node at 0x7f9bdc47aa20>,\n",
       " 'oi': <mcts.Node at 0x7f9bdc09e438>,\n",
       " 'see': <mcts.Node at 0x7f9bdb95c160>,\n",
       " 'seeo': <mcts.Node at 0x7f9bdbaa0400>,\n",
       " '1iB': <mcts.Node at 0x7f9bdbb15588>,\n",
       " '1iBC': <mcts.Node at 0x7f9bdc8e0e10>,\n",
       " '1iBCs': <mcts.Node at 0x7f9bdc8e0048>,\n",
       " '1iBCsi': <mcts.Node at 0x7f9bdb798438>,\n",
       " 'ABe': <mcts.Node at 0x7f9bdbb007b8>,\n",
       " 'ABeC': <mcts.Node at 0x7f9bdc8d7a20>,\n",
       " 'ABeCC': <mcts.Node at 0x7f9bdc64a828>,\n",
       " 'ABeCC1': <mcts.Node at 0x7f9bdc63e630>,\n",
       " 'ABeCC1B': <mcts.Node at 0x7f9bdba32208>,\n",
       " 'ABeCC1BB': <mcts.Node at 0x7f9bdba32048>,\n",
       " 'ABeCC1BBs': <mcts.Node at 0x7f9bdc181208>,\n",
       " 'ABeCC1BBss': <mcts.Node at 0x7f9bdc181828>,\n",
       " 'ABeCC1BBssC': <mcts.Node at 0x7f9bdc181e10>,\n",
       " '11e': <mcts.Node at 0x7f9bdbd1b160>,\n",
       " '11eC': <mcts.Node at 0x7f9bdbde9c18>,\n",
       " 'Cieo': <mcts.Node at 0x7f9bdc469e48>,\n",
       " 'Cieoe': <mcts.Node at 0x7f9bdb98ddd8>,\n",
       " 'CAeo': <mcts.Node at 0x7f9bdbeea898>,\n",
       " 'iieC': <mcts.Node at 0x7f9bdbe14c18>,\n",
       " 'iieCB': <mcts.Node at 0x7f9bdbe06668>,\n",
       " 'iieCBB': <mcts.Node at 0x7f9bdb0c6c18>,\n",
       " 'iieCBBC': <mcts.Node at 0x7f9bdc06e668>,\n",
       " 'iieCBBC1': <mcts.Node at 0x7f9bdc06ec18>,\n",
       " 'iieCBBC1C': <mcts.Node at 0x7f9bdc0e2400>,\n",
       " 'iieCBBC1Ci': <mcts.Node at 0x7f9bdc0e2e10>,\n",
       " 'iieCBBC1CiA': <mcts.Node at 0x7f9bdb5af208>}"
      ]
     },
     "execution_count": 28,
     "metadata": {},
     "output_type": "execute_result"
    }
   ],
   "source": [
    "all_nodes"
   ]
  },
  {
   "cell_type": "code",
   "execution_count": null,
   "metadata": {},
   "outputs": [],
   "source": []
  }
 ],
 "metadata": {
  "colab": {
   "name": "AI_env.ipynb",
   "provenance": [],
   "version": "0.3.2"
  },
  "kernelspec": {
   "display_name": "Python 3",
   "language": "python",
   "name": "python3"
  },
  "language_info": {
   "codemirror_mode": {
    "name": "ipython",
    "version": 3
   },
   "file_extension": ".py",
   "mimetype": "text/x-python",
   "name": "python",
   "nbconvert_exporter": "python",
   "pygments_lexer": "ipython3",
   "version": "3.7.2"
  }
 },
 "nbformat": 4,
 "nbformat_minor": 1
}
