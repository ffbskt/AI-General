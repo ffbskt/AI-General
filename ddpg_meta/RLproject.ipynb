{
 "cells": [
  {
   "cell_type": "markdown",
   "metadata": {
    "colab_type": "text",
    "id": "XdTSHxnrEolR"
   },
   "source": [
    "## Install"
   ]
  },
  {
   "cell_type": "code",
   "execution_count": 0,
   "metadata": {
    "colab": {},
    "colab_type": "code",
    "id": "ACcc994KJUnQ"
   },
   "outputs": [],
   "source": [
    "from google.colab import drive\n",
    "drive.mount('/content/gdrive')\n",
    "project_dir = '/content/gdrive/My Drive/ColabNotebooks/AdvRL/'\n",
    "import sys\n",
    "sys.path.insert(0, project_dir)\n"
   ]
  },
  {
   "cell_type": "code",
   "execution_count": 0,
   "metadata": {
    "colab": {},
    "colab_type": "code",
    "id": "fVMLk_Xg-NfS"
   },
   "outputs": [],
   "source": [
    "!sudo apt-get update && sudo apt-get install libopenmpi-dev"
   ]
  },
  {
   "cell_type": "code",
   "execution_count": 0,
   "metadata": {
    "colab": {},
    "colab_type": "code",
    "id": "kyQeiPysEmFQ"
   },
   "outputs": [],
   "source": [
    "!pip install mpi4py"
   ]
  },
  {
   "cell_type": "code",
   "execution_count": 0,
   "metadata": {
    "colab": {},
    "colab_type": "code",
    "id": "u1Q8Xwd-_G3H"
   },
   "outputs": [],
   "source": [
    "!wget https://raw.githubusercontent.com/ffbskt/AI-General/MCTS_next/ddpg_meta/agents.py -O agents.py\n",
    "!wget https://raw.githubusercontent.com/ffbskt/AI-General/MCTS_next/ddpg_meta/utils.py -O utils.py\n",
    "!wget https://raw.githubusercontent.com/ffbskt/AI-General/MCTS_next/ddpg_meta/games.py -O games.py\n",
    "!wget https://raw.githubusercontent.com/ffbskt/AI-General/MCTS_next/ddpg_meta/nets.py -O nets.py\n",
    "!wget https://raw.githubusercontent.com/ffbskt/AI-General/MCTS_next/ddpg_meta/replay_buffers.py -O replay_buffers.py"
   ]
  },
  {
   "cell_type": "markdown",
   "metadata": {
    "colab_type": "text",
    "id": "doZTBS3TFAAP"
   },
   "source": [
    "## Test"
   ]
  },
  {
   "cell_type": "markdown",
   "metadata": {
    "colab_type": "text",
    "id": "sB2QWOCVn5BR"
   },
   "source": [
    "### Default options\n",
    "* agent\n",
    "* env\n",
    "* ReplayBuffer\n",
    "* hiro\n"
   ]
  },
  {
   "cell_type": "code",
   "execution_count": 1,
   "metadata": {
    "colab": {},
    "colab_type": "code",
    "id": "rBNnzKkQVtCO"
   },
   "outputs": [
    {
     "name": "stderr",
     "output_type": "stream",
     "text": [
      "/home/denis/anaconda3/envs/spinningup/lib/python3.6/site-packages/gym/logger.py:30: UserWarning: \u001b[33mWARN: Box bound precision lowered by casting to float32\u001b[0m\n",
      "  warnings.warn(colorize('%s: %s'%('WARN', msg % args), 'yellow'))\n"
     ]
    }
   ],
   "source": [
    "\n",
    "import gym\n",
    "from replay_buffers import ReplayBuffer, TransisionWrapper\n",
    "from nets import MLPActorCritic\n",
    "from games import BitFlipping2, Env_add_Meta\n",
    "from utils import MiniLog\n",
    "from agents import DDPGAgent, HIRO\n",
    "import seaborn as sns\n",
    "import pandas as pd\n",
    "import matplotlib.pyplot as plt\n",
    "import glob, os\n",
    "# Default options\n",
    "size=5\n",
    "env_kw = dict(size=size, rad=1, discret_space=False, seed=0)\n",
    "env = BitFlipping2(**env_kw)\n",
    "envf = gym.wrappers.FlattenObservation(gym.wrappers.FilterObservation(env))\n",
    "\n",
    "agent_kwargs = dict(env=envf, replay_buffer=ReplayBuffer, net=MLPActorCritic, start_steps=2000, update_every=100, iters=None, update_after=1000,\n",
    "                 repl_size=50000, pi_lr=0.001, q_lr=0.001, batch_size=32, gamma=0.99, polyak=0.995,\n",
    "                 seed=0, act_noise=0.1, act_limit=None)\n",
    "hagent_kwargs = agent_kwargs"
   ]
  },
  {
   "cell_type": "code",
   "execution_count": 2,
   "metadata": {
    "colab": {},
    "colab_type": "code",
    "id": "CrC8BuZn_G56"
   },
   "outputs": [],
   "source": [
    "def expirement(steps, agent, env, seed=(0, 3), agent_name='agent', model_args={}):\n",
    "    o = env.reset()\n",
    "    log = MiniLog(200, kwargs=model_args, save_dir=project_dir + 'data_log',\n",
    "                  all_log_navigate=project_dir + 'data_log/log_navi')\n",
    "    print(log.time, end='.csv, ')\n",
    "    for s in seed:\n",
    "        agent.reset_agent(s)\n",
    "        for i in range(steps):\n",
    "\n",
    "            act = agent.get_action(o)\n",
    "            o2, r, d, _ = env.step(act)\n",
    "            log.rput(r, d)\n",
    "            agent.store(o, act, r, o2, d)\n",
    "            o = o2\n",
    "            if d:\n",
    "                o = env.reset()\n",
    "        log.pd_append(name=agent_name)\n",
    "    log.save()\n",
    "    return log\n",
    "\n",
    "\n",
    "\n",
    "\n",
    "\n",
    "# a = DDPGAgent(envf, ReplayBuffer, net=MLPActorCritic, start_steps=3000, update_every=50,\n",
    "#              repl_size=10000)\n",
    "def test_agent(agent):\n",
    "    sum_r = 0\n",
    "    n = 100\n",
    "    env = BitFlipping2(size, 1, False)\n",
    "    test_env = gym.wrappers.FlattenObservation(gym.wrappers.FilterObservation(env))\n",
    "    for j in range(n):\n",
    "        o, d, ep_len = test_env.reset(), False, 0\n",
    "        while not (d or (ep_len == 2 ** 7 + 4)):\n",
    "            # Take deterministic actions at test time (noise_scale=0)\n",
    "            o, r, d, _ = test_env.step(agent.get_action(o, 0))\n",
    "            sum_r += r  # TODO bad test for env with unlimit steps\n",
    "    return sum_r / n\n",
    "\n",
    "\n",
    "hiro_kwargs = dict(store_delay=20, train_delay=10, step_each=1, ado=None)\n"
   ]
  },
  {
   "cell_type": "code",
   "execution_count": 3,
   "metadata": {
    "colab": {},
    "colab_type": "code",
    "id": "MU9bCY3dQSJH"
   },
   "outputs": [
    {
     "ename": "ModuleNotFoundError",
     "evalue": "No module named 'sklearn'",
     "output_type": "error",
     "traceback": [
      "\u001b[0;31m---------------------------------------------------------------------------\u001b[0m",
      "\u001b[0;31mModuleNotFoundError\u001b[0m                       Traceback (most recent call last)",
      "\u001b[0;32m<ipython-input-3-55158b7a3207>\u001b[0m in \u001b[0;36m<module>\u001b[0;34m\u001b[0m\n\u001b[1;32m      1\u001b[0m \u001b[0mparam_grid\u001b[0m \u001b[0;34m=\u001b[0m \u001b[0mdict\u001b[0m\u001b[0;34m(\u001b[0m\u001b[0mstore_delay\u001b[0m\u001b[0;34m=\u001b[0m\u001b[0;34m[\u001b[0m\u001b[0;36m500\u001b[0m\u001b[0;34m]\u001b[0m\u001b[0;34m,\u001b[0m  \u001b[0mtrain_delay\u001b[0m\u001b[0;34m=\u001b[0m\u001b[0;34m[\u001b[0m\u001b[0;36m100\u001b[0m\u001b[0;34m]\u001b[0m\u001b[0;34m,\u001b[0m \u001b[0mstep_each\u001b[0m\u001b[0;34m=\u001b[0m\u001b[0;34m[\u001b[0m\u001b[0;36m2\u001b[0m\u001b[0;34m,\u001b[0m \u001b[0;36m4\u001b[0m\u001b[0;34m]\u001b[0m\u001b[0;34m)\u001b[0m\u001b[0;34m\u001b[0m\u001b[0;34m\u001b[0m\u001b[0m\n\u001b[1;32m      2\u001b[0m \u001b[0;34m\u001b[0m\u001b[0m\n\u001b[0;32m----> 3\u001b[0;31m \u001b[0;32mfrom\u001b[0m \u001b[0msklearn\u001b[0m\u001b[0;34m.\u001b[0m\u001b[0mmodel_selection\u001b[0m \u001b[0;32mimport\u001b[0m \u001b[0mParameterGrid\u001b[0m\u001b[0;34m\u001b[0m\u001b[0;34m\u001b[0m\u001b[0m\n\u001b[0m\u001b[1;32m      4\u001b[0m \u001b[0mparams\u001b[0m \u001b[0;34m=\u001b[0m \u001b[0;34m(\u001b[0m\u001b[0mlist\u001b[0m\u001b[0;34m(\u001b[0m\u001b[0mParameterGrid\u001b[0m\u001b[0;34m(\u001b[0m\u001b[0mparam_grid\u001b[0m\u001b[0;34m)\u001b[0m\u001b[0;34m)\u001b[0m\u001b[0;34m)\u001b[0m\u001b[0;34m\u001b[0m\u001b[0;34m\u001b[0m\u001b[0m\n\u001b[1;32m      5\u001b[0m \u001b[0mlen\u001b[0m\u001b[0;34m(\u001b[0m\u001b[0mparams\u001b[0m\u001b[0;34m)\u001b[0m\u001b[0;34m\u001b[0m\u001b[0;34m\u001b[0m\u001b[0m\n",
      "\u001b[0;31mModuleNotFoundError\u001b[0m: No module named 'sklearn'"
     ]
    }
   ],
   "source": [
    "param_grid = dict(store_delay=[500],  train_delay=[100], step_each=[2, 4])\n",
    "\n",
    "from sklearn.model_selection import ParameterGrid\n",
    "params = (list(ParameterGrid(param_grid))) \n",
    "len(params)"
   ]
  },
  {
   "cell_type": "code",
   "execution_count": 0,
   "metadata": {
    "colab": {},
    "colab_type": "code",
    "id": "xJDqXtvE21VI"
   },
   "outputs": [],
   "source": [
    "a = DDPGAgent(**agent_kwargs)\n",
    "expirement(500, a, envf, model_args={**agent_kwargs})"
   ]
  },
  {
   "cell_type": "code",
   "execution_count": 0,
   "metadata": {
    "colab": {},
    "colab_type": "code",
    "id": "CaFe8vrh-fZm"
   },
   "outputs": [],
   "source": [
    "hagent_kwargs['act_noise'] = 0\n",
    "for param in params:\n",
    "  hiro = HIRO(envf, low_agent_kwargs=agent_kwargs, high_agent_kwargs=hagent_kwargs, **param)\n",
    "  hiro.low_agent.buffer = TransisionWrapper(ado=[size,] * 3,obs_dim=envf.observation_space.shape[0], act_dim=envf.action_space.shape[0], size=30000)\n",
    "  expirement(50000, hiro, envf, model_args={**param})\n",
    " \n",
    "  #print(test_agent(hiro))\n"
   ]
  },
  {
   "cell_type": "code",
   "execution_count": 0,
   "metadata": {
    "colab": {},
    "colab_type": "code",
    "id": "LPc4M8CqN4zq"
   },
   "outputs": [],
   "source": [
    "env = BitFlipping2(size, 1, False)\n",
    "test_env = gym.wrappers.FlattenObservation(gym.wrappers.FilterObservation(env))\n",
    "#a = DDPGAgent(envf, ReplayBuffer, net=MLPActorCritic, start_steps=3000, update_every=50,\n",
    "#              repl_size=10000)\n",
    "def test_agent(test_env, agent):\n",
    "    sum_r = 0\n",
    "    n = 100\n",
    "    \n",
    "    for j in range(n):\n",
    "        o, d, ep_len = test_env.reset(), False, 0\n",
    "        while not (d or (ep_len == 2 ** 7+4)):\n",
    "            # Take deterministic actions at test time (noise_scale=0)\n",
    "            o, r, d, _ = test_env.step(agent.get_action(o, 0))\n",
    "            sum_r += r # TODO bad test for env with unlimit steps\n",
    "    return sum_r / n\n",
    "\n",
    "%time test_agent(test_env, hiro)"
   ]
  },
  {
   "cell_type": "code",
   "execution_count": 0,
   "metadata": {
    "colab": {},
    "colab_type": "code",
    "id": "HLL1k7owDi--"
   },
   "outputs": [],
   "source": [
    "params"
   ]
  },
  {
   "cell_type": "code",
   "execution_count": 6,
   "metadata": {
    "colab": {},
    "colab_type": "code",
    "id": "XTsoVCxUNKNx"
   },
   "outputs": [
    {
     "name": "stdout",
     "output_type": "stream",
     "text": [
      "20200612171529.csv\n"
     ]
    },
    {
     "name": "stderr",
     "output_type": "stream",
     "text": [
      "/home/denis/anaconda3/envs/spinningup/lib/python3.6/site-packages/scipy/stats/stats.py:1713: FutureWarning: Using a non-tuple sequence for multidimensional indexing is deprecated; use `arr[tuple(seq)]` instead of `arr[seq]`. In the future this will be interpreted as an array index, `arr[np.array(seq)]`, which will result either in an error or a different result.\n",
      "  return np.add.reduce(sorted[indexer] * weights, axis=axis) / sumval\n"
     ]
    },
    {
     "data": {
      "image/png": "[encoded data removed]",
      "text/plain": [
       "<Figure size 1634.4x1171.44 with 1 Axes>"
      ]
     },
     "metadata": {},
     "output_type": "display_data"
    }
   ],
   "source": [
    "project_dir = './'\n",
    "\n",
    "DIV_LINE_WIDTH = 10\n",
    "\n",
    "# Global vars for tracking and labeling data at load time.\n",
    "os.chdir(project_dir + \"data_log\")\n",
    "dt = None\n",
    "for n, file in zip('lule'.split(), '20200612171529.csv'.split(', ')):#glob.glob(\"*.csv\"):\n",
    "    if dt is None:\n",
    "\n",
    "        print(file)\n",
    "        dt = pd.read_csv(file)\n",
    "        dt['agent name'] = n # 'a' + str(file[:-4]) #\n",
    "        #print(dt.head())\n",
    "    else:\n",
    "        ndt = pd.read_csv(file)\n",
    "        ndt['agent name'] = n #'a' + str(file[:-4])\n",
    "        dt = dt.append(ndt, ignore_index=True)\n",
    "\n",
    "    #print(dt[dt['TotalEnvInteracts']==50])\n",
    "\n",
    "sns.set(rc={'figure.figsize':(22.7,16.27)})\n",
    "sns.lineplot(x='TotalEnvInteracts', y='AverageEpRet',  hue='agent name', data=dt)#, palette=[1])\n",
    "\n",
    "    #plt.legend()\n",
    "plt.show()"
   ]
  },
  {
   "cell_type": "markdown",
   "metadata": {
    "colab_type": "text",
    "id": "XOhrKe-HzWBY"
   },
   "source": [
    "## DDPG from source"
   ]
  },
  {
   "cell_type": "code",
   "execution_count": 0,
   "metadata": {
    "colab": {},
    "colab_type": "code",
    "id": "gADs4rYCzw_C"
   },
   "outputs": [],
   "source": [
    "import numpy as np\n",
    "import scipy.signal\n",
    "\n",
    "import torch\n",
    "import torch.nn as nn\n",
    "\n",
    "\n",
    "def combined_shape(length, shape=None):\n",
    "    if shape is None:\n",
    "        return (length,)\n",
    "    return (length, shape) if np.isscalar(shape) else (length, *shape)\n",
    "\n",
    "def mlp(sizes, activation, output_activation=nn.Identity):\n",
    "    layers = []\n",
    "    for j in range(len(sizes)-1):\n",
    "        act = activation if j < len(sizes)-2 else output_activation\n",
    "        layers += [nn.Linear(sizes[j], sizes[j+1]), act()]\n",
    "    return nn.Sequential(*layers)\n",
    "\n",
    "def count_vars(module):\n",
    "    return sum([np.prod(p.shape) for p in module.parameters()])\n",
    "\n",
    "class MLPActor(nn.Module):\n",
    "\n",
    "    def __init__(self, obs_dim, act_dim, hidden_sizes, activation, act_limit):\n",
    "        super().__init__()\n",
    "        pi_sizes = [obs_dim] + list(hidden_sizes) + [act_dim]\n",
    "        self.pi = mlp(pi_sizes, activation, nn.Tanh)\n",
    "        self.act_limit = act_limit\n",
    "\n",
    "    def forward(self, obs):\n",
    "        # Return output from network scaled to action space limits.\n",
    "        return self.act_limit * self.pi(obs)\n",
    "\n",
    "class MLPQFunction(nn.Module):\n",
    "\n",
    "    def __init__(self, obs_dim, act_dim, hidden_sizes, activation):\n",
    "        super().__init__()\n",
    "        self.q = mlp([obs_dim + act_dim] + list(hidden_sizes) + [1], activation)\n",
    "\n",
    "    def forward(self, obs, act):\n",
    "        q = self.q(torch.cat([obs, act], dim=-1))\n",
    "        return torch.squeeze(q, -1) # Critical to ensure q has right shape.\n",
    "\n",
    "class MLPActorCritic(nn.Module):\n",
    "\n",
    "    def __init__(self, observation_space, action_space, hidden_sizes=(256,256),\n",
    "                 activation=nn.ReLU):\n",
    "        super().__init__()\n",
    "\n",
    "        obs_dim = observation_space.shape[0]\n",
    "        act_dim = action_space.shape[0]\n",
    "        act_limit = action_space.high[0]\n",
    "\n",
    "        # build policy and value functions\n",
    "        self.pi = MLPActor(obs_dim, act_dim, hidden_sizes, activation, act_limit)\n",
    "        self.q = MLPQFunction(obs_dim, act_dim, hidden_sizes, activation)\n",
    "\n",
    "    def act(self, obs):\n",
    "        with torch.no_grad():\n",
    "            return self.pi(obs).numpy()\n"
   ]
  },
  {
   "cell_type": "code",
   "execution_count": 0,
   "metadata": {
    "colab": {},
    "colab_type": "code",
    "id": "NLJmooCer1L7"
   },
   "outputs": [],
   "source": [
    "from copy import deepcopy\n",
    "import numpy as np\n",
    "import torch\n",
    "from torch.optim import Adam\n",
    "import gym\n",
    "import time\n",
    "#import spinup.algos.pytorch.ddpg.core as core\n",
    "#from spinup.utils.logx import EpochLogger\n",
    "\n",
    "\n",
    "class ReplayBuffer:\n",
    "    \"\"\"\n",
    "    A simple FIFO experience replay buffer for DDPG agents.\n",
    "    \"\"\"\n",
    "\n",
    "    def __init__(self, obs_dim, act_dim, size):\n",
    "        self.obs_buf = np.zeros(combined_shape(size, obs_dim), dtype=np.float32)\n",
    "        self.obs2_buf = np.zeros(combined_shape(size, obs_dim), dtype=np.float32)\n",
    "        self.act_buf = np.zeros(combined_shape(size, act_dim), dtype=np.float32)\n",
    "        self.rew_buf = np.zeros(size, dtype=np.float32)\n",
    "        self.done_buf = np.zeros(size, dtype=np.float32)\n",
    "        self.ptr, self.size, self.max_size = 0, 0, size\n",
    "\n",
    "    def store(self, obs, act, rew, next_obs, done):\n",
    "        self.obs_buf[self.ptr] = obs\n",
    "        self.obs2_buf[self.ptr] = next_obs\n",
    "        self.act_buf[self.ptr] = act\n",
    "        self.rew_buf[self.ptr] = rew\n",
    "        self.done_buf[self.ptr] = done\n",
    "        self.ptr = (self.ptr+1) % self.max_size\n",
    "        self.size = min(self.size+1, self.max_size)\n",
    "\n",
    "    def sample_batch(self, batch_size=32):\n",
    "        idxs = np.random.randint(0, self.size, size=batch_size)\n",
    "        batch = dict(obs=self.obs_buf[idxs],\n",
    "                     obs2=self.obs2_buf[idxs],\n",
    "                     act=self.act_buf[idxs],\n",
    "                     rew=self.rew_buf[idxs],\n",
    "                     done=self.done_buf[idxs])\n",
    "        return {k: torch.as_tensor(v, dtype=torch.float32) for k,v in batch.items()}\n",
    "\n",
    "\n",
    "\n",
    "def ddpg(env_fn, actor_critic=MLPActorCritic, ac_kwargs=dict(), seed=0, \n",
    "         steps_per_epoch=4000, epochs=100, replay_size=int(1e6), gamma=0.99, \n",
    "         polyak=0.995, pi_lr=1e-3, q_lr=1e-3, batch_size=100, start_steps=10000, \n",
    "         update_after=1000, update_every=50, act_noise=0.1, num_test_episodes=10, \n",
    "         max_ep_len=1000, logger_kwargs=dict(), save_freq=1, log=None):\n",
    "    \"\"\"\n",
    "    Deep Deterministic Policy Gradient (DDPG)\n",
    "    Args:\n",
    "        env_fn : A function which creates a copy of the environment.\n",
    "            The environment must satisfy the OpenAI Gym API.\n",
    "        actor_critic: The constructor method for a PyTorch Module with an ``act`` \n",
    "            method, a ``pi`` module, and a ``q`` module. The ``act`` method and\n",
    "            ``pi`` module should accept batches of observations as inputs,\n",
    "            and ``q`` should accept a batch of observations and a batch of \n",
    "            actions as inputs. When called, these should return:\n",
    "            ===========  ================  ======================================\n",
    "            Call         Output Shape      Description\n",
    "            ===========  ================  ======================================\n",
    "            ``act``      (batch, act_dim)  | Numpy array of actions for each \n",
    "                                           | observation.\n",
    "            ``pi``       (batch, act_dim)  | Tensor containing actions from policy\n",
    "                                           | given observations.\n",
    "            ``q``        (batch,)          | Tensor containing the current estimate\n",
    "                                           | of Q* for the provided observations\n",
    "                                           | and actions. (Critical: make sure to\n",
    "                                           | flatten this!)\n",
    "            ===========  ================  ======================================\n",
    "        ac_kwargs (dict): Any kwargs appropriate for the ActorCritic object \n",
    "            you provided to DDPG.\n",
    "        seed (int): Seed for random number generators.\n",
    "        steps_per_epoch (int): Number of steps of interaction (state-action pairs) \n",
    "            for the agent and the environment in each epoch.\n",
    "        epochs (int): Number of epochs to run and train agent.\n",
    "        replay_size (int): Maximum length of replay buffer.\n",
    "        gamma (float): Discount factor. (Always between 0 and 1.)\n",
    "        polyak (float): Interpolation factor in polyak averaging for target \n",
    "            networks. Target networks are updated towards main networks \n",
    "            according to:\n",
    "            .. math:: \\\\theta_{\\\\text{targ}} \\\\leftarrow \n",
    "                \\\\rho \\\\theta_{\\\\text{targ}} + (1-\\\\rho) \\\\theta\n",
    "            where :math:`\\\\rho` is polyak. (Always between 0 and 1, usually \n",
    "            close to 1.)\n",
    "        pi_lr (float): Learning rate for policy.\n",
    "        q_lr (float): Learning rate for Q-networks.\n",
    "        batch_size (int): Minibatch size for SGD.\n",
    "        start_steps (int): Number of steps for uniform-random action selection,\n",
    "            before running real policy. Helps exploration.\n",
    "        update_after (int): Number of env interactions to collect before\n",
    "            starting to do gradient descent updates. Ensures replay buffer\n",
    "            is full enough for useful updates.\n",
    "        update_every (int): Number of env interactions that should elapse\n",
    "            between gradient descent updates. Note: Regardless of how long \n",
    "            you wait between updates, the ratio of env steps to gradient steps \n",
    "            is locked to 1.\n",
    "        act_noise (float): Stddev for Gaussian exploration noise added to \n",
    "            policy at training time. (At test time, no noise is added.)\n",
    "        num_test_episodes (int): Number of episodes to test the deterministic\n",
    "            policy at the end of each epoch.\n",
    "        max_ep_len (int): Maximum length of trajectory / episode / rollout.\n",
    "        logger_kwargs (dict): Keyword args for EpochLogger.\n",
    "        save_freq (int): How often (in terms of gap between epochs) to save\n",
    "            the current policy and value function.\n",
    "    \"\"\"\n",
    "\n",
    "    #logger = EpochLogger(**logger_kwargs)\n",
    "    #logger.save_config(locals())\n",
    "\n",
    "    torch.manual_seed(seed)\n",
    "    np.random.seed(seed)\n",
    "\n",
    "    env, test_env = env_fn(), env_fn()\n",
    "    obs_dim = env.observation_space.shape\n",
    "    act_dim = env.action_space.shape[0]\n",
    "\n",
    "    # Action limit for clamping: critically, assumes all dimensions share the same bound!\n",
    "    act_limit = env.action_space.high[0]\n",
    "\n",
    "    # Create actor-critic module and target networks\n",
    "    ac = actor_critic(env.observation_space, env.action_space, **ac_kwargs)\n",
    "    ac_targ = deepcopy(ac)\n",
    "\n",
    "    # Freeze target networks with respect to optimizers (only update via polyak averaging)\n",
    "    for p in ac_targ.parameters():\n",
    "        p.requires_grad = False\n",
    "\n",
    "    # Experience buffer\n",
    "    replay_buffer = ReplayBuffer(obs_dim=obs_dim, act_dim=act_dim, size=replay_size)\n",
    "\n",
    "    # Count variables (protip: try to get a feel for how different size networks behave!)\n",
    "    var_counts = tuple(count_vars(module) for module in [ac.pi, ac.q])\n",
    "    #logger.log('\\nNumber of parameters: \\t pi: %d, \\t q: %d\\n'%var_counts)\n",
    "\n",
    "    # Set up function for computing DDPG Q-loss\n",
    "    def compute_loss_q(data):\n",
    "        o, a, r, o2, d = data['obs'], data['act'], data['rew'], data['obs2'], data['done']\n",
    "\n",
    "        q = ac.q(o,a)\n",
    "\n",
    "        # Bellman backup for Q function\n",
    "        with torch.no_grad():\n",
    "            q_pi_targ = ac_targ.q(o2, ac_targ.pi(o2))\n",
    "            backup = r + gamma * (1 - d) * q_pi_targ\n",
    "\n",
    "        # MSE loss against Bellman backup\n",
    "        loss_q = ((q - backup)**2).mean()\n",
    "\n",
    "        # Useful info for logging\n",
    "        loss_info = dict(QVals=q.detach().numpy())\n",
    "\n",
    "        return loss_q, loss_info\n",
    "\n",
    "    # Set up function for computing DDPG pi loss\n",
    "    def compute_loss_pi(data):\n",
    "        o = data['obs']\n",
    "        q_pi = ac.q(o, ac.pi(o))\n",
    "        return -q_pi.mean()\n",
    "\n",
    "    # Set up optimizers for policy and q-function\n",
    "    pi_optimizer = Adam(ac.pi.parameters(), lr=pi_lr)\n",
    "    q_optimizer = Adam(ac.q.parameters(), lr=q_lr)\n",
    "\n",
    "    # Set up model saving\n",
    "    #logger.setup_pytorch_saver(ac)\n",
    "\n",
    "    def update(data):\n",
    "        # First run one gradient descent step for Q.\n",
    "        q_optimizer.zero_grad()\n",
    "        loss_q, loss_info = compute_loss_q(data)\n",
    "        loss_q.backward()\n",
    "        q_optimizer.step()\n",
    "\n",
    "        # Freeze Q-network so you don't waste computational effort \n",
    "        # computing gradients for it during the policy learning step.\n",
    "        for p in ac.q.parameters():\n",
    "            p.requires_grad = False\n",
    "\n",
    "        # Next run one gradient descent step for pi.\n",
    "        pi_optimizer.zero_grad()\n",
    "        loss_pi = compute_loss_pi(data)\n",
    "        loss_pi.backward()\n",
    "        pi_optimizer.step()\n",
    "\n",
    "        # Unfreeze Q-network so you can optimize it at next DDPG step.\n",
    "        for p in ac.q.parameters():\n",
    "            p.requires_grad = True\n",
    "\n",
    "        # Record things\n",
    "        #logger.store(LossQ=loss_q.item(), LossPi=loss_pi.item(), **loss_info)\n",
    "\n",
    "        # Finally, update target networks by polyak averaging.\n",
    "        with torch.no_grad():\n",
    "            for p, p_targ in zip(ac.parameters(), ac_targ.parameters()):\n",
    "                # NB: We use an in-place operations \"mul_\", \"add_\" to update target\n",
    "                # params, as opposed to \"mul\" and \"add\", which would make new tensors.\n",
    "                p_targ.data.mul_(polyak)\n",
    "                p_targ.data.add_((1 - polyak) * p.data)\n",
    "\n",
    "    def get_action(o, noise_scale):\n",
    "        a = ac.act(torch.as_tensor(o, dtype=torch.float32))\n",
    "        a += noise_scale * np.random.randn(act_dim)\n",
    "        return np.clip(a, -act_limit, act_limit)\n",
    "\n",
    "    def test_agent(log):\n",
    "        for j in range(num_test_episodes):\n",
    "            o, d, ep_ret, ep_len = test_env.reset(), False, 0, 0\n",
    "            while not(d or (ep_len == max_ep_len)):\n",
    "                # Take deterministic actions at test time (noise_scale=0)\n",
    "                o, r, d, _ = test_env.step(get_action(o, 0))\n",
    "                ep_ret += r\n",
    "                ep_len += 1\n",
    "                log.rput(r, d)\n",
    "            #logger.store(TestEpRet=ep_ret, TestEpLen=ep_len)\n",
    "\n",
    "    # Prepare for interaction with environment\n",
    "    total_steps = steps_per_epoch * epochs\n",
    "    start_time = time.time()\n",
    "    o, ep_ret, ep_len = env.reset(), 0, 0\n",
    "\n",
    "    # Main loop: collect experience in env and update/log each epoch\n",
    "    for t in range(total_steps):\n",
    "        \n",
    "        # Until start_steps have elapsed, randomly sample actions\n",
    "        # from a uniform distribution for better exploration. Afterwards, \n",
    "        # use the learned policy (with some noise, via act_noise). \n",
    "        if t > start_steps:\n",
    "            a = get_action(o, act_noise)\n",
    "        else:\n",
    "            a = env.action_space.sample()\n",
    "\n",
    "        # Step the env\n",
    "        o2, r, d, _ = env.step(a)\n",
    "        ep_ret += r\n",
    "        ep_len += 1\n",
    "        log.rput(r, d)\n",
    "\n",
    "        # Ignore the \"done\" signal if it comes from hitting the time\n",
    "        # horizon (that is, when it's an artificial terminal signal\n",
    "        # that isn't based on the agent's state)\n",
    "        d = False if ep_len==max_ep_len else d\n",
    "\n",
    "        # Store experience to replay buffer\n",
    "        replay_buffer.store(o, a, r, o2, d)\n",
    "\n",
    "        # Super critical, easy to overlook step: make sure to update \n",
    "        # most recent observation!\n",
    "        o = o2\n",
    "\n",
    "        # End of trajectory handling\n",
    "        if d or (ep_len == max_ep_len):\n",
    "            #logger.store(EpRet=ep_ret, EpLen=ep_len)\n",
    "            o, ep_ret, ep_len = env.reset(), 0, 0\n",
    "\n",
    "        # Update handling\n",
    "        if t >= update_after and t % update_every == 0:\n",
    "            for _ in range(update_every):\n",
    "                batch = replay_buffer.sample_batch(batch_size)\n",
    "                update(data=batch)\n",
    "\n",
    "        # End of epoch handling\n",
    "        if (t+1) % steps_per_epoch == 0:\n",
    "            epoch = (t+1) // steps_per_epoch\n",
    "\n",
    "            # Save model\n",
    "            #if (epoch % save_freq == 0) or (epoch == epochs):\n",
    "            #    logger.save_state({'env': env}, None)\n",
    "\n",
    "            # Test the performance of the deterministic version of the agent.\n",
    "            \n",
    "            #test_agent(log)\n",
    "    log.pd_append(name='sourcetest1')\n",
    "\n",
    "            # Log info about epoch\n",
    "    \n",
    "    log.save()\n",
    "            \n",
    "\n",
    "\n",
    "\n",
    "#from spinup.utils.run_utils import setup_logger_kwargs\n",
    "#logger_kwargs = setup_logger_kwargs(args.exp_name, args.seed)\n",
    "def make_env():\n",
    "  env = BitFlipping2(**env_kw)\n",
    "  envf = gym.wrappers.FlattenObservation(gym.wrappers.FilterObservation(env))\n",
    "  return envf\n",
    "\n",
    "\n",
    "log = MiniLog(100, kwargs={}, save_dir=project_dir+'data_log', all_log_navigate=project_dir+'data_log/log_navi')\n",
    "ddpg(make_env, actor_critic=MLPActorCritic, epochs=400, start_steps=10000, update_after=2000, steps_per_epoch=100, seed=0, log=log)\n",
    "    #ac_kwargs=dict(hidden_sizes=[args.hid]*args.l), \n",
    "    #gamma=args.gamma, seed=args.seed,\n",
    "    \n"
   ]
  },
  {
   "cell_type": "code",
   "execution_count": 0,
   "metadata": {
    "colab": {},
    "colab_type": "code",
    "id": "0dSCLMxA_yn8"
   },
   "outputs": [],
   "source": [
    "log.rplot(), env_kw"
   ]
  },
  {
   "cell_type": "markdown",
   "metadata": {
    "colab_type": "text",
    "id": "J7KoXm_HSVUi"
   },
   "source": [
    "# Try to test on other environments"
   ]
  },
  {
   "cell_type": "code",
   "execution_count": 0,
   "metadata": {
    "colab": {},
    "colab_type": "code",
    "id": "zsTL8-t6WMEi"
   },
   "outputs": [],
   "source": [
    "import gym"
   ]
  },
  {
   "cell_type": "code",
   "execution_count": 0,
   "metadata": {
    "colab": {},
    "colab_type": "code",
    "id": "lxfzHiN_3GQ-"
   },
   "outputs": [],
   "source": [
    "env = gym.make('LunarLanderContinuous-v2') # if not work reset notebook"
   ]
  },
  {
   "cell_type": "code",
   "execution_count": 0,
   "metadata": {
    "colab": {},
    "colab_type": "code",
    "id": "f-kN7jbuZpZ-"
   },
   "outputs": [],
   "source": [
    "env.action_space.shape"
   ]
  },
  {
   "cell_type": "code",
   "execution_count": 0,
   "metadata": {
    "colab": {},
    "colab_type": "code",
    "id": "xJ3t72ulXuSJ"
   },
   "outputs": [],
   "source": [
    "class ActionSpace:\n",
    "    def __init__(self, shape):\n",
    "        self.shape = [shape]\n",
    "        self.high = np.ones(shape)\n",
    "\n",
    "def make_env():\n",
    "  env =  gym.make('LunarLanderContinuous-v2')\n",
    "  #env = BitFlipping2(**env_kw)\n",
    "  envf = gym.wrappers.FlattenObservation(gym.wrappers.FilterObservation(env))\n",
    "  return envf\n",
    "\n",
    "\n",
    "log = MiniLog(100, kwargs={}, save_dir=project_dir+'data_log', all_log_navigate=project_dir+'data_log/log_navi')\n",
    "ddpg(make_env, actor_critic=MLPActorCritic, epochs=400, start_steps=10000, update_after=2000, steps_per_epoch=100, seed=0, log=log)"
   ]
  },
  {
   "cell_type": "code",
   "execution_count": 0,
   "metadata": {
    "colab": {},
    "colab_type": "code",
    "id": "kUqnbIDFZ3y7"
   },
   "outputs": [],
   "source": [
    "log.rplot()"
   ]
  },
  {
   "cell_type": "code",
   "execution_count": 0,
   "metadata": {
    "colab": {},
    "colab_type": "code",
    "id": "KN1lJU12NAk6"
   },
   "outputs": [],
   "source": [
    "env.observation_space"
   ]
  },
  {
   "cell_type": "code",
   "execution_count": 0,
   "metadata": {
    "colab": {},
    "colab_type": "code",
    "id": "Arn1hrLDTiSm"
   },
   "outputs": [],
   "source": [
    "#env = BitFlipping2(**env_kw)\n",
    "env =  gym.make('LunarLanderContinuous-v2')\n",
    "#envf = gym.wrappers.FlattenObservation(gym.wrappers.FilterObservation(env))\n",
    "\n",
    "agent_kwargs = dict(env=envf, replay_buffer=ReplayBuffer, net=MLPActorCritic, start_steps=2000, update_every=100, iters=None, update_after=1000,\n",
    "                 repl_size=50000, pi_lr=0.001, q_lr=0.001, batch_size=32, gamma=0.99, polyak=0.995,\n",
    "                 seed=0, act_noise=0.1, act_limit=None)\n",
    "hagent_kwargs = agent_kwargs"
   ]
  },
  {
   "cell_type": "code",
   "execution_count": 0,
   "metadata": {
    "colab": {},
    "colab_type": "code",
    "id": "ppM3LrdcT2BV"
   },
   "outputs": [],
   "source": [
    "def expirement(steps, agent, env, seed=(0, 3), agent_name='agent', model_args={}):\n",
    "    o = env.reset()\n",
    "    log = MiniLog(200, kwargs=model_args, save_dir=project_dir + 'data_log',\n",
    "                  all_log_navigate=project_dir + 'data_log/log_navi')\n",
    "    print(log.time, end='.csv, ')\n",
    "    for s in seed:\n",
    "        agent.reset_agent(s)\n",
    "        for i in range(steps):\n",
    "\n",
    "            act = agent.get_action(o)\n",
    "            o2, r, d, _ = env.step(act)\n",
    "            log.rput(r, d)\n",
    "            agent.store(o, act, r, o2, d)\n",
    "            o = o2\n",
    "            if d:\n",
    "                o = env.reset()\n",
    "        log.pd_append(name=agent_name)\n",
    "    log.save()\n",
    "    return log"
   ]
  },
  {
   "cell_type": "code",
   "execution_count": 0,
   "metadata": {
    "colab": {},
    "colab_type": "code",
    "id": "U9E8FnUpUBv9"
   },
   "outputs": [],
   "source": []
  },
  {
   "cell_type": "code",
   "execution_count": 0,
   "metadata": {
    "colab": {},
    "colab_type": "code",
    "id": "NxOYW8vnUCMH"
   },
   "outputs": [],
   "source": [
    "param_grid = dict(store_delay=[500],  train_delay=[100], step_each=[2, 4])\n",
    "\n",
    "from sklearn.model_selection import ParameterGrid\n",
    "params = (list(ParameterGrid(param_grid))) \n",
    "len(params)"
   ]
  },
  {
   "cell_type": "code",
   "execution_count": 0,
   "metadata": {
    "colab": {},
    "colab_type": "code",
    "id": "sOvgtiwvUCML"
   },
   "outputs": [],
   "source": [
    "a = DDPGAgent(**agent_kwargs)\n",
    "expirement(50000, a, env, model_args={**agent_kwargs})"
   ]
  },
  {
   "cell_type": "code",
   "execution_count": 0,
   "metadata": {
    "colab": {},
    "colab_type": "code",
    "id": "AS6WLnjoU0az"
   },
   "outputs": [],
   "source": [
    "dt = None\n",
    "for n, file in zip('lunrad'.split(), '20200602175524.csv, '.split(', ')):#glob.glob(\"*.csv\"):\n",
    "    if dt is None:\n",
    "\n",
    "        print(file)\n",
    "        dt = pd.read_csv(file)\n",
    "        dt['agent name'] = n # 'a' + str(file[:-4]) #\n",
    "        #print(dt.head())\n",
    "    else:\n",
    "        ndt = pd.read_csv(file)\n",
    "        ndt['agent name'] = n #'a' + str(file[:-4])\n",
    "        dt = dt.append(ndt, ignore_index=True)\n",
    "\n",
    "    #print(dt[dt['TotalEnvInteracts']==50])\n",
    "\n",
    "sns.set(rc={'figure.figsize':(22.7,16.27)})\n",
    "sns.lineplot(x='TotalEnvInteracts', y='AverageEpRet',  hue='agent name', data=dt)#, palette=[1])\n",
    "\n",
    "    #plt.legend()\n",
    "plt.show()"
   ]
  },
  {
   "cell_type": "code",
   "execution_count": 0,
   "metadata": {
    "colab": {},
    "colab_type": "code",
    "id": "kN56XKLnYnLH"
   },
   "outputs": [],
   "source": []
  }
 ],
 "metadata": {
  "colab": {
   "collapsed_sections": [],
   "name": "RLproject.ipynb",
   "private_outputs": true,
   "provenance": []
  },
  "kernelspec": {
   "display_name": "Python 3",
   "language": "python",
   "name": "python3"
  },
  "language_info": {
   "codemirror_mode": {
    "name": "ipython",
    "version": 3
   },
   "file_extension": ".py",
   "mimetype": "text/x-python",
   "name": "python",
   "nbconvert_exporter": "python",
   "pygments_lexer": "ipython3",
   "version": "3.6.10"
  }
 },
 "nbformat": 4,
 "nbformat_minor": 1
}
